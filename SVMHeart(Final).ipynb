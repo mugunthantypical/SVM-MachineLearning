{
 "cells": [
  {
   "cell_type": "markdown",
   "id": "ae29be3d",
   "metadata": {},
   "source": [
    "# Importing Library and Dataset"
   ]
  },
  {
   "cell_type": "code",
   "execution_count": 1,
   "id": "fc05ec66",
   "metadata": {},
   "outputs": [],
   "source": [
    "# !conda install -y matplotlib\n",
    "import numpy as np\n",
    "import seaborn as sns\n",
    "#import matplotlib.pyplot as plt\n",
    "#import os.path as osp\n",
    "import numpy.random as npr\n",
    "# !conda install pandas=0.16.0\n",
    "import pandas as pd\n",
    "import os"
   ]
  },
  {
   "cell_type": "code",
   "execution_count": null,
   "id": "2f4e99a5",
   "metadata": {},
   "outputs": [],
   "source": [
    "# cd to-dataset-folder"
   ]
  },
  {
   "cell_type": "code",
   "execution_count": 3,
   "id": "4730d340",
   "metadata": {},
   "outputs": [],
   "source": [
    "import pandas as pd\n",
    "import numpy as np"
   ]
  },
  {
   "cell_type": "code",
   "execution_count": 4,
   "id": "522bb240",
   "metadata": {},
   "outputs": [
    {
     "data": {
      "text/html": [
       "<div>\n",
       "<style scoped>\n",
       "    .dataframe tbody tr th:only-of-type {\n",
       "        vertical-align: middle;\n",
       "    }\n",
       "\n",
       "    .dataframe tbody tr th {\n",
       "        vertical-align: top;\n",
       "    }\n",
       "\n",
       "    .dataframe thead th {\n",
       "        text-align: right;\n",
       "    }\n",
       "</style>\n",
       "<table border=\"1\" class=\"dataframe\">\n",
       "  <thead>\n",
       "    <tr style=\"text-align: right;\">\n",
       "      <th></th>\n",
       "      <th>age</th>\n",
       "      <th>sex</th>\n",
       "      <th>cp</th>\n",
       "      <th>trestbps</th>\n",
       "      <th>chol</th>\n",
       "      <th>fbs</th>\n",
       "      <th>restecg</th>\n",
       "      <th>thalach</th>\n",
       "      <th>exang</th>\n",
       "      <th>oldpeak</th>\n",
       "      <th>slope</th>\n",
       "      <th>ca</th>\n",
       "      <th>thal</th>\n",
       "      <th>target</th>\n",
       "    </tr>\n",
       "  </thead>\n",
       "  <tbody>\n",
       "    <tr>\n",
       "      <th>0</th>\n",
       "      <td>52</td>\n",
       "      <td>1</td>\n",
       "      <td>0</td>\n",
       "      <td>125</td>\n",
       "      <td>212</td>\n",
       "      <td>0</td>\n",
       "      <td>1</td>\n",
       "      <td>168</td>\n",
       "      <td>0</td>\n",
       "      <td>1.0</td>\n",
       "      <td>2</td>\n",
       "      <td>2</td>\n",
       "      <td>3</td>\n",
       "      <td>0</td>\n",
       "    </tr>\n",
       "    <tr>\n",
       "      <th>1</th>\n",
       "      <td>53</td>\n",
       "      <td>1</td>\n",
       "      <td>0</td>\n",
       "      <td>140</td>\n",
       "      <td>203</td>\n",
       "      <td>1</td>\n",
       "      <td>0</td>\n",
       "      <td>155</td>\n",
       "      <td>1</td>\n",
       "      <td>3.1</td>\n",
       "      <td>0</td>\n",
       "      <td>0</td>\n",
       "      <td>3</td>\n",
       "      <td>0</td>\n",
       "    </tr>\n",
       "    <tr>\n",
       "      <th>2</th>\n",
       "      <td>70</td>\n",
       "      <td>1</td>\n",
       "      <td>0</td>\n",
       "      <td>145</td>\n",
       "      <td>174</td>\n",
       "      <td>0</td>\n",
       "      <td>1</td>\n",
       "      <td>125</td>\n",
       "      <td>1</td>\n",
       "      <td>2.6</td>\n",
       "      <td>0</td>\n",
       "      <td>0</td>\n",
       "      <td>3</td>\n",
       "      <td>0</td>\n",
       "    </tr>\n",
       "    <tr>\n",
       "      <th>3</th>\n",
       "      <td>61</td>\n",
       "      <td>1</td>\n",
       "      <td>0</td>\n",
       "      <td>148</td>\n",
       "      <td>203</td>\n",
       "      <td>0</td>\n",
       "      <td>1</td>\n",
       "      <td>161</td>\n",
       "      <td>0</td>\n",
       "      <td>0.0</td>\n",
       "      <td>2</td>\n",
       "      <td>1</td>\n",
       "      <td>3</td>\n",
       "      <td>0</td>\n",
       "    </tr>\n",
       "    <tr>\n",
       "      <th>4</th>\n",
       "      <td>62</td>\n",
       "      <td>0</td>\n",
       "      <td>0</td>\n",
       "      <td>138</td>\n",
       "      <td>294</td>\n",
       "      <td>1</td>\n",
       "      <td>1</td>\n",
       "      <td>106</td>\n",
       "      <td>0</td>\n",
       "      <td>1.9</td>\n",
       "      <td>1</td>\n",
       "      <td>3</td>\n",
       "      <td>2</td>\n",
       "      <td>0</td>\n",
       "    </tr>\n",
       "    <tr>\n",
       "      <th>...</th>\n",
       "      <td>...</td>\n",
       "      <td>...</td>\n",
       "      <td>...</td>\n",
       "      <td>...</td>\n",
       "      <td>...</td>\n",
       "      <td>...</td>\n",
       "      <td>...</td>\n",
       "      <td>...</td>\n",
       "      <td>...</td>\n",
       "      <td>...</td>\n",
       "      <td>...</td>\n",
       "      <td>...</td>\n",
       "      <td>...</td>\n",
       "      <td>...</td>\n",
       "    </tr>\n",
       "    <tr>\n",
       "      <th>1020</th>\n",
       "      <td>59</td>\n",
       "      <td>1</td>\n",
       "      <td>1</td>\n",
       "      <td>140</td>\n",
       "      <td>221</td>\n",
       "      <td>0</td>\n",
       "      <td>1</td>\n",
       "      <td>164</td>\n",
       "      <td>1</td>\n",
       "      <td>0.0</td>\n",
       "      <td>2</td>\n",
       "      <td>0</td>\n",
       "      <td>2</td>\n",
       "      <td>1</td>\n",
       "    </tr>\n",
       "    <tr>\n",
       "      <th>1021</th>\n",
       "      <td>60</td>\n",
       "      <td>1</td>\n",
       "      <td>0</td>\n",
       "      <td>125</td>\n",
       "      <td>258</td>\n",
       "      <td>0</td>\n",
       "      <td>0</td>\n",
       "      <td>141</td>\n",
       "      <td>1</td>\n",
       "      <td>2.8</td>\n",
       "      <td>1</td>\n",
       "      <td>1</td>\n",
       "      <td>3</td>\n",
       "      <td>0</td>\n",
       "    </tr>\n",
       "    <tr>\n",
       "      <th>1022</th>\n",
       "      <td>47</td>\n",
       "      <td>1</td>\n",
       "      <td>0</td>\n",
       "      <td>110</td>\n",
       "      <td>275</td>\n",
       "      <td>0</td>\n",
       "      <td>0</td>\n",
       "      <td>118</td>\n",
       "      <td>1</td>\n",
       "      <td>1.0</td>\n",
       "      <td>1</td>\n",
       "      <td>1</td>\n",
       "      <td>2</td>\n",
       "      <td>0</td>\n",
       "    </tr>\n",
       "    <tr>\n",
       "      <th>1023</th>\n",
       "      <td>50</td>\n",
       "      <td>0</td>\n",
       "      <td>0</td>\n",
       "      <td>110</td>\n",
       "      <td>254</td>\n",
       "      <td>0</td>\n",
       "      <td>0</td>\n",
       "      <td>159</td>\n",
       "      <td>0</td>\n",
       "      <td>0.0</td>\n",
       "      <td>2</td>\n",
       "      <td>0</td>\n",
       "      <td>2</td>\n",
       "      <td>1</td>\n",
       "    </tr>\n",
       "    <tr>\n",
       "      <th>1024</th>\n",
       "      <td>54</td>\n",
       "      <td>1</td>\n",
       "      <td>0</td>\n",
       "      <td>120</td>\n",
       "      <td>188</td>\n",
       "      <td>0</td>\n",
       "      <td>1</td>\n",
       "      <td>113</td>\n",
       "      <td>0</td>\n",
       "      <td>1.4</td>\n",
       "      <td>1</td>\n",
       "      <td>1</td>\n",
       "      <td>3</td>\n",
       "      <td>0</td>\n",
       "    </tr>\n",
       "  </tbody>\n",
       "</table>\n",
       "<p>1025 rows × 14 columns</p>\n",
       "</div>"
      ],
      "text/plain": [
       "      age  sex  cp  trestbps  chol  fbs  restecg  thalach  exang  oldpeak  \\\n",
       "0      52    1   0       125   212    0        1      168      0      1.0   \n",
       "1      53    1   0       140   203    1        0      155      1      3.1   \n",
       "2      70    1   0       145   174    0        1      125      1      2.6   \n",
       "3      61    1   0       148   203    0        1      161      0      0.0   \n",
       "4      62    0   0       138   294    1        1      106      0      1.9   \n",
       "...   ...  ...  ..       ...   ...  ...      ...      ...    ...      ...   \n",
       "1020   59    1   1       140   221    0        1      164      1      0.0   \n",
       "1021   60    1   0       125   258    0        0      141      1      2.8   \n",
       "1022   47    1   0       110   275    0        0      118      1      1.0   \n",
       "1023   50    0   0       110   254    0        0      159      0      0.0   \n",
       "1024   54    1   0       120   188    0        1      113      0      1.4   \n",
       "\n",
       "      slope  ca  thal  target  \n",
       "0         2   2     3       0  \n",
       "1         0   0     3       0  \n",
       "2         0   0     3       0  \n",
       "3         2   1     3       0  \n",
       "4         1   3     2       0  \n",
       "...     ...  ..   ...     ...  \n",
       "1020      2   0     2       1  \n",
       "1021      1   1     3       0  \n",
       "1022      1   1     2       0  \n",
       "1023      2   0     2       1  \n",
       "1024      1   1     3       0  \n",
       "\n",
       "[1025 rows x 14 columns]"
      ]
     },
     "execution_count": 4,
     "metadata": {},
     "output_type": "execute_result"
    }
   ],
   "source": [
    "dfDisposed = pd.read_csv(\"heart.csv\") \n",
    "dfDisposed"
   ]
  },
  {
   "cell_type": "code",
   "execution_count": 5,
   "id": "e80ef2bf",
   "metadata": {},
   "outputs": [
    {
     "name": "stdout",
     "output_type": "stream",
     "text": [
      "723\n"
     ]
    }
   ],
   "source": [
    "# check for duplicates\n",
    "duplicate = dfDisposed[dfDisposed.duplicated()]\n",
    "print(dfDisposed.duplicated().sum())"
   ]
  },
  {
   "cell_type": "code",
   "execution_count": 6,
   "id": "29fd89b8",
   "metadata": {},
   "outputs": [
    {
     "data": {
      "text/html": [
       "<div>\n",
       "<style scoped>\n",
       "    .dataframe tbody tr th:only-of-type {\n",
       "        vertical-align: middle;\n",
       "    }\n",
       "\n",
       "    .dataframe tbody tr th {\n",
       "        vertical-align: top;\n",
       "    }\n",
       "\n",
       "    .dataframe thead th {\n",
       "        text-align: right;\n",
       "    }\n",
       "</style>\n",
       "<table border=\"1\" class=\"dataframe\">\n",
       "  <thead>\n",
       "    <tr style=\"text-align: right;\">\n",
       "      <th></th>\n",
       "      <th>age</th>\n",
       "      <th>sex</th>\n",
       "      <th>cp</th>\n",
       "      <th>trestbps</th>\n",
       "      <th>chol</th>\n",
       "      <th>fbs</th>\n",
       "      <th>restecg</th>\n",
       "      <th>thalach</th>\n",
       "      <th>exang</th>\n",
       "      <th>oldpeak</th>\n",
       "      <th>slope</th>\n",
       "      <th>ca</th>\n",
       "      <th>thal</th>\n",
       "      <th>target</th>\n",
       "    </tr>\n",
       "  </thead>\n",
       "  <tbody>\n",
       "    <tr>\n",
       "      <th>0</th>\n",
       "      <td>52</td>\n",
       "      <td>1</td>\n",
       "      <td>0</td>\n",
       "      <td>125</td>\n",
       "      <td>212</td>\n",
       "      <td>0</td>\n",
       "      <td>1</td>\n",
       "      <td>168</td>\n",
       "      <td>0</td>\n",
       "      <td>1.0</td>\n",
       "      <td>2</td>\n",
       "      <td>2</td>\n",
       "      <td>3</td>\n",
       "      <td>0</td>\n",
       "    </tr>\n",
       "    <tr>\n",
       "      <th>1</th>\n",
       "      <td>53</td>\n",
       "      <td>1</td>\n",
       "      <td>0</td>\n",
       "      <td>140</td>\n",
       "      <td>203</td>\n",
       "      <td>1</td>\n",
       "      <td>0</td>\n",
       "      <td>155</td>\n",
       "      <td>1</td>\n",
       "      <td>3.1</td>\n",
       "      <td>0</td>\n",
       "      <td>0</td>\n",
       "      <td>3</td>\n",
       "      <td>0</td>\n",
       "    </tr>\n",
       "    <tr>\n",
       "      <th>2</th>\n",
       "      <td>70</td>\n",
       "      <td>1</td>\n",
       "      <td>0</td>\n",
       "      <td>145</td>\n",
       "      <td>174</td>\n",
       "      <td>0</td>\n",
       "      <td>1</td>\n",
       "      <td>125</td>\n",
       "      <td>1</td>\n",
       "      <td>2.6</td>\n",
       "      <td>0</td>\n",
       "      <td>0</td>\n",
       "      <td>3</td>\n",
       "      <td>0</td>\n",
       "    </tr>\n",
       "    <tr>\n",
       "      <th>3</th>\n",
       "      <td>61</td>\n",
       "      <td>1</td>\n",
       "      <td>0</td>\n",
       "      <td>148</td>\n",
       "      <td>203</td>\n",
       "      <td>0</td>\n",
       "      <td>1</td>\n",
       "      <td>161</td>\n",
       "      <td>0</td>\n",
       "      <td>0.0</td>\n",
       "      <td>2</td>\n",
       "      <td>1</td>\n",
       "      <td>3</td>\n",
       "      <td>0</td>\n",
       "    </tr>\n",
       "    <tr>\n",
       "      <th>4</th>\n",
       "      <td>62</td>\n",
       "      <td>0</td>\n",
       "      <td>0</td>\n",
       "      <td>138</td>\n",
       "      <td>294</td>\n",
       "      <td>1</td>\n",
       "      <td>1</td>\n",
       "      <td>106</td>\n",
       "      <td>0</td>\n",
       "      <td>1.9</td>\n",
       "      <td>1</td>\n",
       "      <td>3</td>\n",
       "      <td>2</td>\n",
       "      <td>0</td>\n",
       "    </tr>\n",
       "    <tr>\n",
       "      <th>...</th>\n",
       "      <td>...</td>\n",
       "      <td>...</td>\n",
       "      <td>...</td>\n",
       "      <td>...</td>\n",
       "      <td>...</td>\n",
       "      <td>...</td>\n",
       "      <td>...</td>\n",
       "      <td>...</td>\n",
       "      <td>...</td>\n",
       "      <td>...</td>\n",
       "      <td>...</td>\n",
       "      <td>...</td>\n",
       "      <td>...</td>\n",
       "      <td>...</td>\n",
       "    </tr>\n",
       "    <tr>\n",
       "      <th>723</th>\n",
       "      <td>68</td>\n",
       "      <td>0</td>\n",
       "      <td>2</td>\n",
       "      <td>120</td>\n",
       "      <td>211</td>\n",
       "      <td>0</td>\n",
       "      <td>0</td>\n",
       "      <td>115</td>\n",
       "      <td>0</td>\n",
       "      <td>1.5</td>\n",
       "      <td>1</td>\n",
       "      <td>0</td>\n",
       "      <td>2</td>\n",
       "      <td>1</td>\n",
       "    </tr>\n",
       "    <tr>\n",
       "      <th>733</th>\n",
       "      <td>44</td>\n",
       "      <td>0</td>\n",
       "      <td>2</td>\n",
       "      <td>108</td>\n",
       "      <td>141</td>\n",
       "      <td>0</td>\n",
       "      <td>1</td>\n",
       "      <td>175</td>\n",
       "      <td>0</td>\n",
       "      <td>0.6</td>\n",
       "      <td>1</td>\n",
       "      <td>0</td>\n",
       "      <td>2</td>\n",
       "      <td>1</td>\n",
       "    </tr>\n",
       "    <tr>\n",
       "      <th>739</th>\n",
       "      <td>52</td>\n",
       "      <td>1</td>\n",
       "      <td>0</td>\n",
       "      <td>128</td>\n",
       "      <td>255</td>\n",
       "      <td>0</td>\n",
       "      <td>1</td>\n",
       "      <td>161</td>\n",
       "      <td>1</td>\n",
       "      <td>0.0</td>\n",
       "      <td>2</td>\n",
       "      <td>1</td>\n",
       "      <td>3</td>\n",
       "      <td>0</td>\n",
       "    </tr>\n",
       "    <tr>\n",
       "      <th>843</th>\n",
       "      <td>59</td>\n",
       "      <td>1</td>\n",
       "      <td>3</td>\n",
       "      <td>160</td>\n",
       "      <td>273</td>\n",
       "      <td>0</td>\n",
       "      <td>0</td>\n",
       "      <td>125</td>\n",
       "      <td>0</td>\n",
       "      <td>0.0</td>\n",
       "      <td>2</td>\n",
       "      <td>0</td>\n",
       "      <td>2</td>\n",
       "      <td>0</td>\n",
       "    </tr>\n",
       "    <tr>\n",
       "      <th>878</th>\n",
       "      <td>54</td>\n",
       "      <td>1</td>\n",
       "      <td>0</td>\n",
       "      <td>120</td>\n",
       "      <td>188</td>\n",
       "      <td>0</td>\n",
       "      <td>1</td>\n",
       "      <td>113</td>\n",
       "      <td>0</td>\n",
       "      <td>1.4</td>\n",
       "      <td>1</td>\n",
       "      <td>1</td>\n",
       "      <td>3</td>\n",
       "      <td>0</td>\n",
       "    </tr>\n",
       "  </tbody>\n",
       "</table>\n",
       "<p>302 rows × 14 columns</p>\n",
       "</div>"
      ],
      "text/plain": [
       "     age  sex  cp  trestbps  chol  fbs  restecg  thalach  exang  oldpeak  \\\n",
       "0     52    1   0       125   212    0        1      168      0      1.0   \n",
       "1     53    1   0       140   203    1        0      155      1      3.1   \n",
       "2     70    1   0       145   174    0        1      125      1      2.6   \n",
       "3     61    1   0       148   203    0        1      161      0      0.0   \n",
       "4     62    0   0       138   294    1        1      106      0      1.9   \n",
       "..   ...  ...  ..       ...   ...  ...      ...      ...    ...      ...   \n",
       "723   68    0   2       120   211    0        0      115      0      1.5   \n",
       "733   44    0   2       108   141    0        1      175      0      0.6   \n",
       "739   52    1   0       128   255    0        1      161      1      0.0   \n",
       "843   59    1   3       160   273    0        0      125      0      0.0   \n",
       "878   54    1   0       120   188    0        1      113      0      1.4   \n",
       "\n",
       "     slope  ca  thal  target  \n",
       "0        2   2     3       0  \n",
       "1        0   0     3       0  \n",
       "2        0   0     3       0  \n",
       "3        2   1     3       0  \n",
       "4        1   3     2       0  \n",
       "..     ...  ..   ...     ...  \n",
       "723      1   0     2       1  \n",
       "733      1   0     2       1  \n",
       "739      2   1     3       0  \n",
       "843      2   0     2       0  \n",
       "878      1   1     3       0  \n",
       "\n",
       "[302 rows x 14 columns]"
      ]
     },
     "execution_count": 6,
     "metadata": {},
     "output_type": "execute_result"
    }
   ],
   "source": [
    "# check for number of rows after deleting duplicates\n",
    "dfDisposed2 = dfDisposed.drop_duplicates(keep = 'first')\n",
    "dfDisposed2"
   ]
  },
  {
   "cell_type": "code",
   "execution_count": 7,
   "id": "650d7b7c",
   "metadata": {},
   "outputs": [
    {
     "data": {
      "text/html": [
       "<div>\n",
       "<style scoped>\n",
       "    .dataframe tbody tr th:only-of-type {\n",
       "        vertical-align: middle;\n",
       "    }\n",
       "\n",
       "    .dataframe tbody tr th {\n",
       "        vertical-align: top;\n",
       "    }\n",
       "\n",
       "    .dataframe thead th {\n",
       "        text-align: right;\n",
       "    }\n",
       "</style>\n",
       "<table border=\"1\" class=\"dataframe\">\n",
       "  <thead>\n",
       "    <tr style=\"text-align: right;\">\n",
       "      <th></th>\n",
       "      <th>age</th>\n",
       "      <th>sex</th>\n",
       "      <th>cp</th>\n",
       "      <th>trestbps</th>\n",
       "      <th>chol</th>\n",
       "      <th>fbs</th>\n",
       "      <th>restecg</th>\n",
       "      <th>thalach</th>\n",
       "      <th>exang</th>\n",
       "      <th>oldpeak</th>\n",
       "      <th>slope</th>\n",
       "      <th>ca</th>\n",
       "      <th>thal</th>\n",
       "      <th>target</th>\n",
       "    </tr>\n",
       "  </thead>\n",
       "  <tbody>\n",
       "    <tr>\n",
       "      <th>0</th>\n",
       "      <td>63</td>\n",
       "      <td>1</td>\n",
       "      <td>3</td>\n",
       "      <td>145</td>\n",
       "      <td>233</td>\n",
       "      <td>1</td>\n",
       "      <td>0</td>\n",
       "      <td>150</td>\n",
       "      <td>0</td>\n",
       "      <td>2.3</td>\n",
       "      <td>0</td>\n",
       "      <td>0</td>\n",
       "      <td>1</td>\n",
       "      <td>1</td>\n",
       "    </tr>\n",
       "    <tr>\n",
       "      <th>1</th>\n",
       "      <td>37</td>\n",
       "      <td>1</td>\n",
       "      <td>2</td>\n",
       "      <td>130</td>\n",
       "      <td>250</td>\n",
       "      <td>0</td>\n",
       "      <td>1</td>\n",
       "      <td>187</td>\n",
       "      <td>0</td>\n",
       "      <td>3.5</td>\n",
       "      <td>0</td>\n",
       "      <td>0</td>\n",
       "      <td>2</td>\n",
       "      <td>1</td>\n",
       "    </tr>\n",
       "    <tr>\n",
       "      <th>2</th>\n",
       "      <td>41</td>\n",
       "      <td>0</td>\n",
       "      <td>1</td>\n",
       "      <td>130</td>\n",
       "      <td>204</td>\n",
       "      <td>0</td>\n",
       "      <td>0</td>\n",
       "      <td>172</td>\n",
       "      <td>0</td>\n",
       "      <td>1.4</td>\n",
       "      <td>2</td>\n",
       "      <td>0</td>\n",
       "      <td>2</td>\n",
       "      <td>1</td>\n",
       "    </tr>\n",
       "    <tr>\n",
       "      <th>3</th>\n",
       "      <td>56</td>\n",
       "      <td>1</td>\n",
       "      <td>1</td>\n",
       "      <td>120</td>\n",
       "      <td>236</td>\n",
       "      <td>0</td>\n",
       "      <td>1</td>\n",
       "      <td>178</td>\n",
       "      <td>0</td>\n",
       "      <td>0.8</td>\n",
       "      <td>2</td>\n",
       "      <td>0</td>\n",
       "      <td>2</td>\n",
       "      <td>1</td>\n",
       "    </tr>\n",
       "    <tr>\n",
       "      <th>4</th>\n",
       "      <td>57</td>\n",
       "      <td>0</td>\n",
       "      <td>0</td>\n",
       "      <td>120</td>\n",
       "      <td>354</td>\n",
       "      <td>0</td>\n",
       "      <td>1</td>\n",
       "      <td>163</td>\n",
       "      <td>1</td>\n",
       "      <td>0.6</td>\n",
       "      <td>2</td>\n",
       "      <td>0</td>\n",
       "      <td>2</td>\n",
       "      <td>1</td>\n",
       "    </tr>\n",
       "    <tr>\n",
       "      <th>...</th>\n",
       "      <td>...</td>\n",
       "      <td>...</td>\n",
       "      <td>...</td>\n",
       "      <td>...</td>\n",
       "      <td>...</td>\n",
       "      <td>...</td>\n",
       "      <td>...</td>\n",
       "      <td>...</td>\n",
       "      <td>...</td>\n",
       "      <td>...</td>\n",
       "      <td>...</td>\n",
       "      <td>...</td>\n",
       "      <td>...</td>\n",
       "      <td>...</td>\n",
       "    </tr>\n",
       "    <tr>\n",
       "      <th>298</th>\n",
       "      <td>57</td>\n",
       "      <td>0</td>\n",
       "      <td>0</td>\n",
       "      <td>140</td>\n",
       "      <td>241</td>\n",
       "      <td>0</td>\n",
       "      <td>1</td>\n",
       "      <td>123</td>\n",
       "      <td>1</td>\n",
       "      <td>0.2</td>\n",
       "      <td>1</td>\n",
       "      <td>0</td>\n",
       "      <td>3</td>\n",
       "      <td>0</td>\n",
       "    </tr>\n",
       "    <tr>\n",
       "      <th>299</th>\n",
       "      <td>45</td>\n",
       "      <td>1</td>\n",
       "      <td>3</td>\n",
       "      <td>110</td>\n",
       "      <td>264</td>\n",
       "      <td>0</td>\n",
       "      <td>1</td>\n",
       "      <td>132</td>\n",
       "      <td>0</td>\n",
       "      <td>1.2</td>\n",
       "      <td>1</td>\n",
       "      <td>0</td>\n",
       "      <td>3</td>\n",
       "      <td>0</td>\n",
       "    </tr>\n",
       "    <tr>\n",
       "      <th>300</th>\n",
       "      <td>68</td>\n",
       "      <td>1</td>\n",
       "      <td>0</td>\n",
       "      <td>144</td>\n",
       "      <td>193</td>\n",
       "      <td>1</td>\n",
       "      <td>1</td>\n",
       "      <td>141</td>\n",
       "      <td>0</td>\n",
       "      <td>3.4</td>\n",
       "      <td>1</td>\n",
       "      <td>2</td>\n",
       "      <td>3</td>\n",
       "      <td>0</td>\n",
       "    </tr>\n",
       "    <tr>\n",
       "      <th>301</th>\n",
       "      <td>57</td>\n",
       "      <td>1</td>\n",
       "      <td>0</td>\n",
       "      <td>130</td>\n",
       "      <td>131</td>\n",
       "      <td>0</td>\n",
       "      <td>1</td>\n",
       "      <td>115</td>\n",
       "      <td>1</td>\n",
       "      <td>1.2</td>\n",
       "      <td>1</td>\n",
       "      <td>1</td>\n",
       "      <td>3</td>\n",
       "      <td>0</td>\n",
       "    </tr>\n",
       "    <tr>\n",
       "      <th>302</th>\n",
       "      <td>57</td>\n",
       "      <td>0</td>\n",
       "      <td>1</td>\n",
       "      <td>130</td>\n",
       "      <td>236</td>\n",
       "      <td>0</td>\n",
       "      <td>0</td>\n",
       "      <td>174</td>\n",
       "      <td>0</td>\n",
       "      <td>0.0</td>\n",
       "      <td>1</td>\n",
       "      <td>1</td>\n",
       "      <td>2</td>\n",
       "      <td>0</td>\n",
       "    </tr>\n",
       "  </tbody>\n",
       "</table>\n",
       "<p>303 rows × 14 columns</p>\n",
       "</div>"
      ],
      "text/plain": [
       "     age  sex  cp  trestbps  chol  fbs  restecg  thalach  exang  oldpeak  \\\n",
       "0     63    1   3       145   233    1        0      150      0      2.3   \n",
       "1     37    1   2       130   250    0        1      187      0      3.5   \n",
       "2     41    0   1       130   204    0        0      172      0      1.4   \n",
       "3     56    1   1       120   236    0        1      178      0      0.8   \n",
       "4     57    0   0       120   354    0        1      163      1      0.6   \n",
       "..   ...  ...  ..       ...   ...  ...      ...      ...    ...      ...   \n",
       "298   57    0   0       140   241    0        1      123      1      0.2   \n",
       "299   45    1   3       110   264    0        1      132      0      1.2   \n",
       "300   68    1   0       144   193    1        1      141      0      3.4   \n",
       "301   57    1   0       130   131    0        1      115      1      1.2   \n",
       "302   57    0   1       130   236    0        0      174      0      0.0   \n",
       "\n",
       "     slope  ca  thal  target  \n",
       "0        0   0     1       1  \n",
       "1        0   0     2       1  \n",
       "2        2   0     2       1  \n",
       "3        2   0     2       1  \n",
       "4        2   0     2       1  \n",
       "..     ...  ..   ...     ...  \n",
       "298      1   0     3       0  \n",
       "299      1   0     3       0  \n",
       "300      1   2     3       0  \n",
       "301      1   1     3       0  \n",
       "302      1   1     2       0  \n",
       "\n",
       "[303 rows x 14 columns]"
      ]
     },
     "execution_count": 7,
     "metadata": {},
     "output_type": "execute_result"
    }
   ],
   "source": [
    "# Use the original heart disease dataset in eLearn\n",
    "df = pd.read_csv('heart_disease.csv')\n",
    "df"
   ]
  },
  {
   "cell_type": "markdown",
   "id": "6a77fa92",
   "metadata": {},
   "source": [
    "# Data Cleaning"
   ]
  },
  {
   "cell_type": "code",
   "execution_count": 8,
   "id": "97c0f5d2",
   "metadata": {},
   "outputs": [
    {
     "name": "stdout",
     "output_type": "stream",
     "text": [
      "1\n"
     ]
    }
   ],
   "source": [
    "# check for duplicates\n",
    "duplicate = df[df.duplicated()]\n",
    "print(df.duplicated().sum())"
   ]
  },
  {
   "cell_type": "code",
   "execution_count": 9,
   "id": "b1cf6842",
   "metadata": {},
   "outputs": [
    {
     "data": {
      "text/html": [
       "<div>\n",
       "<style scoped>\n",
       "    .dataframe tbody tr th:only-of-type {\n",
       "        vertical-align: middle;\n",
       "    }\n",
       "\n",
       "    .dataframe tbody tr th {\n",
       "        vertical-align: top;\n",
       "    }\n",
       "\n",
       "    .dataframe thead th {\n",
       "        text-align: right;\n",
       "    }\n",
       "</style>\n",
       "<table border=\"1\" class=\"dataframe\">\n",
       "  <thead>\n",
       "    <tr style=\"text-align: right;\">\n",
       "      <th></th>\n",
       "      <th>age</th>\n",
       "      <th>sex</th>\n",
       "      <th>cp</th>\n",
       "      <th>trestbps</th>\n",
       "      <th>chol</th>\n",
       "      <th>fbs</th>\n",
       "      <th>restecg</th>\n",
       "      <th>thalach</th>\n",
       "      <th>exang</th>\n",
       "      <th>oldpeak</th>\n",
       "      <th>slope</th>\n",
       "      <th>ca</th>\n",
       "      <th>thal</th>\n",
       "      <th>target</th>\n",
       "    </tr>\n",
       "  </thead>\n",
       "  <tbody>\n",
       "    <tr>\n",
       "      <th>0</th>\n",
       "      <td>63</td>\n",
       "      <td>1</td>\n",
       "      <td>3</td>\n",
       "      <td>145</td>\n",
       "      <td>233</td>\n",
       "      <td>1</td>\n",
       "      <td>0</td>\n",
       "      <td>150</td>\n",
       "      <td>0</td>\n",
       "      <td>2.3</td>\n",
       "      <td>0</td>\n",
       "      <td>0</td>\n",
       "      <td>1</td>\n",
       "      <td>1</td>\n",
       "    </tr>\n",
       "    <tr>\n",
       "      <th>1</th>\n",
       "      <td>37</td>\n",
       "      <td>1</td>\n",
       "      <td>2</td>\n",
       "      <td>130</td>\n",
       "      <td>250</td>\n",
       "      <td>0</td>\n",
       "      <td>1</td>\n",
       "      <td>187</td>\n",
       "      <td>0</td>\n",
       "      <td>3.5</td>\n",
       "      <td>0</td>\n",
       "      <td>0</td>\n",
       "      <td>2</td>\n",
       "      <td>1</td>\n",
       "    </tr>\n",
       "    <tr>\n",
       "      <th>2</th>\n",
       "      <td>41</td>\n",
       "      <td>0</td>\n",
       "      <td>1</td>\n",
       "      <td>130</td>\n",
       "      <td>204</td>\n",
       "      <td>0</td>\n",
       "      <td>0</td>\n",
       "      <td>172</td>\n",
       "      <td>0</td>\n",
       "      <td>1.4</td>\n",
       "      <td>2</td>\n",
       "      <td>0</td>\n",
       "      <td>2</td>\n",
       "      <td>1</td>\n",
       "    </tr>\n",
       "    <tr>\n",
       "      <th>3</th>\n",
       "      <td>56</td>\n",
       "      <td>1</td>\n",
       "      <td>1</td>\n",
       "      <td>120</td>\n",
       "      <td>236</td>\n",
       "      <td>0</td>\n",
       "      <td>1</td>\n",
       "      <td>178</td>\n",
       "      <td>0</td>\n",
       "      <td>0.8</td>\n",
       "      <td>2</td>\n",
       "      <td>0</td>\n",
       "      <td>2</td>\n",
       "      <td>1</td>\n",
       "    </tr>\n",
       "    <tr>\n",
       "      <th>4</th>\n",
       "      <td>57</td>\n",
       "      <td>0</td>\n",
       "      <td>0</td>\n",
       "      <td>120</td>\n",
       "      <td>354</td>\n",
       "      <td>0</td>\n",
       "      <td>1</td>\n",
       "      <td>163</td>\n",
       "      <td>1</td>\n",
       "      <td>0.6</td>\n",
       "      <td>2</td>\n",
       "      <td>0</td>\n",
       "      <td>2</td>\n",
       "      <td>1</td>\n",
       "    </tr>\n",
       "    <tr>\n",
       "      <th>...</th>\n",
       "      <td>...</td>\n",
       "      <td>...</td>\n",
       "      <td>...</td>\n",
       "      <td>...</td>\n",
       "      <td>...</td>\n",
       "      <td>...</td>\n",
       "      <td>...</td>\n",
       "      <td>...</td>\n",
       "      <td>...</td>\n",
       "      <td>...</td>\n",
       "      <td>...</td>\n",
       "      <td>...</td>\n",
       "      <td>...</td>\n",
       "      <td>...</td>\n",
       "    </tr>\n",
       "    <tr>\n",
       "      <th>298</th>\n",
       "      <td>57</td>\n",
       "      <td>0</td>\n",
       "      <td>0</td>\n",
       "      <td>140</td>\n",
       "      <td>241</td>\n",
       "      <td>0</td>\n",
       "      <td>1</td>\n",
       "      <td>123</td>\n",
       "      <td>1</td>\n",
       "      <td>0.2</td>\n",
       "      <td>1</td>\n",
       "      <td>0</td>\n",
       "      <td>3</td>\n",
       "      <td>0</td>\n",
       "    </tr>\n",
       "    <tr>\n",
       "      <th>299</th>\n",
       "      <td>45</td>\n",
       "      <td>1</td>\n",
       "      <td>3</td>\n",
       "      <td>110</td>\n",
       "      <td>264</td>\n",
       "      <td>0</td>\n",
       "      <td>1</td>\n",
       "      <td>132</td>\n",
       "      <td>0</td>\n",
       "      <td>1.2</td>\n",
       "      <td>1</td>\n",
       "      <td>0</td>\n",
       "      <td>3</td>\n",
       "      <td>0</td>\n",
       "    </tr>\n",
       "    <tr>\n",
       "      <th>300</th>\n",
       "      <td>68</td>\n",
       "      <td>1</td>\n",
       "      <td>0</td>\n",
       "      <td>144</td>\n",
       "      <td>193</td>\n",
       "      <td>1</td>\n",
       "      <td>1</td>\n",
       "      <td>141</td>\n",
       "      <td>0</td>\n",
       "      <td>3.4</td>\n",
       "      <td>1</td>\n",
       "      <td>2</td>\n",
       "      <td>3</td>\n",
       "      <td>0</td>\n",
       "    </tr>\n",
       "    <tr>\n",
       "      <th>301</th>\n",
       "      <td>57</td>\n",
       "      <td>1</td>\n",
       "      <td>0</td>\n",
       "      <td>130</td>\n",
       "      <td>131</td>\n",
       "      <td>0</td>\n",
       "      <td>1</td>\n",
       "      <td>115</td>\n",
       "      <td>1</td>\n",
       "      <td>1.2</td>\n",
       "      <td>1</td>\n",
       "      <td>1</td>\n",
       "      <td>3</td>\n",
       "      <td>0</td>\n",
       "    </tr>\n",
       "    <tr>\n",
       "      <th>302</th>\n",
       "      <td>57</td>\n",
       "      <td>0</td>\n",
       "      <td>1</td>\n",
       "      <td>130</td>\n",
       "      <td>236</td>\n",
       "      <td>0</td>\n",
       "      <td>0</td>\n",
       "      <td>174</td>\n",
       "      <td>0</td>\n",
       "      <td>0.0</td>\n",
       "      <td>1</td>\n",
       "      <td>1</td>\n",
       "      <td>2</td>\n",
       "      <td>0</td>\n",
       "    </tr>\n",
       "  </tbody>\n",
       "</table>\n",
       "<p>302 rows × 14 columns</p>\n",
       "</div>"
      ],
      "text/plain": [
       "     age  sex  cp  trestbps  chol  fbs  restecg  thalach  exang  oldpeak  \\\n",
       "0     63    1   3       145   233    1        0      150      0      2.3   \n",
       "1     37    1   2       130   250    0        1      187      0      3.5   \n",
       "2     41    0   1       130   204    0        0      172      0      1.4   \n",
       "3     56    1   1       120   236    0        1      178      0      0.8   \n",
       "4     57    0   0       120   354    0        1      163      1      0.6   \n",
       "..   ...  ...  ..       ...   ...  ...      ...      ...    ...      ...   \n",
       "298   57    0   0       140   241    0        1      123      1      0.2   \n",
       "299   45    1   3       110   264    0        1      132      0      1.2   \n",
       "300   68    1   0       144   193    1        1      141      0      3.4   \n",
       "301   57    1   0       130   131    0        1      115      1      1.2   \n",
       "302   57    0   1       130   236    0        0      174      0      0.0   \n",
       "\n",
       "     slope  ca  thal  target  \n",
       "0        0   0     1       1  \n",
       "1        0   0     2       1  \n",
       "2        2   0     2       1  \n",
       "3        2   0     2       1  \n",
       "4        2   0     2       1  \n",
       "..     ...  ..   ...     ...  \n",
       "298      1   0     3       0  \n",
       "299      1   0     3       0  \n",
       "300      1   2     3       0  \n",
       "301      1   1     3       0  \n",
       "302      1   1     2       0  \n",
       "\n",
       "[302 rows x 14 columns]"
      ]
     },
     "execution_count": 9,
     "metadata": {},
     "output_type": "execute_result"
    }
   ],
   "source": [
    "# removing the duplicates\n",
    "df.drop_duplicates(inplace = True)\n",
    "df"
   ]
  },
  {
   "cell_type": "code",
   "execution_count": 10,
   "id": "df77c838",
   "metadata": {},
   "outputs": [
    {
     "data": {
      "text/plain": [
       "age         0\n",
       "sex         0\n",
       "cp          0\n",
       "trestbps    0\n",
       "chol        0\n",
       "fbs         0\n",
       "restecg     0\n",
       "thalach     0\n",
       "exang       0\n",
       "oldpeak     0\n",
       "slope       0\n",
       "ca          0\n",
       "thal        0\n",
       "target      0\n",
       "dtype: int64"
      ]
     },
     "execution_count": 10,
     "metadata": {},
     "output_type": "execute_result"
    }
   ],
   "source": [
    "df.isnull().sum()"
   ]
  },
  {
   "cell_type": "code",
   "execution_count": 11,
   "id": "05d37085",
   "metadata": {},
   "outputs": [
    {
     "data": {
      "text/html": [
       "<div>\n",
       "<style scoped>\n",
       "    .dataframe tbody tr th:only-of-type {\n",
       "        vertical-align: middle;\n",
       "    }\n",
       "\n",
       "    .dataframe tbody tr th {\n",
       "        vertical-align: top;\n",
       "    }\n",
       "\n",
       "    .dataframe thead th {\n",
       "        text-align: right;\n",
       "    }\n",
       "</style>\n",
       "<table border=\"1\" class=\"dataframe\">\n",
       "  <thead>\n",
       "    <tr style=\"text-align: right;\">\n",
       "      <th></th>\n",
       "      <th>age</th>\n",
       "      <th>sex</th>\n",
       "      <th>cp</th>\n",
       "      <th>trestbps</th>\n",
       "      <th>chol</th>\n",
       "      <th>fbs</th>\n",
       "      <th>restecg</th>\n",
       "      <th>thalach</th>\n",
       "      <th>exang</th>\n",
       "      <th>oldpeak</th>\n",
       "      <th>slope</th>\n",
       "      <th>ca</th>\n",
       "      <th>thal</th>\n",
       "      <th>target</th>\n",
       "    </tr>\n",
       "  </thead>\n",
       "  <tbody>\n",
       "    <tr>\n",
       "      <th>count</th>\n",
       "      <td>302.00000</td>\n",
       "      <td>302.000000</td>\n",
       "      <td>302.000000</td>\n",
       "      <td>302.000000</td>\n",
       "      <td>302.000000</td>\n",
       "      <td>302.000000</td>\n",
       "      <td>302.000000</td>\n",
       "      <td>302.000000</td>\n",
       "      <td>302.000000</td>\n",
       "      <td>302.000000</td>\n",
       "      <td>302.000000</td>\n",
       "      <td>302.000000</td>\n",
       "      <td>302.000000</td>\n",
       "      <td>302.000000</td>\n",
       "    </tr>\n",
       "    <tr>\n",
       "      <th>mean</th>\n",
       "      <td>54.42053</td>\n",
       "      <td>0.682119</td>\n",
       "      <td>0.963576</td>\n",
       "      <td>131.602649</td>\n",
       "      <td>246.500000</td>\n",
       "      <td>0.149007</td>\n",
       "      <td>0.526490</td>\n",
       "      <td>149.569536</td>\n",
       "      <td>0.327815</td>\n",
       "      <td>1.043046</td>\n",
       "      <td>1.397351</td>\n",
       "      <td>0.718543</td>\n",
       "      <td>2.314570</td>\n",
       "      <td>0.543046</td>\n",
       "    </tr>\n",
       "    <tr>\n",
       "      <th>std</th>\n",
       "      <td>9.04797</td>\n",
       "      <td>0.466426</td>\n",
       "      <td>1.032044</td>\n",
       "      <td>17.563394</td>\n",
       "      <td>51.753489</td>\n",
       "      <td>0.356686</td>\n",
       "      <td>0.526027</td>\n",
       "      <td>22.903527</td>\n",
       "      <td>0.470196</td>\n",
       "      <td>1.161452</td>\n",
       "      <td>0.616274</td>\n",
       "      <td>1.006748</td>\n",
       "      <td>0.613026</td>\n",
       "      <td>0.498970</td>\n",
       "    </tr>\n",
       "    <tr>\n",
       "      <th>min</th>\n",
       "      <td>29.00000</td>\n",
       "      <td>0.000000</td>\n",
       "      <td>0.000000</td>\n",
       "      <td>94.000000</td>\n",
       "      <td>126.000000</td>\n",
       "      <td>0.000000</td>\n",
       "      <td>0.000000</td>\n",
       "      <td>71.000000</td>\n",
       "      <td>0.000000</td>\n",
       "      <td>0.000000</td>\n",
       "      <td>0.000000</td>\n",
       "      <td>0.000000</td>\n",
       "      <td>0.000000</td>\n",
       "      <td>0.000000</td>\n",
       "    </tr>\n",
       "    <tr>\n",
       "      <th>25%</th>\n",
       "      <td>48.00000</td>\n",
       "      <td>0.000000</td>\n",
       "      <td>0.000000</td>\n",
       "      <td>120.000000</td>\n",
       "      <td>211.000000</td>\n",
       "      <td>0.000000</td>\n",
       "      <td>0.000000</td>\n",
       "      <td>133.250000</td>\n",
       "      <td>0.000000</td>\n",
       "      <td>0.000000</td>\n",
       "      <td>1.000000</td>\n",
       "      <td>0.000000</td>\n",
       "      <td>2.000000</td>\n",
       "      <td>0.000000</td>\n",
       "    </tr>\n",
       "    <tr>\n",
       "      <th>50%</th>\n",
       "      <td>55.50000</td>\n",
       "      <td>1.000000</td>\n",
       "      <td>1.000000</td>\n",
       "      <td>130.000000</td>\n",
       "      <td>240.500000</td>\n",
       "      <td>0.000000</td>\n",
       "      <td>1.000000</td>\n",
       "      <td>152.500000</td>\n",
       "      <td>0.000000</td>\n",
       "      <td>0.800000</td>\n",
       "      <td>1.000000</td>\n",
       "      <td>0.000000</td>\n",
       "      <td>2.000000</td>\n",
       "      <td>1.000000</td>\n",
       "    </tr>\n",
       "    <tr>\n",
       "      <th>75%</th>\n",
       "      <td>61.00000</td>\n",
       "      <td>1.000000</td>\n",
       "      <td>2.000000</td>\n",
       "      <td>140.000000</td>\n",
       "      <td>274.750000</td>\n",
       "      <td>0.000000</td>\n",
       "      <td>1.000000</td>\n",
       "      <td>166.000000</td>\n",
       "      <td>1.000000</td>\n",
       "      <td>1.600000</td>\n",
       "      <td>2.000000</td>\n",
       "      <td>1.000000</td>\n",
       "      <td>3.000000</td>\n",
       "      <td>1.000000</td>\n",
       "    </tr>\n",
       "    <tr>\n",
       "      <th>max</th>\n",
       "      <td>77.00000</td>\n",
       "      <td>1.000000</td>\n",
       "      <td>3.000000</td>\n",
       "      <td>200.000000</td>\n",
       "      <td>564.000000</td>\n",
       "      <td>1.000000</td>\n",
       "      <td>2.000000</td>\n",
       "      <td>202.000000</td>\n",
       "      <td>1.000000</td>\n",
       "      <td>6.200000</td>\n",
       "      <td>2.000000</td>\n",
       "      <td>4.000000</td>\n",
       "      <td>3.000000</td>\n",
       "      <td>1.000000</td>\n",
       "    </tr>\n",
       "  </tbody>\n",
       "</table>\n",
       "</div>"
      ],
      "text/plain": [
       "             age         sex          cp    trestbps        chol         fbs  \\\n",
       "count  302.00000  302.000000  302.000000  302.000000  302.000000  302.000000   \n",
       "mean    54.42053    0.682119    0.963576  131.602649  246.500000    0.149007   \n",
       "std      9.04797    0.466426    1.032044   17.563394   51.753489    0.356686   \n",
       "min     29.00000    0.000000    0.000000   94.000000  126.000000    0.000000   \n",
       "25%     48.00000    0.000000    0.000000  120.000000  211.000000    0.000000   \n",
       "50%     55.50000    1.000000    1.000000  130.000000  240.500000    0.000000   \n",
       "75%     61.00000    1.000000    2.000000  140.000000  274.750000    0.000000   \n",
       "max     77.00000    1.000000    3.000000  200.000000  564.000000    1.000000   \n",
       "\n",
       "          restecg     thalach       exang     oldpeak       slope          ca  \\\n",
       "count  302.000000  302.000000  302.000000  302.000000  302.000000  302.000000   \n",
       "mean     0.526490  149.569536    0.327815    1.043046    1.397351    0.718543   \n",
       "std      0.526027   22.903527    0.470196    1.161452    0.616274    1.006748   \n",
       "min      0.000000   71.000000    0.000000    0.000000    0.000000    0.000000   \n",
       "25%      0.000000  133.250000    0.000000    0.000000    1.000000    0.000000   \n",
       "50%      1.000000  152.500000    0.000000    0.800000    1.000000    0.000000   \n",
       "75%      1.000000  166.000000    1.000000    1.600000    2.000000    1.000000   \n",
       "max      2.000000  202.000000    1.000000    6.200000    2.000000    4.000000   \n",
       "\n",
       "             thal      target  \n",
       "count  302.000000  302.000000  \n",
       "mean     2.314570    0.543046  \n",
       "std      0.613026    0.498970  \n",
       "min      0.000000    0.000000  \n",
       "25%      2.000000    0.000000  \n",
       "50%      2.000000    1.000000  \n",
       "75%      3.000000    1.000000  \n",
       "max      3.000000    1.000000  "
      ]
     },
     "execution_count": 11,
     "metadata": {},
     "output_type": "execute_result"
    }
   ],
   "source": [
    "# Checking the dataset\n",
    "df.describe()"
   ]
  },
  {
   "cell_type": "code",
   "execution_count": 12,
   "id": "97d79aae",
   "metadata": {},
   "outputs": [
    {
     "name": "stdout",
     "output_type": "stream",
     "text": [
      "2    165\n",
      "3    117\n",
      "1     18\n",
      "0      2\n",
      "Name: thal, dtype: int64\n",
      "0    175\n",
      "1     65\n",
      "2     38\n",
      "3     20\n",
      "4      4\n",
      "Name: ca, dtype: int64\n"
     ]
    }
   ],
   "source": [
    "# check how many rows have those irregular data.\n",
    "print(df['thal'].value_counts())\n",
    "print(df['ca'].value_counts())"
   ]
  },
  {
   "cell_type": "code",
   "execution_count": 13,
   "id": "38460afb",
   "metadata": {},
   "outputs": [],
   "source": [
    "# remove the row with those irregular data.\n",
    "df.drop(df.loc[df['thal']==0].index, inplace=True)\n",
    "df.drop(df.loc[df['ca']==4].index, inplace=True)"
   ]
  },
  {
   "cell_type": "markdown",
   "id": "3d8cd860",
   "metadata": {},
   "source": [
    "# EDA"
   ]
  },
  {
   "cell_type": "code",
   "execution_count": 14,
   "id": "304bc609",
   "metadata": {},
   "outputs": [
    {
     "data": {
      "text/html": [
       "<div>\n",
       "<style scoped>\n",
       "    .dataframe tbody tr th:only-of-type {\n",
       "        vertical-align: middle;\n",
       "    }\n",
       "\n",
       "    .dataframe tbody tr th {\n",
       "        vertical-align: top;\n",
       "    }\n",
       "\n",
       "    .dataframe thead th {\n",
       "        text-align: right;\n",
       "    }\n",
       "</style>\n",
       "<table border=\"1\" class=\"dataframe\">\n",
       "  <thead>\n",
       "    <tr style=\"text-align: right;\">\n",
       "      <th></th>\n",
       "      <th>age</th>\n",
       "      <th>sex</th>\n",
       "      <th>cp</th>\n",
       "      <th>trestbps</th>\n",
       "      <th>chol</th>\n",
       "      <th>fbs</th>\n",
       "      <th>restecg</th>\n",
       "      <th>thalach</th>\n",
       "      <th>exang</th>\n",
       "      <th>oldpeak</th>\n",
       "      <th>slope</th>\n",
       "      <th>ca</th>\n",
       "      <th>thal</th>\n",
       "      <th>target</th>\n",
       "    </tr>\n",
       "  </thead>\n",
       "  <tbody>\n",
       "    <tr>\n",
       "      <th>0</th>\n",
       "      <td>63</td>\n",
       "      <td>1</td>\n",
       "      <td>3</td>\n",
       "      <td>145</td>\n",
       "      <td>233</td>\n",
       "      <td>1</td>\n",
       "      <td>0</td>\n",
       "      <td>150</td>\n",
       "      <td>0</td>\n",
       "      <td>2.3</td>\n",
       "      <td>0</td>\n",
       "      <td>0</td>\n",
       "      <td>1</td>\n",
       "      <td>1</td>\n",
       "    </tr>\n",
       "    <tr>\n",
       "      <th>1</th>\n",
       "      <td>37</td>\n",
       "      <td>1</td>\n",
       "      <td>2</td>\n",
       "      <td>130</td>\n",
       "      <td>250</td>\n",
       "      <td>0</td>\n",
       "      <td>1</td>\n",
       "      <td>187</td>\n",
       "      <td>0</td>\n",
       "      <td>3.5</td>\n",
       "      <td>0</td>\n",
       "      <td>0</td>\n",
       "      <td>2</td>\n",
       "      <td>1</td>\n",
       "    </tr>\n",
       "    <tr>\n",
       "      <th>2</th>\n",
       "      <td>41</td>\n",
       "      <td>0</td>\n",
       "      <td>1</td>\n",
       "      <td>130</td>\n",
       "      <td>204</td>\n",
       "      <td>0</td>\n",
       "      <td>0</td>\n",
       "      <td>172</td>\n",
       "      <td>0</td>\n",
       "      <td>1.4</td>\n",
       "      <td>2</td>\n",
       "      <td>0</td>\n",
       "      <td>2</td>\n",
       "      <td>1</td>\n",
       "    </tr>\n",
       "    <tr>\n",
       "      <th>3</th>\n",
       "      <td>56</td>\n",
       "      <td>1</td>\n",
       "      <td>1</td>\n",
       "      <td>120</td>\n",
       "      <td>236</td>\n",
       "      <td>0</td>\n",
       "      <td>1</td>\n",
       "      <td>178</td>\n",
       "      <td>0</td>\n",
       "      <td>0.8</td>\n",
       "      <td>2</td>\n",
       "      <td>0</td>\n",
       "      <td>2</td>\n",
       "      <td>1</td>\n",
       "    </tr>\n",
       "    <tr>\n",
       "      <th>4</th>\n",
       "      <td>57</td>\n",
       "      <td>0</td>\n",
       "      <td>0</td>\n",
       "      <td>120</td>\n",
       "      <td>354</td>\n",
       "      <td>0</td>\n",
       "      <td>1</td>\n",
       "      <td>163</td>\n",
       "      <td>1</td>\n",
       "      <td>0.6</td>\n",
       "      <td>2</td>\n",
       "      <td>0</td>\n",
       "      <td>2</td>\n",
       "      <td>1</td>\n",
       "    </tr>\n",
       "    <tr>\n",
       "      <th>...</th>\n",
       "      <td>...</td>\n",
       "      <td>...</td>\n",
       "      <td>...</td>\n",
       "      <td>...</td>\n",
       "      <td>...</td>\n",
       "      <td>...</td>\n",
       "      <td>...</td>\n",
       "      <td>...</td>\n",
       "      <td>...</td>\n",
       "      <td>...</td>\n",
       "      <td>...</td>\n",
       "      <td>...</td>\n",
       "      <td>...</td>\n",
       "      <td>...</td>\n",
       "    </tr>\n",
       "    <tr>\n",
       "      <th>298</th>\n",
       "      <td>57</td>\n",
       "      <td>0</td>\n",
       "      <td>0</td>\n",
       "      <td>140</td>\n",
       "      <td>241</td>\n",
       "      <td>0</td>\n",
       "      <td>1</td>\n",
       "      <td>123</td>\n",
       "      <td>1</td>\n",
       "      <td>0.2</td>\n",
       "      <td>1</td>\n",
       "      <td>0</td>\n",
       "      <td>3</td>\n",
       "      <td>0</td>\n",
       "    </tr>\n",
       "    <tr>\n",
       "      <th>299</th>\n",
       "      <td>45</td>\n",
       "      <td>1</td>\n",
       "      <td>3</td>\n",
       "      <td>110</td>\n",
       "      <td>264</td>\n",
       "      <td>0</td>\n",
       "      <td>1</td>\n",
       "      <td>132</td>\n",
       "      <td>0</td>\n",
       "      <td>1.2</td>\n",
       "      <td>1</td>\n",
       "      <td>0</td>\n",
       "      <td>3</td>\n",
       "      <td>0</td>\n",
       "    </tr>\n",
       "    <tr>\n",
       "      <th>300</th>\n",
       "      <td>68</td>\n",
       "      <td>1</td>\n",
       "      <td>0</td>\n",
       "      <td>144</td>\n",
       "      <td>193</td>\n",
       "      <td>1</td>\n",
       "      <td>1</td>\n",
       "      <td>141</td>\n",
       "      <td>0</td>\n",
       "      <td>3.4</td>\n",
       "      <td>1</td>\n",
       "      <td>2</td>\n",
       "      <td>3</td>\n",
       "      <td>0</td>\n",
       "    </tr>\n",
       "    <tr>\n",
       "      <th>301</th>\n",
       "      <td>57</td>\n",
       "      <td>1</td>\n",
       "      <td>0</td>\n",
       "      <td>130</td>\n",
       "      <td>131</td>\n",
       "      <td>0</td>\n",
       "      <td>1</td>\n",
       "      <td>115</td>\n",
       "      <td>1</td>\n",
       "      <td>1.2</td>\n",
       "      <td>1</td>\n",
       "      <td>1</td>\n",
       "      <td>3</td>\n",
       "      <td>0</td>\n",
       "    </tr>\n",
       "    <tr>\n",
       "      <th>302</th>\n",
       "      <td>57</td>\n",
       "      <td>0</td>\n",
       "      <td>1</td>\n",
       "      <td>130</td>\n",
       "      <td>236</td>\n",
       "      <td>0</td>\n",
       "      <td>0</td>\n",
       "      <td>174</td>\n",
       "      <td>0</td>\n",
       "      <td>0.0</td>\n",
       "      <td>1</td>\n",
       "      <td>1</td>\n",
       "      <td>2</td>\n",
       "      <td>0</td>\n",
       "    </tr>\n",
       "  </tbody>\n",
       "</table>\n",
       "<p>296 rows × 14 columns</p>\n",
       "</div>"
      ],
      "text/plain": [
       "     age  sex  cp  trestbps  chol  fbs  restecg  thalach  exang  oldpeak  \\\n",
       "0     63    1   3       145   233    1        0      150      0      2.3   \n",
       "1     37    1   2       130   250    0        1      187      0      3.5   \n",
       "2     41    0   1       130   204    0        0      172      0      1.4   \n",
       "3     56    1   1       120   236    0        1      178      0      0.8   \n",
       "4     57    0   0       120   354    0        1      163      1      0.6   \n",
       "..   ...  ...  ..       ...   ...  ...      ...      ...    ...      ...   \n",
       "298   57    0   0       140   241    0        1      123      1      0.2   \n",
       "299   45    1   3       110   264    0        1      132      0      1.2   \n",
       "300   68    1   0       144   193    1        1      141      0      3.4   \n",
       "301   57    1   0       130   131    0        1      115      1      1.2   \n",
       "302   57    0   1       130   236    0        0      174      0      0.0   \n",
       "\n",
       "     slope  ca  thal  target  \n",
       "0        0   0     1       1  \n",
       "1        0   0     2       1  \n",
       "2        2   0     2       1  \n",
       "3        2   0     2       1  \n",
       "4        2   0     2       1  \n",
       "..     ...  ..   ...     ...  \n",
       "298      1   0     3       0  \n",
       "299      1   0     3       0  \n",
       "300      1   2     3       0  \n",
       "301      1   1     3       0  \n",
       "302      1   1     2       0  \n",
       "\n",
       "[296 rows x 14 columns]"
      ]
     },
     "execution_count": 14,
     "metadata": {},
     "output_type": "execute_result"
    }
   ],
   "source": [
    "# check the whole dataset for number of rows and columns\n",
    "df"
   ]
  },
  {
   "cell_type": "code",
   "execution_count": 15,
   "id": "049825e3",
   "metadata": {},
   "outputs": [
    {
     "data": {
      "text/html": [
       "<div>\n",
       "<style scoped>\n",
       "    .dataframe tbody tr th:only-of-type {\n",
       "        vertical-align: middle;\n",
       "    }\n",
       "\n",
       "    .dataframe tbody tr th {\n",
       "        vertical-align: top;\n",
       "    }\n",
       "\n",
       "    .dataframe thead th {\n",
       "        text-align: right;\n",
       "    }\n",
       "</style>\n",
       "<table border=\"1\" class=\"dataframe\">\n",
       "  <thead>\n",
       "    <tr style=\"text-align: right;\">\n",
       "      <th></th>\n",
       "      <th>age</th>\n",
       "      <th>sex</th>\n",
       "      <th>cp</th>\n",
       "      <th>trestbps</th>\n",
       "      <th>chol</th>\n",
       "      <th>fbs</th>\n",
       "      <th>restecg</th>\n",
       "      <th>thalach</th>\n",
       "      <th>exang</th>\n",
       "      <th>oldpeak</th>\n",
       "      <th>slope</th>\n",
       "      <th>ca</th>\n",
       "      <th>thal</th>\n",
       "      <th>target</th>\n",
       "    </tr>\n",
       "  </thead>\n",
       "  <tbody>\n",
       "    <tr>\n",
       "      <th>count</th>\n",
       "      <td>296.000000</td>\n",
       "      <td>296.000000</td>\n",
       "      <td>296.000000</td>\n",
       "      <td>296.00000</td>\n",
       "      <td>296.000000</td>\n",
       "      <td>296.00000</td>\n",
       "      <td>296.000000</td>\n",
       "      <td>296.000000</td>\n",
       "      <td>296.000000</td>\n",
       "      <td>296.000000</td>\n",
       "      <td>296.000000</td>\n",
       "      <td>296.000000</td>\n",
       "      <td>296.000000</td>\n",
       "      <td>296.000000</td>\n",
       "    </tr>\n",
       "    <tr>\n",
       "      <th>mean</th>\n",
       "      <td>54.523649</td>\n",
       "      <td>0.679054</td>\n",
       "      <td>0.959459</td>\n",
       "      <td>131.60473</td>\n",
       "      <td>247.155405</td>\n",
       "      <td>0.14527</td>\n",
       "      <td>0.523649</td>\n",
       "      <td>149.560811</td>\n",
       "      <td>0.327703</td>\n",
       "      <td>1.059122</td>\n",
       "      <td>1.395270</td>\n",
       "      <td>0.679054</td>\n",
       "      <td>2.327703</td>\n",
       "      <td>0.540541</td>\n",
       "    </tr>\n",
       "    <tr>\n",
       "      <th>std</th>\n",
       "      <td>9.059471</td>\n",
       "      <td>0.467631</td>\n",
       "      <td>1.034184</td>\n",
       "      <td>17.72662</td>\n",
       "      <td>51.977011</td>\n",
       "      <td>0.35297</td>\n",
       "      <td>0.526692</td>\n",
       "      <td>22.970792</td>\n",
       "      <td>0.470171</td>\n",
       "      <td>1.166474</td>\n",
       "      <td>0.618235</td>\n",
       "      <td>0.939726</td>\n",
       "      <td>0.585743</td>\n",
       "      <td>0.499198</td>\n",
       "    </tr>\n",
       "    <tr>\n",
       "      <th>min</th>\n",
       "      <td>29.000000</td>\n",
       "      <td>0.000000</td>\n",
       "      <td>0.000000</td>\n",
       "      <td>94.00000</td>\n",
       "      <td>126.000000</td>\n",
       "      <td>0.00000</td>\n",
       "      <td>0.000000</td>\n",
       "      <td>71.000000</td>\n",
       "      <td>0.000000</td>\n",
       "      <td>0.000000</td>\n",
       "      <td>0.000000</td>\n",
       "      <td>0.000000</td>\n",
       "      <td>1.000000</td>\n",
       "      <td>0.000000</td>\n",
       "    </tr>\n",
       "    <tr>\n",
       "      <th>25%</th>\n",
       "      <td>48.000000</td>\n",
       "      <td>0.000000</td>\n",
       "      <td>0.000000</td>\n",
       "      <td>120.00000</td>\n",
       "      <td>211.000000</td>\n",
       "      <td>0.00000</td>\n",
       "      <td>0.000000</td>\n",
       "      <td>133.000000</td>\n",
       "      <td>0.000000</td>\n",
       "      <td>0.000000</td>\n",
       "      <td>1.000000</td>\n",
       "      <td>0.000000</td>\n",
       "      <td>2.000000</td>\n",
       "      <td>0.000000</td>\n",
       "    </tr>\n",
       "    <tr>\n",
       "      <th>50%</th>\n",
       "      <td>56.000000</td>\n",
       "      <td>1.000000</td>\n",
       "      <td>1.000000</td>\n",
       "      <td>130.00000</td>\n",
       "      <td>242.500000</td>\n",
       "      <td>0.00000</td>\n",
       "      <td>1.000000</td>\n",
       "      <td>152.500000</td>\n",
       "      <td>0.000000</td>\n",
       "      <td>0.800000</td>\n",
       "      <td>1.000000</td>\n",
       "      <td>0.000000</td>\n",
       "      <td>2.000000</td>\n",
       "      <td>1.000000</td>\n",
       "    </tr>\n",
       "    <tr>\n",
       "      <th>75%</th>\n",
       "      <td>61.000000</td>\n",
       "      <td>1.000000</td>\n",
       "      <td>2.000000</td>\n",
       "      <td>140.00000</td>\n",
       "      <td>275.250000</td>\n",
       "      <td>0.00000</td>\n",
       "      <td>1.000000</td>\n",
       "      <td>166.000000</td>\n",
       "      <td>1.000000</td>\n",
       "      <td>1.650000</td>\n",
       "      <td>2.000000</td>\n",
       "      <td>1.000000</td>\n",
       "      <td>3.000000</td>\n",
       "      <td>1.000000</td>\n",
       "    </tr>\n",
       "    <tr>\n",
       "      <th>max</th>\n",
       "      <td>77.000000</td>\n",
       "      <td>1.000000</td>\n",
       "      <td>3.000000</td>\n",
       "      <td>200.00000</td>\n",
       "      <td>564.000000</td>\n",
       "      <td>1.00000</td>\n",
       "      <td>2.000000</td>\n",
       "      <td>202.000000</td>\n",
       "      <td>1.000000</td>\n",
       "      <td>6.200000</td>\n",
       "      <td>2.000000</td>\n",
       "      <td>3.000000</td>\n",
       "      <td>3.000000</td>\n",
       "      <td>1.000000</td>\n",
       "    </tr>\n",
       "  </tbody>\n",
       "</table>\n",
       "</div>"
      ],
      "text/plain": [
       "              age         sex          cp   trestbps        chol        fbs  \\\n",
       "count  296.000000  296.000000  296.000000  296.00000  296.000000  296.00000   \n",
       "mean    54.523649    0.679054    0.959459  131.60473  247.155405    0.14527   \n",
       "std      9.059471    0.467631    1.034184   17.72662   51.977011    0.35297   \n",
       "min     29.000000    0.000000    0.000000   94.00000  126.000000    0.00000   \n",
       "25%     48.000000    0.000000    0.000000  120.00000  211.000000    0.00000   \n",
       "50%     56.000000    1.000000    1.000000  130.00000  242.500000    0.00000   \n",
       "75%     61.000000    1.000000    2.000000  140.00000  275.250000    0.00000   \n",
       "max     77.000000    1.000000    3.000000  200.00000  564.000000    1.00000   \n",
       "\n",
       "          restecg     thalach       exang     oldpeak       slope          ca  \\\n",
       "count  296.000000  296.000000  296.000000  296.000000  296.000000  296.000000   \n",
       "mean     0.523649  149.560811    0.327703    1.059122    1.395270    0.679054   \n",
       "std      0.526692   22.970792    0.470171    1.166474    0.618235    0.939726   \n",
       "min      0.000000   71.000000    0.000000    0.000000    0.000000    0.000000   \n",
       "25%      0.000000  133.000000    0.000000    0.000000    1.000000    0.000000   \n",
       "50%      1.000000  152.500000    0.000000    0.800000    1.000000    0.000000   \n",
       "75%      1.000000  166.000000    1.000000    1.650000    2.000000    1.000000   \n",
       "max      2.000000  202.000000    1.000000    6.200000    2.000000    3.000000   \n",
       "\n",
       "             thal      target  \n",
       "count  296.000000  296.000000  \n",
       "mean     2.327703    0.540541  \n",
       "std      0.585743    0.499198  \n",
       "min      1.000000    0.000000  \n",
       "25%      2.000000    0.000000  \n",
       "50%      2.000000    1.000000  \n",
       "75%      3.000000    1.000000  \n",
       "max      3.000000    1.000000  "
      ]
     },
     "execution_count": 15,
     "metadata": {},
     "output_type": "execute_result"
    }
   ],
   "source": [
    "# Checking the dataset again, this time for EDA\n",
    "df.describe()"
   ]
  },
  {
   "cell_type": "code",
   "execution_count": 16,
   "id": "d655e7d1",
   "metadata": {},
   "outputs": [
    {
     "data": {
      "text/plain": [
       "age           int64\n",
       "sex           int64\n",
       "cp            int64\n",
       "trestbps      int64\n",
       "chol          int64\n",
       "fbs           int64\n",
       "restecg       int64\n",
       "thalach       int64\n",
       "exang         int64\n",
       "oldpeak     float64\n",
       "slope         int64\n",
       "ca            int64\n",
       "thal          int64\n",
       "target        int64\n",
       "dtype: object"
      ]
     },
     "execution_count": 16,
     "metadata": {},
     "output_type": "execute_result"
    }
   ],
   "source": [
    "# checking the data type of each features to determine if we need to convert them to numeric form or not\n",
    "df.dtypes"
   ]
  },
  {
   "cell_type": "markdown",
   "id": "9614aef7",
   "metadata": {},
   "source": [
    "# Preparing the Training/Testing Dataset"
   ]
  },
  {
   "cell_type": "code",
   "execution_count": 17,
   "id": "cf7f3e36",
   "metadata": {},
   "outputs": [
    {
     "data": {
      "text/plain": [
       "1    160\n",
       "0    136\n",
       "Name: target, dtype: int64"
      ]
     },
     "execution_count": 17,
     "metadata": {},
     "output_type": "execute_result"
    }
   ],
   "source": [
    "# Check the target distribution, and determine the way to split the dataset properly\n",
    "# Since the number of 0(\"does not have heart disease\") and 1(\"have heart disease\") is not very similar, we will split the dataset by allocating percentage for each class(0, 1), instead of randomly splitting\n",
    "\n",
    "df[\"target\"].value_counts()"
   ]
  },
  {
   "cell_type": "code",
   "execution_count": 18,
   "id": "09697c0b",
   "metadata": {},
   "outputs": [],
   "source": [
    "# Splitting The Dataset\n",
    "\n",
    "# Method 1: Split without seeding\n",
    "# Create a copy of the DataFrame to work from\n",
    "# 1st attempt (split data set into 70% [train] and 30% [test])\n",
    "\n",
    "# copy = df.copy()\n",
    "# train_set = copy.sample(frac=0.70)\n",
    "# test_set = copy.drop(train_set.index)"
   ]
  },
  {
   "cell_type": "code",
   "execution_count": 19,
   "id": "21e27aae",
   "metadata": {},
   "outputs": [],
   "source": [
    "# check the train set\n",
    "# train_set"
   ]
  },
  {
   "cell_type": "code",
   "execution_count": 20,
   "id": "0aa86c46",
   "metadata": {},
   "outputs": [],
   "source": [
    "# check the test set\n",
    "# test_set"
   ]
  },
  {
   "cell_type": "code",
   "execution_count": 21,
   "id": "96f4a73d",
   "metadata": {},
   "outputs": [],
   "source": [
    "# Import to csv file\n",
    "# train_set.to_csv('train_set.csv')\n",
    "# test_set.to_csv('test_set.csv')"
   ]
  },
  {
   "cell_type": "code",
   "execution_count": 22,
   "id": "edf61861",
   "metadata": {},
   "outputs": [],
   "source": [
    "# Method 2: Split with seeding\n",
    "\n",
    "# Using seed, we can ensure the split is always the same each time\n",
    "from sklearn.model_selection import train_test_split\n",
    "X = df.drop('target', axis = 1)\n",
    "y = df['target']\n",
    "# stratify = y, used to assign percentage for each categories(0, 1) for our target\n",
    "X_train, X_test, y_train, y_test = train_test_split(X,y, stratify = y, test_size = 0.40, random_state = 42)\n",
    "\n",
    "# standardise the data, which is vital for KNN algorithm\n",
    "from sklearn.preprocessing import StandardScaler\n",
    "scaler = StandardScaler()\n",
    "X_train = scaler.fit_transform(X_train)\n",
    "X_test = scaler.transform(X_test)"
   ]
  },
  {
   "cell_type": "code",
   "execution_count": 23,
   "id": "50e386df",
   "metadata": {},
   "outputs": [
    {
     "data": {
      "text/plain": [
       "array([[-1.11117405,  0.69813678,  1.01758456, ...,  0.93854807,\n",
       "        -0.67853989, -0.62118137],\n",
       "       [-1.43626133, -1.43238407,  0.03871246, ...,  0.93854807,\n",
       "         0.3658215 , -0.62118137],\n",
       "       [ 1.27279936,  0.69813678, -0.94015965, ...,  0.93854807,\n",
       "        -0.67853989, -2.39455398],\n",
       "       ...,\n",
       "       [-1.11117405,  0.69813678, -0.94015965, ...,  0.93854807,\n",
       "         0.3658215 , -0.62118137],\n",
       "       [-0.02754977, -1.43238407,  1.01758456, ...,  0.93854807,\n",
       "         0.3658215 , -0.62118137],\n",
       "       [-0.67772434,  0.69813678, -0.94015965, ...,  0.93854807,\n",
       "        -0.67853989, -0.62118137]])"
      ]
     },
     "execution_count": 23,
     "metadata": {},
     "output_type": "execute_result"
    }
   ],
   "source": [
    "# Data for training set is now standardised\n",
    "X_train"
   ]
  },
  {
   "cell_type": "code",
   "execution_count": 24,
   "id": "2d9ddbaa",
   "metadata": {},
   "outputs": [
    {
     "data": {
      "text/plain": [
       "array([[-0.67772434,  0.69813678,  1.01758456, ...,  0.93854807,\n",
       "         1.41018289, -0.62118137],\n",
       "       [ 0.51426237,  0.69813678, -0.94015965, ..., -0.64357582,\n",
       "         1.41018289, -2.39455398],\n",
       "       [ 0.51426237,  0.69813678, -0.94015965, ...,  0.93854807,\n",
       "        -0.67853989, -0.62118137],\n",
       "       ...,\n",
       "       [-0.89444919, -1.43238407,  1.01758456, ..., -2.22569971,\n",
       "        -0.67853989, -0.62118137],\n",
       "       [-2.73661046,  0.69813678,  0.03871246, ...,  0.93854807,\n",
       "        -0.67853989, -0.62118137],\n",
       "       [ 0.94771208, -1.43238407,  0.03871246, ...,  0.93854807,\n",
       "         1.41018289, -0.62118137]])"
      ]
     },
     "execution_count": 24,
     "metadata": {},
     "output_type": "execute_result"
    }
   ],
   "source": [
    "# Data for testing set is now standardised\n",
    "X_test"
   ]
  },
  {
   "cell_type": "code",
   "execution_count": 25,
   "id": "2d2e0c21",
   "metadata": {},
   "outputs": [
    {
     "data": {
      "text/plain": [
       "1    96\n",
       "0    81\n",
       "Name: target, dtype: int64"
      ]
     },
     "execution_count": 25,
     "metadata": {},
     "output_type": "execute_result"
    }
   ],
   "source": [
    "# checking whether the dataset have been distributed according to the percentage\n",
    "y_train.value_counts()"
   ]
  },
  {
   "cell_type": "markdown",
   "id": "ea27563f",
   "metadata": {},
   "source": [
    "# Starting to Build Our Predictive Model"
   ]
  },
  {
   "cell_type": "code",
   "execution_count": 26,
   "id": "c42f1adb",
   "metadata": {},
   "outputs": [],
   "source": [
    "#Import models from scikit learn module for SVM purpose:\n",
    "from sklearn import metrics\n",
    "from sklearn import svm"
   ]
  },
  {
   "cell_type": "markdown",
   "id": "0b71d365",
   "metadata": {},
   "source": [
    "# Experiment 1 (60% training, 40% test | All Features)"
   ]
  },
  {
   "cell_type": "code",
   "execution_count": 27,
   "id": "3ac346e6",
   "metadata": {},
   "outputs": [],
   "source": [
    "X = df.drop('target', axis = 1)\n",
    "y = df['target']\n",
    "# stratify = y, used to assign percentage for each categories(0, 1) for our target\n",
    "X_train, X_test, y_train, y_test = train_test_split(X,y, stratify = y, test_size = 0.40, random_state = 42)\n",
    "\n",
    "# standardise the data, which is vital for SVM algorithm\n",
    "from sklearn.preprocessing import StandardScaler\n",
    "scaler = StandardScaler()\n",
    "X_train = scaler.fit_transform(X_train)\n",
    "X_test = scaler.transform(X_test)"
   ]
  },
  {
   "cell_type": "code",
   "execution_count": 28,
   "id": "f716089a",
   "metadata": {},
   "outputs": [
    {
     "data": {
      "text/plain": [
       "array([[-1.11117405,  0.69813678,  1.01758456, ...,  0.93854807,\n",
       "        -0.67853989, -0.62118137],\n",
       "       [-1.43626133, -1.43238407,  0.03871246, ...,  0.93854807,\n",
       "         0.3658215 , -0.62118137],\n",
       "       [ 1.27279936,  0.69813678, -0.94015965, ...,  0.93854807,\n",
       "        -0.67853989, -2.39455398],\n",
       "       ...,\n",
       "       [-1.11117405,  0.69813678, -0.94015965, ...,  0.93854807,\n",
       "         0.3658215 , -0.62118137],\n",
       "       [-0.02754977, -1.43238407,  1.01758456, ...,  0.93854807,\n",
       "         0.3658215 , -0.62118137],\n",
       "       [-0.67772434,  0.69813678, -0.94015965, ...,  0.93854807,\n",
       "        -0.67853989, -0.62118137]])"
      ]
     },
     "execution_count": 28,
     "metadata": {},
     "output_type": "execute_result"
    }
   ],
   "source": [
    "X_train"
   ]
  },
  {
   "cell_type": "code",
   "execution_count": 29,
   "id": "77a50ecc",
   "metadata": {},
   "outputs": [],
   "source": [
    "# We would like to test the SVM algorithm for several kernel\n",
    "kernelList = ['linear', 'poly', 'rbf', 'sigmoid']\n",
    "\n",
    "# Score for training\n",
    "train_scores = {}\n",
    "train_scores_list = []\n",
    "\n",
    "# Scores for testing\n",
    "test_scores = {}\n",
    "test_scores_list = []\n",
    "\n",
    "for item in kernelList:\n",
    "  clf = svm.SVC(kernel=item)\n",
    "  clf.fit(X_train, y_train)\n",
    "  y_train_pred = clf.predict(X_train)\n",
    "  y_test_pred = clf.predict(X_test)\n",
    "  train_scores[item] = metrics.accuracy_score(y_train, y_train_pred)\n",
    "  train_scores_list.append(metrics.accuracy_score(y_train, y_train_pred))\n",
    "  test_scores[item] = metrics.accuracy_score(y_test, y_test_pred)\n",
    "  test_scores_list.append(metrics.accuracy_score(y_test, y_test_pred))"
   ]
  },
  {
   "cell_type": "code",
   "execution_count": 30,
   "id": "6732f699",
   "metadata": {},
   "outputs": [
    {
     "data": {
      "text/plain": [
       "{'linear': 0.8487394957983193,\n",
       " 'poly': 0.8403361344537815,\n",
       " 'rbf': 0.8067226890756303,\n",
       " 'sigmoid': 0.8403361344537815}"
      ]
     },
     "execution_count": 30,
     "metadata": {},
     "output_type": "execute_result"
    }
   ],
   "source": [
    "test_scores"
   ]
  },
  {
   "cell_type": "code",
   "execution_count": 31,
   "id": "bcb5de3d",
   "metadata": {},
   "outputs": [
    {
     "data": {
      "text/plain": [
       "Text(0, 0.5, 'Accuracy')"
      ]
     },
     "execution_count": 31,
     "metadata": {},
     "output_type": "execute_result"
    },
    {
     "data": {
      "image/png": "[encoded data removed]",
      "text/plain": [
       "<Figure size 432x288 with 1 Axes>"
      ]
     },
     "metadata": {
      "needs_background": "light"
     },
     "output_type": "display_data"
    }
   ],
   "source": [
    "import matplotlib.pyplot as plt\n",
    "\n",
    "#plot the relationship between Kernels and the testing accuracy\n",
    "plt.plot(kernelList, train_scores_list, label = 'Training accuracy')\n",
    "plt.plot(kernelList, test_scores_list, label = 'Testing accuracy')\n",
    "plt.legend(loc=\"upper right\")\n",
    "plt.xlabel('Kernels')\n",
    "plt.ylabel('Accuracy')"
   ]
  },
  {
   "cell_type": "markdown",
   "id": "708c21d1",
   "metadata": {},
   "source": [
    "From the plot above, we observe that the best result is obtained when linear kernel is used. Thus, we will use linear kernel for further analysis of the experiment."
   ]
  },
  {
   "cell_type": "code",
   "execution_count": 32,
   "id": "bb4137cd",
   "metadata": {},
   "outputs": [],
   "source": [
    "#Calculate the training time of model\n",
    "import time\n",
    "start = time.time()\n",
    "\n",
    "#Create a svm Classifier\n",
    "clf = svm.SVC(kernel='linear')\n",
    "\n",
    "#Train the model using the training sets\n",
    "clf.fit(X_train, y_train)\n",
    "\n",
    "#Predict the response for test dataset\n",
    "prediction_test = clf.predict(X_test)\n",
    "\n",
    "#Stop the time calculation\n",
    "stop = time.time()\n",
    "\n",
    "# extra information regarding training set, not included in \"training time of model\"\n",
    "prediction_train = clf.predict(X_train)"
   ]
  },
  {
   "cell_type": "code",
   "execution_count": 33,
   "id": "7631f545",
   "metadata": {},
   "outputs": [
    {
     "name": "stdout",
     "output_type": "stream",
     "text": [
      "[Result for training set]\n",
      "Accuracy: 0.8587570621468926\n",
      "Recall: 0.8587570621468926\n",
      "Precision: 0.8613397901533495\n"
     ]
    },
    {
     "data": {
      "text/plain": [
       "<AxesSubplot:>"
      ]
     },
     "execution_count": 33,
     "metadata": {},
     "output_type": "execute_result"
    },
    {
     "data": {
      "image/png": "[encoded data removed]",
      "text/plain": [
       "<Figure size 432x288 with 2 Axes>"
      ]
     },
     "metadata": {
      "needs_background": "light"
     },
     "output_type": "display_data"
    }
   ],
   "source": [
    "from sklearn.metrics import precision_score, recall_score, confusion_matrix, classification_report, accuracy_score, f1_score\n",
    "\n",
    "print(\"[Result for training set]\")\n",
    "print ('Accuracy:', accuracy_score(y_train, prediction_train))\n",
    "print ('Recall:', recall_score(y_train, prediction_train, average=\"weighted\"))\n",
    "print ('Precision:', precision_score(y_train, prediction_train, average=\"weighted\"))\n",
    "\n",
    "confusion = confusion_matrix(y_train, prediction_train)\n",
    "group_names = ['True Negative', 'False Positive', 'False Negative', 'True Positive']\n",
    "group_counts = ['{0:0.0f}'.format(value) for value in confusion.flatten()]\n",
    "# obtain the class percentage by dividing the count over the number of rows in the testing set\n",
    "group_percentages = ['{0:.2%}'.format(value) for value in confusion.flatten()/np.sum(confusion)]\n",
    "labels = [f'{v1}\\n{v2}\\n{v3}' for v1, v2, v3 in zip(group_names,group_counts,group_percentages)]\n",
    "labels = np.asarray(labels).reshape(2,2)\n",
    "sns.heatmap(confusion, annot=labels, fmt='', cmap='Oranges')"
   ]
  },
  {
   "cell_type": "code",
   "execution_count": 34,
   "id": "3374e09b",
   "metadata": {},
   "outputs": [
    {
     "name": "stdout",
     "output_type": "stream",
     "text": [
      "[Result for testing set]\n",
      "Training time : 0.0049974918365478516s\n",
      "Accuracy: 0.8487394957983193\n",
      "Recall: 0.8487394957983193\n",
      "Precision: 0.8487394957983193\n"
     ]
    },
    {
     "data": {
      "text/plain": [
       "<AxesSubplot:>"
      ]
     },
     "execution_count": 34,
     "metadata": {},
     "output_type": "execute_result"
    },
    {
     "data": {
      "image/png": "[encoded data removed]",
      "text/plain": [
       "<Figure size 432x288 with 2 Axes>"
      ]
     },
     "metadata": {
      "needs_background": "light"
     },
     "output_type": "display_data"
    }
   ],
   "source": [
    "print(\"[Result for testing set]\")\n",
    "print (f\"Training time : {stop-start}s\")\n",
    "print ('Accuracy:', accuracy_score(y_test, prediction_test))\n",
    "print ('Recall:', recall_score(y_test, prediction_test, average=\"weighted\"))\n",
    "print ('Precision:', precision_score(y_test, prediction_test, average=\"weighted\"))\n",
    "\n",
    "confusion = confusion_matrix(y_test, prediction_test)\n",
    "group_names = ['True Negative', 'False Positive', 'False Negative', 'True Positive']\n",
    "group_counts = ['{0:0.0f}'.format(value) for value in confusion.flatten()]\n",
    "# obtain the class percentage by dividing the count over the number of rows in the testing set\n",
    "group_percentages = ['{0:.2%}'.format(value) for value in confusion.flatten()/np.sum(confusion)]\n",
    "labels = [f'{v1}\\n{v2}\\n{v3}' for v1, v2, v3 in zip(group_names,group_counts,group_percentages)]\n",
    "labels = np.asarray(labels).reshape(2,2)\n",
    "sns.heatmap(confusion, annot=labels, fmt='', cmap='Blues')"
   ]
  },
  {
   "cell_type": "markdown",
   "id": "aefc8a74",
   "metadata": {},
   "source": [
    "# Experiment 2 (60% training, 40% test | Top 10 Features Only)"
   ]
  },
  {
   "cell_type": "code",
   "execution_count": 35,
   "id": "57f789eb",
   "metadata": {},
   "outputs": [],
   "source": [
    "X = df[['ca', 'thalach', 'cp', 'exang', 'oldpeak', 'thal', 'age', 'slope', 'trestbps', 'sex']]\n",
    "y = df['target']\n",
    "X_train, X_test, y_train, y_test = train_test_split(X,y, stratify = y, test_size = 0.40, random_state = 42)\n",
    "\n",
    "# standardise the data before being fitted into the SVM algorithm\n",
    "from sklearn.preprocessing import StandardScaler\n",
    "scaler = StandardScaler()\n",
    "X_train = scaler.fit_transform(X_train)\n",
    "X_test = scaler.transform(X_test)"
   ]
  },
  {
   "cell_type": "code",
   "execution_count": 36,
   "id": "f13560c4",
   "metadata": {},
   "outputs": [
    {
     "data": {
      "text/plain": [
       "array([[-0.67853989,  1.27429259,  1.01758456, ...,  0.93854807,\n",
       "         0.46022201,  0.69813678],\n",
       "       [ 0.3658215 ,  0.75459262,  0.03871246, ...,  0.93854807,\n",
       "        -1.55752418, -1.43238407],\n",
       "       [-0.67853989, -0.54465732, -0.94015965, ...,  0.93854807,\n",
       "         1.61321983,  0.69813678],\n",
       "       ...,\n",
       "       [ 0.3658215 ,  1.1443676 , -0.94015965, ...,  0.93854807,\n",
       "        -1.26927472,  0.69813678],\n",
       "       [ 0.3658215 ,  0.53805096,  1.01758456, ...,  0.93854807,\n",
       "         1.61321983, -1.43238407],\n",
       "       [-0.67853989,  1.53414258, -0.94015965, ...,  0.93854807,\n",
       "        -0.57747603,  0.69813678]])"
      ]
     },
     "execution_count": 36,
     "metadata": {},
     "output_type": "execute_result"
    }
   ],
   "source": [
    "X_train"
   ]
  },
  {
   "cell_type": "code",
   "execution_count": 37,
   "id": "76872278",
   "metadata": {},
   "outputs": [],
   "source": [
    "# We would like to test the SVM algorithm for several kernel\n",
    "kernelList = ['linear', 'poly', 'rbf', 'sigmoid']\n",
    "\n",
    "# Score for training\n",
    "train_scores = {}\n",
    "train_scores_list = []\n",
    "\n",
    "# Scores for testing\n",
    "test_scores = {}\n",
    "test_scores_list = []\n",
    "\n",
    "for item in kernelList:\n",
    "  clf = svm.SVC(kernel=item)\n",
    "  clf.fit(X_train, y_train)\n",
    "  y_train_pred = clf.predict(X_train)\n",
    "  y_test_pred = clf.predict(X_test)\n",
    "  train_scores[item] = metrics.accuracy_score(y_train, y_train_pred)\n",
    "  train_scores_list.append(metrics.accuracy_score(y_train, y_train_pred))\n",
    "  test_scores[item] = metrics.accuracy_score(y_test, y_test_pred)\n",
    "  test_scores_list.append(metrics.accuracy_score(y_test, y_test_pred))"
   ]
  },
  {
   "cell_type": "code",
   "execution_count": 38,
   "id": "bedc9830",
   "metadata": {},
   "outputs": [
    {
     "data": {
      "text/plain": [
       "{'linear': 0.8403361344537815,\n",
       " 'poly': 0.8151260504201681,\n",
       " 'rbf': 0.8067226890756303,\n",
       " 'sigmoid': 0.8403361344537815}"
      ]
     },
     "execution_count": 38,
     "metadata": {},
     "output_type": "execute_result"
    }
   ],
   "source": [
    "test_scores"
   ]
  },
  {
   "cell_type": "code",
   "execution_count": 39,
   "id": "aa67e350",
   "metadata": {},
   "outputs": [
    {
     "data": {
      "text/plain": [
       "Text(0, 0.5, 'Accuracy')"
      ]
     },
     "execution_count": 39,
     "metadata": {},
     "output_type": "execute_result"
    },
    {
     "data": {
      "image/png": "[encoded data removed]",
      "text/plain": [
       "<Figure size 432x288 with 1 Axes>"
      ]
     },
     "metadata": {
      "needs_background": "light"
     },
     "output_type": "display_data"
    }
   ],
   "source": [
    "#plot the relationship between Kernels and the testing accuracy\n",
    "plt.plot(kernelList, train_scores_list, label = 'Training accuracy')\n",
    "plt.plot(kernelList, test_scores_list, label = 'Testing accuracy')\n",
    "plt.legend(loc=\"upper right\")\n",
    "plt.xlabel('Kernels')\n",
    "plt.ylabel('Accuracy')"
   ]
  },
  {
   "cell_type": "markdown",
   "id": "88850fdb",
   "metadata": {},
   "source": [
    "From the plot above, linear and sigmoid kernels have the best testing accuracy. Thus, we will choose linear kernel."
   ]
  },
  {
   "cell_type": "code",
   "execution_count": 40,
   "id": "6a3b60d0",
   "metadata": {},
   "outputs": [],
   "source": [
    "#Calculate the training time of model\n",
    "start = time.time()\n",
    "\n",
    "#Train the model using the training sets\n",
    "clf = svm.SVC(kernel='linear')\n",
    "clf.fit(X_train, y_train)\n",
    "\n",
    "#Predict the response for test dataset\n",
    "prediction_test = clf.predict(X_test)\n",
    "\n",
    "#Stop the time calculation\n",
    "stop = time.time()\n",
    "\n",
    "# extra information regarding training set, not included in \"training time of model\"\n",
    "prediction_train = clf.predict(X_train)"
   ]
  },
  {
   "cell_type": "code",
   "execution_count": 41,
   "id": "0c63d664",
   "metadata": {},
   "outputs": [
    {
     "name": "stdout",
     "output_type": "stream",
     "text": [
      "[Result for training set]\n",
      "Accuracy: 0.8587570621468926\n",
      "Recall: 0.8587570621468926\n",
      "Precision: 0.8600905496577703\n"
     ]
    },
    {
     "data": {
      "text/plain": [
       "<AxesSubplot:>"
      ]
     },
     "execution_count": 41,
     "metadata": {},
     "output_type": "execute_result"
    },
    {
     "data": {
      "image/png": "[encoded data removed]",
      "text/plain": [
       "<Figure size 432x288 with 2 Axes>"
      ]
     },
     "metadata": {
      "needs_background": "light"
     },
     "output_type": "display_data"
    }
   ],
   "source": [
    "print(\"[Result for training set]\")\n",
    "print ('Accuracy:', accuracy_score(y_train, prediction_train))\n",
    "print ('Recall:', recall_score(y_train, prediction_train, average=\"weighted\"))\n",
    "print ('Precision:', precision_score(y_train, prediction_train, average=\"weighted\"))\n",
    "\n",
    "confusion = confusion_matrix(y_train, prediction_train)\n",
    "group_names = ['True Negative', 'False Positive', 'False Negative', 'True Positive']\n",
    "group_counts = ['{0:0.0f}'.format(value) for value in confusion.flatten()]\n",
    "# obtain the class percentage by dividing the count over the number of rows in the testing set\n",
    "group_percentages = ['{0:.2%}'.format(value) for value in confusion.flatten()/np.sum(confusion)]\n",
    "labels = [f'{v1}\\n{v2}\\n{v3}' for v1, v2, v3 in zip(group_names,group_counts,group_percentages)]\n",
    "labels = np.asarray(labels).reshape(2,2)\n",
    "sns.heatmap(confusion, annot=labels, fmt='', cmap='Oranges')"
   ]
  },
  {
   "cell_type": "code",
   "execution_count": 42,
   "id": "dd856955",
   "metadata": {},
   "outputs": [
    {
     "name": "stdout",
     "output_type": "stream",
     "text": [
      "[Result for testing set]\n",
      "Training time : 0.003998994827270508s\n",
      "Accuracy: 0.8403361344537815\n",
      "Recall: 0.8403361344537815\n",
      "Precision: 0.8406362545018007\n"
     ]
    },
    {
     "data": {
      "text/plain": [
       "<AxesSubplot:>"
      ]
     },
     "execution_count": 42,
     "metadata": {},
     "output_type": "execute_result"
    },
    {
     "data": {
      "image/png": "[encoded data removed]",
      "text/plain": [
       "<Figure size 432x288 with 2 Axes>"
      ]
     },
     "metadata": {
      "needs_background": "light"
     },
     "output_type": "display_data"
    }
   ],
   "source": [
    "print(\"[Result for testing set]\")\n",
    "print (f\"Training time : {stop-start}s\")\n",
    "print ('Accuracy:', accuracy_score(y_test, prediction_test))\n",
    "print ('Recall:', recall_score(y_test, prediction_test, average=\"weighted\"))\n",
    "print ('Precision:', precision_score(y_test, prediction_test, average=\"weighted\"))\n",
    "\n",
    "confusion = confusion_matrix(y_test, prediction_test)\n",
    "group_names = ['True Negative', 'False Positive', 'False Negative', 'True Positive']\n",
    "group_counts = ['{0:0.0f}'.format(value) for value in confusion.flatten()]\n",
    "# obtain the class percentage by dividing the count over the number of rows in the testing set\n",
    "group_percentages = ['{0:.2%}'.format(value) for value in confusion.flatten()/np.sum(confusion)]\n",
    "labels = [f'{v1}\\n{v2}\\n{v3}' for v1, v2, v3 in zip(group_names,group_counts,group_percentages)]\n",
    "labels = np.asarray(labels).reshape(2,2)\n",
    "sns.heatmap(confusion, annot=labels, fmt='', cmap='Blues')"
   ]
  },
  {
   "cell_type": "markdown",
   "id": "3726238e",
   "metadata": {},
   "source": [
    "# Experiment 3 (60% training, 40% test | Top 8 Features Only)"
   ]
  },
  {
   "cell_type": "code",
   "execution_count": 43,
   "id": "f2d9b4ae",
   "metadata": {},
   "outputs": [],
   "source": [
    "X = df[['ca', 'thalach', 'cp', 'exang', 'oldpeak', 'thal', 'age', 'slope']]\n",
    "y = df['target']\n",
    "X_train, X_test, y_train, y_test = train_test_split(X,y, stratify = y, test_size = 0.40, random_state = 42)\n",
    "\n",
    "# standardise the data before being fitted into the SVM algorithm\n",
    "from sklearn.preprocessing import StandardScaler\n",
    "scaler = StandardScaler()\n",
    "X_train = scaler.fit_transform(X_train)\n",
    "X_test = scaler.transform(X_test)"
   ]
  },
  {
   "cell_type": "code",
   "execution_count": 44,
   "id": "2cb53f68",
   "metadata": {},
   "outputs": [
    {
     "data": {
      "text/plain": [
       "array([[-0.67853989,  1.27429259,  1.01758456, ..., -0.62118137,\n",
       "        -1.11117405,  0.93854807],\n",
       "       [ 0.3658215 ,  0.75459262,  0.03871246, ..., -0.62118137,\n",
       "        -1.43626133,  0.93854807],\n",
       "       [-0.67853989, -0.54465732, -0.94015965, ..., -2.39455398,\n",
       "         1.27279936,  0.93854807],\n",
       "       ...,\n",
       "       [ 0.3658215 ,  1.1443676 , -0.94015965, ..., -0.62118137,\n",
       "        -1.11117405,  0.93854807],\n",
       "       [ 0.3658215 ,  0.53805096,  1.01758456, ..., -0.62118137,\n",
       "        -0.02754977,  0.93854807],\n",
       "       [-0.67853989,  1.53414258, -0.94015965, ..., -0.62118137,\n",
       "        -0.67772434,  0.93854807]])"
      ]
     },
     "execution_count": 44,
     "metadata": {},
     "output_type": "execute_result"
    }
   ],
   "source": [
    "X_train"
   ]
  },
  {
   "cell_type": "code",
   "execution_count": 45,
   "id": "3baafbb5",
   "metadata": {},
   "outputs": [],
   "source": [
    "# We would like to test the SVM algorithm for several kernel\n",
    "kernelList = ['linear', 'poly', 'rbf', 'sigmoid']\n",
    "\n",
    "# Score for training\n",
    "train_scores = {}\n",
    "train_scores_list = []\n",
    "\n",
    "# Scores for testing\n",
    "test_scores = {}\n",
    "test_scores_list = []\n",
    "\n",
    "for item in kernelList:\n",
    "  clf = svm.SVC(kernel=item)\n",
    "  clf.fit(X_train, y_train)\n",
    "  y_train_pred = clf.predict(X_train)\n",
    "  y_test_pred = clf.predict(X_test)\n",
    "  train_scores[item] = metrics.accuracy_score(y_train, y_train_pred)\n",
    "  train_scores_list.append(metrics.accuracy_score(y_train, y_train_pred))\n",
    "  test_scores[item] = metrics.accuracy_score(y_test, y_test_pred)\n",
    "  test_scores_list.append(metrics.accuracy_score(y_test, y_test_pred))"
   ]
  },
  {
   "cell_type": "code",
   "execution_count": 46,
   "id": "685c9485",
   "metadata": {},
   "outputs": [
    {
     "data": {
      "text/plain": [
       "{'linear': 0.8487394957983193,\n",
       " 'poly': 0.8067226890756303,\n",
       " 'rbf': 0.8319327731092437,\n",
       " 'sigmoid': 0.8403361344537815}"
      ]
     },
     "execution_count": 46,
     "metadata": {},
     "output_type": "execute_result"
    }
   ],
   "source": [
    "test_scores"
   ]
  },
  {
   "cell_type": "code",
   "execution_count": 47,
   "id": "6dcbbc94",
   "metadata": {},
   "outputs": [
    {
     "data": {
      "text/plain": [
       "Text(0, 0.5, 'Accuracy')"
      ]
     },
     "execution_count": 47,
     "metadata": {},
     "output_type": "execute_result"
    },
    {
     "data": {
      "image/png": "[encoded data removed]",
      "text/plain": [
       "<Figure size 432x288 with 1 Axes>"
      ]
     },
     "metadata": {
      "needs_background": "light"
     },
     "output_type": "display_data"
    }
   ],
   "source": [
    "#plot the relationship between Kernels and the testing accuracy\n",
    "plt.plot(kernelList, train_scores_list, label = 'Training accuracy')\n",
    "plt.plot(kernelList, test_scores_list, label = 'Testing accuracy')\n",
    "plt.legend(loc=\"upper right\")\n",
    "plt.xlabel('Kernels')\n",
    "plt.ylabel('Accuracy')"
   ]
  },
  {
   "cell_type": "markdown",
   "id": "6657c0e5",
   "metadata": {},
   "source": [
    "From the plot above, we observe that the best result is obtained when linear kernel is used. Thus, we will use linear kernel for further analysis of the experiment."
   ]
  },
  {
   "cell_type": "code",
   "execution_count": 48,
   "id": "88311ab3",
   "metadata": {},
   "outputs": [],
   "source": [
    "#Calculate the training time of model\n",
    "start = time.time()\n",
    "\n",
    "#Train the model using the training sets\n",
    "clf = svm.SVC(kernel = 'linear')\n",
    "clf.fit(X_train, y_train)\n",
    "\n",
    "#Predict the response for test dataset\n",
    "prediction_test = clf.predict(X_test)\n",
    "\n",
    "#Stop the time calculation\n",
    "stop = time.time()\n",
    "\n",
    "# extra information regarding training set, not included in \"training time of model\"\n",
    "prediction_train = clf.predict(X_train)"
   ]
  },
  {
   "cell_type": "code",
   "execution_count": 49,
   "id": "18ef1ecb",
   "metadata": {},
   "outputs": [
    {
     "name": "stdout",
     "output_type": "stream",
     "text": [
      "[Result for training set]\n",
      "Accuracy: 0.8587570621468926\n",
      "Recall: 0.8587570621468926\n",
      "Precision: 0.8676064354030455\n"
     ]
    },
    {
     "data": {
      "text/plain": [
       "<AxesSubplot:>"
      ]
     },
     "execution_count": 49,
     "metadata": {},
     "output_type": "execute_result"
    },
    {
     "data": {
      "image/png": "[encoded data removed]",
      "text/plain": [
       "<Figure size 432x288 with 2 Axes>"
      ]
     },
     "metadata": {
      "needs_background": "light"
     },
     "output_type": "display_data"
    }
   ],
   "source": [
    "print(\"[Result for training set]\")\n",
    "print ('Accuracy:', accuracy_score(y_train, prediction_train))\n",
    "print ('Recall:', recall_score(y_train, prediction_train, average=\"weighted\"))\n",
    "print ('Precision:', precision_score(y_train, prediction_train, average=\"weighted\"))\n",
    "\n",
    "confusion = confusion_matrix(y_train, prediction_train)\n",
    "group_names = ['True Negative', 'False Positive', 'False Negative', 'True Positive']\n",
    "group_counts = ['{0:0.0f}'.format(value) for value in confusion.flatten()]\n",
    "# obtain the class percentage by dividing the count over the number of rows in the testing set\n",
    "group_percentages = ['{0:.2%}'.format(value) for value in confusion.flatten()/np.sum(confusion)]\n",
    "labels = [f'{v1}\\n{v2}\\n{v3}' for v1, v2, v3 in zip(group_names,group_counts,group_percentages)]\n",
    "labels = np.asarray(labels).reshape(2,2)\n",
    "sns.heatmap(confusion, annot=labels, fmt='', cmap='Oranges')"
   ]
  },
  {
   "cell_type": "code",
   "execution_count": 50,
   "id": "bc0fe59e",
   "metadata": {},
   "outputs": [
    {
     "name": "stdout",
     "output_type": "stream",
     "text": [
      "[Result for testing set]\n",
      "Training time : 0.0049974918365478516s\n",
      "Accuracy: 0.8487394957983193\n",
      "Recall: 0.8487394957983193\n",
      "Precision: 0.8537258875181278\n"
     ]
    },
    {
     "data": {
      "text/plain": [
       "<AxesSubplot:>"
      ]
     },
     "execution_count": 50,
     "metadata": {},
     "output_type": "execute_result"
    },
    {
     "data": {
      "image/png": "[encoded data removed]",
      "text/plain": [
       "<Figure size 432x288 with 2 Axes>"
      ]
     },
     "metadata": {
      "needs_background": "light"
     },
     "output_type": "display_data"
    }
   ],
   "source": [
    "print(\"[Result for testing set]\")\n",
    "print (f\"Training time : {stop-start}s\")\n",
    "print ('Accuracy:', accuracy_score(y_test, prediction_test))\n",
    "print ('Recall:', recall_score(y_test, prediction_test, average=\"weighted\"))\n",
    "print ('Precision:', precision_score(y_test, prediction_test, average=\"weighted\"))\n",
    "\n",
    "confusion = confusion_matrix(y_test, prediction_test)\n",
    "group_names = ['True Negative', 'False Positive', 'False Negative', 'True Positive']\n",
    "group_counts = ['{0:0.0f}'.format(value) for value in confusion.flatten()]\n",
    "# obtain the class percentage by dividing the count over the number of rows in the testing set\n",
    "group_percentages = ['{0:.2%}'.format(value) for value in confusion.flatten()/np.sum(confusion)]\n",
    "labels = [f'{v1}\\n{v2}\\n{v3}' for v1, v2, v3 in zip(group_names,group_counts,group_percentages)]\n",
    "labels = np.asarray(labels).reshape(2,2)\n",
    "sns.heatmap(confusion, annot=labels, fmt='', cmap='Blues')"
   ]
  },
  {
   "cell_type": "markdown",
   "id": "46e8ad2c",
   "metadata": {},
   "source": [
    "# Experiment 4 (60% training, 40% test | Top 5 Features Only)"
   ]
  },
  {
   "cell_type": "code",
   "execution_count": 51,
   "id": "d9ff35d4",
   "metadata": {},
   "outputs": [],
   "source": [
    "X = df[['ca', 'thalach', 'cp', 'exang', 'oldpeak']]\n",
    "y = df['target']\n",
    "X_train, X_test, y_train, y_test = train_test_split(X,y, stratify = y, test_size = 0.40, random_state = 42)\n",
    "\n",
    "# standardise the data before being fitted into the SVM algorithm\n",
    "from sklearn.preprocessing import StandardScaler\n",
    "scaler = StandardScaler()\n",
    "X_train = scaler.fit_transform(X_train)\n",
    "X_test = scaler.transform(X_test)"
   ]
  },
  {
   "cell_type": "code",
   "execution_count": 52,
   "id": "2fe65538",
   "metadata": {},
   "outputs": [
    {
     "data": {
      "text/plain": [
       "array([[-6.78539886e-01,  1.27429259e+00,  1.01758456e+00,\n",
       "        -6.53773168e-01, -9.03197810e-01],\n",
       "       [ 3.65821504e-01,  7.54592619e-01,  3.87124563e-02,\n",
       "        -6.53773168e-01, -9.03197810e-01],\n",
       "       [-6.78539886e-01, -5.44657318e-01, -9.40159652e-01,\n",
       "        -6.53773168e-01,  9.80469344e-01],\n",
       "       [-6.78539886e-01, -1.10766562e+00, -9.40159652e-01,\n",
       "         1.52958251e+00,  5.70976484e-01],\n",
       "       [-6.78539886e-01,  9.71134275e-01,  3.87124563e-02,\n",
       "        -6.53773168e-01, -9.03197810e-01],\n",
       "       [-6.78539886e-01,  1.91584313e-01,  3.87124563e-02,\n",
       "        -6.53773168e-01, -9.03197810e-01],\n",
       "       [-6.78539886e-01,  1.53414258e+00, -9.40159652e-01,\n",
       "         1.52958251e+00, -9.03197810e-01],\n",
       "       [-6.78539886e-01,  4.51434300e-01, -9.40159652e-01,\n",
       "        -6.53773168e-01, -9.03197810e-01],\n",
       "       [-6.78539886e-01, -1.71398226e+00, -9.40159652e-01,\n",
       "         1.52958251e+00, -9.03197810e-01],\n",
       "       [ 3.65821504e-01,  4.94742631e-01, -9.40159652e-01,\n",
       "         1.52958251e+00, -9.03197810e-01],\n",
       "       [-6.78539886e-01, -8.47815637e-01,  1.01758456e+00,\n",
       "         1.52958251e+00,  5.70976484e-01],\n",
       "       [-6.78539886e-01,  1.01444261e+00,  1.99645667e+00,\n",
       "        -6.53773168e-01, -9.03197810e-01],\n",
       "       [ 2.45454428e+00, -5.01348987e-01,  1.01758456e+00,\n",
       "        -6.53773168e-01,  7.34773628e-01],\n",
       "       [ 1.41018289e+00,  4.08125969e-01, -9.40159652e-01,\n",
       "         1.52958251e+00,  2.43382197e-01],\n",
       "       [-6.78539886e-01, -1.58405727e+00,  1.99645667e+00,\n",
       "        -6.53773168e-01,  1.22616506e+00],\n",
       "       [-6.78539886e-01,  6.67975956e-01,  3.87124563e-02,\n",
       "        -6.53773168e-01,  7.95850529e-02],\n",
       "       [-6.78539886e-01, -2.84807331e-01,  1.99645667e+00,\n",
       "         1.52958251e+00,  5.70976484e-01],\n",
       "       [-6.78539886e-01, -6.31273981e-01, -9.40159652e-01,\n",
       "         1.52958251e+00, -9.03197810e-01],\n",
       "       [-6.78539886e-01, -1.11574006e-01, -9.40159652e-01,\n",
       "        -6.53773168e-01, -5.75603522e-01],\n",
       "       [-6.78539886e-01, -1.54074894e+00,  1.01758456e+00,\n",
       "        -6.53773168e-01,  3.25280769e-01],\n",
       "       [-6.78539886e-01, -1.10766562e+00, -9.40159652e-01,\n",
       "         1.52958251e+00,  1.22616506e+00],\n",
       "       [-6.78539886e-01,  1.31760092e+00, -9.40159652e-01,\n",
       "        -6.53773168e-01,  7.95850529e-02],\n",
       "       [ 3.65821504e-01,  6.16593190e-02,  1.01758456e+00,\n",
       "        -6.53773168e-01, -4.93704950e-01],\n",
       "       [-6.78539886e-01,  4.08125969e-01, -9.40159652e-01,\n",
       "        -6.53773168e-01,  7.95850529e-02],\n",
       "       [-6.78539886e-01, -4.14732324e-01,  3.87124563e-02,\n",
       "        -6.53773168e-01, -6.57502094e-01],\n",
       "       [-6.78539886e-01,  8.41209281e-01,  1.01758456e+00,\n",
       "        -6.53773168e-01, -9.03197810e-01],\n",
       "       [-6.78539886e-01,  2.34892644e-01,  3.87124563e-02,\n",
       "        -6.53773168e-01, -9.03197810e-01],\n",
       "       [-6.78539886e-01,  4.08125969e-01, -9.40159652e-01,\n",
       "        -6.53773168e-01, -9.03197810e-01],\n",
       "       [-6.78539886e-01, -1.32420728e+00, -9.40159652e-01,\n",
       "         1.52958251e+00,  1.14426649e+00],\n",
       "       [-6.78539886e-01,  4.08125969e-01,  3.87124563e-02,\n",
       "        -6.53773168e-01,  5.70976484e-01],\n",
       "       [ 3.65821504e-01, -2.71007388e+00, -9.40159652e-01,\n",
       "         1.52958251e+00,  7.95850529e-02],\n",
       "       [-6.78539886e-01,  1.36090926e+00,  3.87124563e-02,\n",
       "        -6.53773168e-01, -9.03197810e-01],\n",
       "       [-6.78539886e-01, -1.19428229e+00, -9.40159652e-01,\n",
       "         1.52958251e+00, -7.39400666e-01],\n",
       "       [ 1.41018289e+00, -2.40691556e+00, -9.40159652e-01,\n",
       "         1.52958251e+00,  7.34773628e-01],\n",
       "       [ 2.45454428e+00,  4.94742631e-01, -9.40159652e-01,\n",
       "         1.52958251e+00, -9.03197810e-01],\n",
       "       [ 3.65821504e-01, -2.32029890e+00,  1.01758456e+00,\n",
       "        -6.53773168e-01,  7.95850529e-02],\n",
       "       [-6.78539886e-01,  6.16593190e-02, -9.40159652e-01,\n",
       "         1.52958251e+00, -7.39400666e-01],\n",
       "       [-6.78539886e-01,  1.05775094e+00,  3.87124563e-02,\n",
       "        -6.53773168e-01, -4.11806378e-01],\n",
       "       [-6.78539886e-01, -1.71398226e+00, -9.40159652e-01,\n",
       "         1.52958251e+00,  3.68312222e+00],\n",
       "       [-6.78539886e-01,  6.24667625e-01,  1.01758456e+00,\n",
       "        -6.53773168e-01, -9.03197810e-01],\n",
       "       [-6.78539886e-01,  1.62075924e+00,  3.87124563e-02,\n",
       "        -6.53773168e-01, -9.03197810e-01],\n",
       "       [-6.78539886e-01,  1.88060923e+00,  1.01758456e+00,\n",
       "        -6.53773168e-01, -2.48009235e-01],\n",
       "       [-6.78539886e-01, -3.71423993e-01, -9.40159652e-01,\n",
       "         1.52958251e+00,  7.95850529e-02],\n",
       "       [-6.78539886e-01,  1.44752592e+00,  3.87124563e-02,\n",
       "        -6.53773168e-01, -9.03197810e-01],\n",
       "       [-6.78539886e-01,  1.91584313e-01, -9.40159652e-01,\n",
       "         1.52958251e+00,  1.63565792e+00],\n",
       "       [-6.78539886e-01, -1.45413227e+00, -9.40159652e-01,\n",
       "         1.52958251e+00,  1.88135363e+00],\n",
       "       [ 1.41018289e+00,  3.21509306e-01, -9.40159652e-01,\n",
       "        -6.53773168e-01, -4.11806378e-01],\n",
       "       [-6.78539886e-01, -1.49744061e+00,  1.01758456e+00,\n",
       "        -6.53773168e-01, -2.31351898e-03],\n",
       "       [-6.78539886e-01,  6.16593190e-02, -9.40159652e-01,\n",
       "         1.52958251e+00, -9.03197810e-01],\n",
       "       [ 1.41018289e+00,  4.94742631e-01,  1.99645667e+00,\n",
       "        -6.53773168e-01, -2.48009235e-01],\n",
       "       [-6.78539886e-01, -1.10766562e+00, -9.40159652e-01,\n",
       "        -6.53773168e-01,  4.07179341e-01],\n",
       "       [-6.78539886e-01,  1.83509878e-02,  1.01758456e+00,\n",
       "        -6.53773168e-01, -2.48009235e-01],\n",
       "       [-6.78539886e-01,  9.27825944e-01,  1.01758456e+00,\n",
       "        -6.53773168e-01, -9.03197810e-01],\n",
       "       [ 1.41018289e+00,  7.97900950e-01, -9.40159652e-01,\n",
       "         1.52958251e+00,  5.70976484e-01],\n",
       "       [-6.78539886e-01,  7.97900950e-01, -9.40159652e-01,\n",
       "        -6.53773168e-01, -9.03197810e-01],\n",
       "       [-6.78539886e-01,  1.05775094e+00,  1.01758456e+00,\n",
       "        -6.53773168e-01, -4.11806378e-01],\n",
       "       [ 1.41018289e+00,  4.94742631e-01,  3.87124563e-02,\n",
       "        -6.53773168e-01, -5.75603522e-01],\n",
       "       [-6.78539886e-01, -3.28115662e-01, -9.40159652e-01,\n",
       "        -6.53773168e-01, -8.21299238e-01],\n",
       "       [ 3.65821504e-01,  9.71134275e-01,  1.01758456e+00,\n",
       "        -6.53773168e-01, -7.39400666e-01],\n",
       "       [ 1.41018289e+00, -2.84807331e-01, -9.40159652e-01,\n",
       "         1.52958251e+00,  2.37274507e+00],\n",
       "       [ 3.65821504e-01, -1.97383225e+00, -9.40159652e-01,\n",
       "        -6.53773168e-01,  7.34773628e-01],\n",
       "       [ 2.45454428e+00, -2.41499000e-01, -9.40159652e-01,\n",
       "        -6.53773168e-01,  4.17451365e+00],\n",
       "       [-6.78539886e-01,  1.01444261e+00,  1.01758456e+00,\n",
       "        -6.53773168e-01,  4.07179341e-01],\n",
       "       [ 1.41018289e+00, -8.04507306e-01, -9.40159652e-01,\n",
       "         1.52958251e+00,  1.06236792e+00],\n",
       "       [-6.78539886e-01,  1.91584313e-01,  1.99645667e+00,\n",
       "        -6.53773168e-01, -4.11806378e-01],\n",
       "       [-6.78539886e-01,  1.23098426e+00,  1.01758456e+00,\n",
       "        -6.53773168e-01, -9.03197810e-01],\n",
       "       [-6.78539886e-01,  7.97900950e-01,  1.01758456e+00,\n",
       "        -6.53773168e-01, -9.03197810e-01],\n",
       "       [-6.78539886e-01,  4.51434300e-01, -9.40159652e-01,\n",
       "        -6.53773168e-01, -4.93704950e-01],\n",
       "       [-6.78539886e-01, -2.36360723e+00,  1.01758456e+00,\n",
       "        -6.53773168e-01, -9.03197810e-01],\n",
       "       [ 3.65821504e-01, -2.41499000e-01, -9.40159652e-01,\n",
       "         1.52958251e+00, -2.48009235e-01],\n",
       "       [ 3.65821504e-01, -8.91123968e-01,  1.01758456e+00,\n",
       "        -6.53773168e-01, -9.03197810e-01],\n",
       "       [-6.78539886e-01,  9.71134275e-01, -9.40159652e-01,\n",
       "         1.52958251e+00,  4.07179341e-01],\n",
       "       [ 1.41018289e+00,  9.71134275e-01,  1.01758456e+00,\n",
       "        -6.53773168e-01,  1.71755649e+00],\n",
       "       [-6.78539886e-01,  4.94742631e-01,  3.87124563e-02,\n",
       "        -6.53773168e-01, -2.31351898e-03],\n",
       "       [ 3.65821504e-01, -1.02104896e+00, -9.40159652e-01,\n",
       "        -6.53773168e-01,  1.38996220e+00],\n",
       "       [ 3.65821504e-01, -1.54882337e-01, -9.40159652e-01,\n",
       "        -6.53773168e-01,  2.43382197e-01],\n",
       "       [-6.78539886e-01,  1.18767593e+00, -9.40159652e-01,\n",
       "        -6.53773168e-01, -9.03197810e-01],\n",
       "       [-6.78539886e-01,  6.24667625e-01,  1.01758456e+00,\n",
       "        -6.53773168e-01,  4.07179341e-01],\n",
       "       [-6.78539886e-01, -7.61198974e-01,  1.01758456e+00,\n",
       "        -6.53773168e-01, -7.39400666e-01],\n",
       "       [ 3.65821504e-01, -3.71423993e-01,  1.01758456e+00,\n",
       "         1.52958251e+00, -4.11806378e-01],\n",
       "       [-6.78539886e-01,  2.34892644e-01,  3.87124563e-02,\n",
       "        -6.53773168e-01, -9.03197810e-01],\n",
       "       [-6.78539886e-01,  1.01444261e+00,  3.87124563e-02,\n",
       "        -6.53773168e-01, -9.03197810e-01],\n",
       "       [-6.78539886e-01, -1.54882337e-01,  1.01758456e+00,\n",
       "        -6.53773168e-01,  2.04515078e+00],\n",
       "       [ 3.65821504e-01, -8.91123968e-01, -9.40159652e-01,\n",
       "         1.52958251e+00,  7.34773628e-01],\n",
       "       [ 3.65821504e-01, -4.14732324e-01, -9.40159652e-01,\n",
       "         1.52958251e+00,  1.38996220e+00],\n",
       "       [ 3.65821504e-01,  4.51434300e-01, -9.40159652e-01,\n",
       "         1.52958251e+00, -9.03197810e-01],\n",
       "       [-6.78539886e-01,  7.54592619e-01,  1.01758456e+00,\n",
       "        -6.53773168e-01,  7.34773628e-01],\n",
       "       [ 2.45454428e+00, -4.58040656e-01, -9.40159652e-01,\n",
       "        -6.53773168e-01,  2.70033935e+00],\n",
       "       [ 1.41018289e+00,  6.16593190e-02,  3.87124563e-02,\n",
       "        -6.53773168e-01, -9.03197810e-01],\n",
       "       [ 3.65821504e-01, -1.80059892e+00, -9.40159652e-01,\n",
       "         1.52958251e+00,  8.98570772e-01],\n",
       "       [ 2.45454428e+00, -1.06435729e+00,  1.01758456e+00,\n",
       "        -6.53773168e-01, -2.48009235e-01],\n",
       "       [-6.78539886e-01,  6.67975956e-01, -9.40159652e-01,\n",
       "        -6.53773168e-01, -4.93704950e-01],\n",
       "       [-6.78539886e-01,  3.21509306e-01,  1.01758456e+00,\n",
       "        -6.53773168e-01, -9.03197810e-01],\n",
       "       [-6.78539886e-01,  6.16593190e-02,  1.01758456e+00,\n",
       "        -6.53773168e-01, -9.03197810e-01],\n",
       "       [ 2.45454428e+00, -8.47815637e-01, -9.40159652e-01,\n",
       "         1.52958251e+00,  8.98570772e-01],\n",
       "       [-6.78539886e-01,  8.84517612e-01, -9.40159652e-01,\n",
       "        -6.53773168e-01,  3.25280769e-01],\n",
       "       [ 3.65821504e-01,  4.08125969e-01,  1.01758456e+00,\n",
       "        -6.53773168e-01, -9.03197810e-01],\n",
       "       [-6.78539886e-01, -4.58040656e-01, -9.40159652e-01,\n",
       "         1.52958251e+00,  1.88135363e+00],\n",
       "       [-6.78539886e-01, -1.58405727e+00, -9.40159652e-01,\n",
       "         1.52958251e+00,  7.34773628e-01],\n",
       "       [ 3.65821504e-01, -8.04507306e-01, -9.40159652e-01,\n",
       "         1.52958251e+00,  7.95850529e-02],\n",
       "       [-6.78539886e-01, -2.41499000e-01,  1.99645667e+00,\n",
       "        -6.53773168e-01,  2.53654221e+00],\n",
       "       [ 2.45454428e+00,  1.48275981e-01, -9.40159652e-01,\n",
       "        -6.53773168e-01,  2.37274507e+00],\n",
       "       [ 3.65821504e-01, -1.97383225e+00, -9.40159652e-01,\n",
       "         1.52958251e+00, -7.39400666e-01],\n",
       "       [ 3.65821504e-01,  1.92391756e+00,  3.87124563e-02,\n",
       "        -6.53773168e-01, -9.03197810e-01],\n",
       "       [-6.78539886e-01, -9.77740630e-01, -9.40159652e-01,\n",
       "        -6.53773168e-01,  1.22616506e+00],\n",
       "       [-6.78539886e-01,  9.27825944e-01,  1.01758456e+00,\n",
       "        -6.53773168e-01, -9.03197810e-01],\n",
       "       [ 3.65821504e-01, -1.28089895e+00,  3.87124563e-02,\n",
       "         1.52958251e+00, -7.39400666e-01],\n",
       "       [-6.78539886e-01, -4.58040656e-01,  3.87124563e-02,\n",
       "        -6.53773168e-01, -9.03197810e-01],\n",
       "       [-6.78539886e-01, -1.11574006e-01, -9.40159652e-01,\n",
       "         1.52958251e+00,  1.55375935e+00],\n",
       "       [ 3.65821504e-01, -2.49573434e-02,  1.01758456e+00,\n",
       "        -6.53773168e-01, -5.75603522e-01],\n",
       "       [-6.78539886e-01,  6.24667625e-01,  1.01758456e+00,\n",
       "        -6.53773168e-01, -7.39400666e-01],\n",
       "       [ 3.65821504e-01,  3.21509306e-01,  3.87124563e-02,\n",
       "        -6.53773168e-01, -2.48009235e-01],\n",
       "       [ 3.65821504e-01,  4.08125969e-01, -9.40159652e-01,\n",
       "        -6.53773168e-01, -9.03197810e-01],\n",
       "       [ 3.65821504e-01, -1.62736560e+00, -9.40159652e-01,\n",
       "        -6.53773168e-01,  2.43382197e-01],\n",
       "       [-6.78539886e-01,  6.67975956e-01,  1.01758456e+00,\n",
       "        -6.53773168e-01,  1.06236792e+00],\n",
       "       [-6.78539886e-01, -2.84807331e-01, -9.40159652e-01,\n",
       "         1.52958251e+00,  1.38996220e+00],\n",
       "       [-6.78539886e-01, -3.28115662e-01, -9.40159652e-01,\n",
       "         1.52958251e+00, -9.03197810e-01],\n",
       "       [-6.78539886e-01,  1.23098426e+00,  1.01758456e+00,\n",
       "        -6.53773168e-01, -9.03197810e-01],\n",
       "       [-6.78539886e-01,  8.41209281e-01,  3.87124563e-02,\n",
       "        -6.53773168e-01, -9.03197810e-01],\n",
       "       [-6.78539886e-01, -5.44657318e-01,  3.87124563e-02,\n",
       "        -6.53773168e-01, -9.03197810e-01],\n",
       "       [-6.78539886e-01,  5.38050963e-01, -9.40159652e-01,\n",
       "        -6.53773168e-01, -9.03197810e-01],\n",
       "       [-6.78539886e-01,  7.54592619e-01, -9.40159652e-01,\n",
       "         1.52958251e+00, -9.03197810e-01],\n",
       "       [ 1.41018289e+00, -3.71423993e-01, -9.40159652e-01,\n",
       "         1.52958251e+00,  1.38996220e+00],\n",
       "       [ 1.41018289e+00, -2.23368224e+00, -9.40159652e-01,\n",
       "         1.52958251e+00,  5.70976484e-01],\n",
       "       [ 3.65821504e-01, -3.71423993e-01,  1.01758456e+00,\n",
       "        -6.53773168e-01,  3.25280769e-01],\n",
       "       [-6.78539886e-01,  1.49083425e+00, -9.40159652e-01,\n",
       "        -6.53773168e-01, -9.03197810e-01],\n",
       "       [ 3.65821504e-01,  6.24667625e-01,  1.01758456e+00,\n",
       "        -6.53773168e-01,  1.14426649e+00],\n",
       "       [ 1.41018289e+00, -2.41499000e-01,  1.99645667e+00,\n",
       "        -6.53773168e-01,  1.22616506e+00],\n",
       "       [-6.78539886e-01,  4.08125969e-01,  1.01758456e+00,\n",
       "        -6.53773168e-01,  4.07179341e-01],\n",
       "       [ 3.65821504e-01, -2.84807331e-01, -9.40159652e-01,\n",
       "         1.52958251e+00,  7.95850529e-02],\n",
       "       [-6.78539886e-01,  1.23098426e+00,  1.01758456e+00,\n",
       "        -6.53773168e-01, -9.03197810e-01],\n",
       "       [-6.78539886e-01,  1.36090926e+00, -9.40159652e-01,\n",
       "        -6.53773168e-01,  2.43382197e-01],\n",
       "       [-6.78539886e-01,  2.34892644e-01,  1.01758456e+00,\n",
       "        -6.53773168e-01, -9.03197810e-01],\n",
       "       [-6.78539886e-01, -5.01348987e-01,  1.01758456e+00,\n",
       "        -6.53773168e-01, -7.39400666e-01],\n",
       "       [-6.78539886e-01,  1.23098426e+00,  1.01758456e+00,\n",
       "         1.52958251e+00, -5.75603522e-01],\n",
       "       [ 2.45454428e+00, -1.58405727e+00, -9.40159652e-01,\n",
       "        -6.53773168e-01, -8.42120909e-02],\n",
       "       [-6.78539886e-01, -2.84807331e-01, -9.40159652e-01,\n",
       "        -6.53773168e-01, -2.48009235e-01],\n",
       "       [-6.78539886e-01,  1.18767593e+00,  1.99645667e+00,\n",
       "         1.52958251e+00,  2.43382197e-01],\n",
       "       [-6.78539886e-01,  2.78200975e-01,  1.01758456e+00,\n",
       "        -6.53773168e-01, -4.11806378e-01],\n",
       "       [-6.78539886e-01, -8.91123968e-01, -9.40159652e-01,\n",
       "         1.52958251e+00,  4.07179341e-01],\n",
       "       [-6.78539886e-01,  2.78200975e-01, -9.40159652e-01,\n",
       "        -6.53773168e-01,  7.95850529e-02],\n",
       "       [ 2.45454428e+00, -1.23759062e+00, -9.40159652e-01,\n",
       "         1.52958251e+00,  2.53654221e+00],\n",
       "       [-6.78539886e-01, -8.04507306e-01,  1.99645667e+00,\n",
       "        -6.53773168e-01,  7.95850529e-02],\n",
       "       [-6.78539886e-01, -4.58040656e-01, -9.40159652e-01,\n",
       "        -6.53773168e-01,  7.95850529e-02],\n",
       "       [ 2.45454428e+00, -1.84390726e+00, -9.40159652e-01,\n",
       "         1.52958251e+00,  3.25280769e-01],\n",
       "       [ 1.41018289e+00,  2.78200975e-01, -9.40159652e-01,\n",
       "        -6.53773168e-01,  1.22616506e+00],\n",
       "       [-6.78539886e-01,  1.57745091e+00,  1.01758456e+00,\n",
       "        -6.53773168e-01,  1.96325221e+00],\n",
       "       [ 3.65821504e-01, -1.84390726e+00, -9.40159652e-01,\n",
       "         1.52958251e+00, -9.03197810e-01],\n",
       "       [-6.78539886e-01,  1.48275981e-01, -9.40159652e-01,\n",
       "         1.52958251e+00, -9.03197810e-01],\n",
       "       [ 2.45454428e+00, -1.80059892e+00, -9.40159652e-01,\n",
       "        -6.53773168e-01,  1.06236792e+00],\n",
       "       [-6.78539886e-01,  1.18767593e+00,  3.87124563e-02,\n",
       "        -6.53773168e-01, -2.48009235e-01],\n",
       "       [ 3.65821504e-01, -2.36360723e+00, -9.40159652e-01,\n",
       "         1.52958251e+00,  8.98570772e-01],\n",
       "       [-6.78539886e-01, -1.11574006e-01,  1.01758456e+00,\n",
       "        -6.53773168e-01, -2.48009235e-01],\n",
       "       [-6.78539886e-01,  8.41209281e-01,  3.87124563e-02,\n",
       "        -6.53773168e-01, -9.03197810e-01],\n",
       "       [ 2.45454428e+00, -1.15097396e+00, -9.40159652e-01,\n",
       "        -6.53773168e-01, -8.42120909e-02],\n",
       "       [ 1.41018289e+00, -2.49573434e-02, -9.40159652e-01,\n",
       "         1.52958251e+00,  6.52875056e-01],\n",
       "       [ 1.41018289e+00, -8.04507306e-01, -9.40159652e-01,\n",
       "        -6.53773168e-01,  7.34773628e-01],\n",
       "       [-6.78539886e-01,  7.97900950e-01,  3.87124563e-02,\n",
       "        -6.53773168e-01, -9.03197810e-01],\n",
       "       [-6.78539886e-01,  3.21509306e-01, -9.40159652e-01,\n",
       "        -6.53773168e-01, -9.03197810e-01],\n",
       "       [ 1.41018289e+00,  1.18767593e+00,  1.99645667e+00,\n",
       "        -6.53773168e-01, -2.48009235e-01],\n",
       "       [-6.78539886e-01, -2.49573434e-02,  1.01758456e+00,\n",
       "        -6.53773168e-01, -2.48009235e-01],\n",
       "       [-6.78539886e-01,  1.18767593e+00,  1.99645667e+00,\n",
       "        -6.53773168e-01,  7.95850529e-02],\n",
       "       [-6.78539886e-01,  9.27825944e-01,  3.87124563e-02,\n",
       "        -6.53773168e-01, -7.39400666e-01],\n",
       "       [ 2.45454428e+00,  9.71134275e-01,  1.01758456e+00,\n",
       "        -6.53773168e-01, -9.03197810e-01],\n",
       "       [ 3.65821504e-01, -6.82656747e-02,  1.01758456e+00,\n",
       "        -6.53773168e-01, -6.57502094e-01],\n",
       "       [ 1.41018289e+00,  1.83509878e-02,  1.99645667e+00,\n",
       "        -6.53773168e-01,  5.70976484e-01],\n",
       "       [-6.78539886e-01,  1.04967650e-01,  3.87124563e-02,\n",
       "        -6.53773168e-01,  1.61483625e-01],\n",
       "       [ 3.65821504e-01,  9.27825944e-01,  1.01758456e+00,\n",
       "        -6.53773168e-01, -9.03197810e-01],\n",
       "       [-6.78539886e-01, -6.82656747e-02,  1.01758456e+00,\n",
       "        -6.53773168e-01, -4.93704950e-01],\n",
       "       [-6.78539886e-01,  3.21509306e-01,  1.01758456e+00,\n",
       "        -6.53773168e-01,  4.07179341e-01],\n",
       "       [ 1.41018289e+00,  6.24667625e-01, -9.40159652e-01,\n",
       "         1.52958251e+00, -8.42120909e-02],\n",
       "       [ 3.65821504e-01,  5.81359294e-01,  3.87124563e-02,\n",
       "        -6.53773168e-01, -9.03197810e-01],\n",
       "       [-6.78539886e-01,  9.71134275e-01,  1.01758456e+00,\n",
       "        -6.53773168e-01, -9.03197810e-01],\n",
       "       [ 2.45454428e+00, -1.98190668e-01,  1.01758456e+00,\n",
       "        -6.53773168e-01,  7.34773628e-01],\n",
       "       [ 3.65821504e-01,  1.14436760e+00, -9.40159652e-01,\n",
       "        -6.53773168e-01, -9.03197810e-01],\n",
       "       [ 3.65821504e-01,  5.38050963e-01,  1.01758456e+00,\n",
       "        -6.53773168e-01, -9.03197810e-01],\n",
       "       [-6.78539886e-01,  1.53414258e+00, -9.40159652e-01,\n",
       "        -6.53773168e-01, -9.03197810e-01]])"
      ]
     },
     "execution_count": 52,
     "metadata": {},
     "output_type": "execute_result"
    }
   ],
   "source": [
    "X_train"
   ]
  },
  {
   "cell_type": "code",
   "execution_count": 53,
   "id": "a6db10ef",
   "metadata": {},
   "outputs": [],
   "source": [
    "# We would like to test the SVM algorithm for several kernel\n",
    "kernelList = ['linear', 'poly', 'rbf', 'sigmoid']\n",
    "\n",
    "# Score for training\n",
    "train_scores = {}\n",
    "train_scores_list = []\n",
    "\n",
    "# Scores for testing\n",
    "test_scores = {}\n",
    "test_scores_list = []\n",
    "\n",
    "for item in kernelList:\n",
    "  clf = svm.SVC(kernel=item)\n",
    "  clf.fit(X_train, y_train)\n",
    "  y_train_pred = clf.predict(X_train)\n",
    "  y_test_pred = clf.predict(X_test)\n",
    "  train_scores[item] = metrics.accuracy_score(y_train, y_train_pred)\n",
    "  train_scores_list.append(metrics.accuracy_score(y_train, y_train_pred))\n",
    "  test_scores[item] = metrics.accuracy_score(y_test, y_test_pred)\n",
    "  test_scores_list.append(metrics.accuracy_score(y_test, y_test_pred))"
   ]
  },
  {
   "cell_type": "code",
   "execution_count": 54,
   "id": "7ffad923",
   "metadata": {},
   "outputs": [
    {
     "data": {
      "text/plain": [
       "{'linear': 0.8235294117647058,\n",
       " 'poly': 0.7983193277310925,\n",
       " 'rbf': 0.7983193277310925,\n",
       " 'sigmoid': 0.7983193277310925}"
      ]
     },
     "execution_count": 54,
     "metadata": {},
     "output_type": "execute_result"
    }
   ],
   "source": [
    "test_scores"
   ]
  },
  {
   "cell_type": "code",
   "execution_count": 55,
   "id": "d23d6d0f",
   "metadata": {},
   "outputs": [
    {
     "data": {
      "text/plain": [
       "Text(0, 0.5, 'Accuracy')"
      ]
     },
     "execution_count": 55,
     "metadata": {},
     "output_type": "execute_result"
    },
    {
     "data": {
      "image/png": "[encoded data removed]",
      "text/plain": [
       "<Figure size 432x288 with 1 Axes>"
      ]
     },
     "metadata": {
      "needs_background": "light"
     },
     "output_type": "display_data"
    }
   ],
   "source": [
    "#plot the relationship between Kernels and the testing accuracy\n",
    "plt.plot(kernelList, train_scores_list, label = 'Training accuracy')\n",
    "plt.plot(kernelList, test_scores_list, label = 'Testing accuracy')\n",
    "plt.legend(loc=\"upper right\")\n",
    "plt.xlabel('Kernels')\n",
    "plt.ylabel('Accuracy')"
   ]
  },
  {
   "cell_type": "markdown",
   "id": "b5b4301f",
   "metadata": {},
   "source": [
    "From the plot above, we observe that the best result is obtained when linear kernel is used. Thus, we will use linear kernel for further analysis of the experiment."
   ]
  },
  {
   "cell_type": "code",
   "execution_count": 56,
   "id": "44780c99",
   "metadata": {},
   "outputs": [],
   "source": [
    "#Calculate the training time of model\n",
    "start = time.time()\n",
    "\n",
    "#Train the model using the training sets\n",
    "clf = svm.SVC(kernel='linear')\n",
    "clf.fit(X_train, y_train)\n",
    "\n",
    "#Predict the response for test dataset\n",
    "prediction_test = clf.predict(X_test)\n",
    "\n",
    "#Stop the time calculation\n",
    "stop = time.time()\n",
    "\n",
    "# extra information regarding training set, not included in \"training time of model\"\n",
    "prediction_train = clf.predict(X_train)"
   ]
  },
  {
   "cell_type": "code",
   "execution_count": 57,
   "id": "3b954a3a",
   "metadata": {},
   "outputs": [
    {
     "name": "stdout",
     "output_type": "stream",
     "text": [
      "[Result for training set]\n",
      "Accuracy: 0.8305084745762712\n",
      "Recall: 0.8305084745762712\n",
      "Precision: 0.8332109703311008\n"
     ]
    },
    {
     "data": {
      "text/plain": [
       "<AxesSubplot:>"
      ]
     },
     "execution_count": 57,
     "metadata": {},
     "output_type": "execute_result"
    },
    {
     "data": {
      "image/png": "[encoded data removed]",
      "text/plain": [
       "<Figure size 432x288 with 2 Axes>"
      ]
     },
     "metadata": {
      "needs_background": "light"
     },
     "output_type": "display_data"
    }
   ],
   "source": [
    "print(\"[Result for training set]\")\n",
    "print ('Accuracy:', accuracy_score(y_train, prediction_train))\n",
    "print ('Recall:', recall_score(y_train, prediction_train, average=\"weighted\"))\n",
    "print ('Precision:', precision_score(y_train, prediction_train, average=\"weighted\"))\n",
    "\n",
    "confusion = confusion_matrix(y_train, prediction_train)\n",
    "group_names = ['True Negative', 'False Positive', 'False Negative', 'True Positive']\n",
    "group_counts = ['{0:0.0f}'.format(value) for value in confusion.flatten()]\n",
    "# obtain the class percentage by dividing the count over the number of rows in the testing set\n",
    "group_percentages = ['{0:.2%}'.format(value) for value in confusion.flatten()/np.sum(confusion)]\n",
    "labels = [f'{v1}\\n{v2}\\n{v3}' for v1, v2, v3 in zip(group_names,group_counts,group_percentages)]\n",
    "labels = np.asarray(labels).reshape(2,2)\n",
    "sns.heatmap(confusion, annot=labels, fmt='', cmap='Oranges')"
   ]
  },
  {
   "cell_type": "code",
   "execution_count": 58,
   "id": "e3e0c058",
   "metadata": {},
   "outputs": [
    {
     "name": "stdout",
     "output_type": "stream",
     "text": [
      "[Result for testing set]\n",
      "Training time : 0.003998994827270508s\n",
      "Accuracy: 0.8235294117647058\n",
      "Recall: 0.8235294117647058\n",
      "Precision: 0.8233953410423999\n"
     ]
    },
    {
     "data": {
      "text/plain": [
       "<AxesSubplot:>"
      ]
     },
     "execution_count": 58,
     "metadata": {},
     "output_type": "execute_result"
    },
    {
     "data": {
      "image/png": "[encoded data removed]",
      "text/plain": [
       "<Figure size 432x288 with 2 Axes>"
      ]
     },
     "metadata": {
      "needs_background": "light"
     },
     "output_type": "display_data"
    }
   ],
   "source": [
    "print(\"[Result for testing set]\")\n",
    "print (f\"Training time : {stop-start}s\")\n",
    "print ('Accuracy:', accuracy_score(y_test, prediction_test))\n",
    "print ('Recall:', recall_score(y_test, prediction_test, average=\"weighted\"))\n",
    "print ('Precision:', precision_score(y_test, prediction_test, average=\"weighted\"))\n",
    "\n",
    "confusion = confusion_matrix(y_test, prediction_test)\n",
    "group_names = ['True Negative', 'False Positive', 'False Negative', 'True Positive']\n",
    "group_counts = ['{0:0.0f}'.format(value) for value in confusion.flatten()]\n",
    "# obtain the class percentage by dividing the count over the number of rows in the testing set\n",
    "group_percentages = ['{0:.2%}'.format(value) for value in confusion.flatten()/np.sum(confusion)]\n",
    "labels = [f'{v1}\\n{v2}\\n{v3}' for v1, v2, v3 in zip(group_names,group_counts,group_percentages)]\n",
    "labels = np.asarray(labels).reshape(2,2)\n",
    "sns.heatmap(confusion, annot=labels, fmt='', cmap='Blues')"
   ]
  },
  {
   "cell_type": "markdown",
   "id": "b45c1135",
   "metadata": {},
   "source": [
    "# Experiment 5 (70% training, 30% test | All Features)"
   ]
  },
  {
   "cell_type": "code",
   "execution_count": 59,
   "id": "978d18a9",
   "metadata": {},
   "outputs": [],
   "source": [
    "X = df.drop('target', axis = 1)\n",
    "y = df['target']\n",
    "# stratify = y, used to assign percentage for each categories(0, 1) for our target\n",
    "X_train, X_test, y_train, y_test = train_test_split(X,y, stratify = y, test_size = 0.30, random_state = 42)\n",
    "\n",
    "# standardise the data, which is vital for SVM algorithm\n",
    "from sklearn.preprocessing import StandardScaler\n",
    "scaler = StandardScaler()\n",
    "X_train = scaler.fit_transform(X_train)\n",
    "X_test = scaler.transform(X_test)"
   ]
  },
  {
   "cell_type": "code",
   "execution_count": 60,
   "id": "ac172bfb",
   "metadata": {},
   "outputs": [
    {
     "data": {
      "text/plain": [
       "array([[ 0.30386072,  0.67656964,  1.01495919, ...,  0.97430537,\n",
       "        -0.67864209, -0.68924552],\n",
       "       [-0.34125897,  0.67656964,  1.01495919, ..., -0.63914432,\n",
       "        -0.67864209, -0.68924552],\n",
       "       [ 1.05650036,  0.67656964,  1.01495919, ...,  0.97430537,\n",
       "        -0.67864209, -0.68924552],\n",
       "       ...,\n",
       "       [ 1.05650036,  0.67656964, -0.94855999, ..., -0.63914432,\n",
       "         0.37759034,  1.09417726],\n",
       "       [-1.0938986 ,  0.67656964,  0.0331996 , ...,  0.97430537,\n",
       "        -0.67864209, -0.68924552],\n",
       "       [-2.16909808,  0.67656964,  1.99671879, ...,  0.97430537,\n",
       "        -0.67864209, -0.68924552]])"
      ]
     },
     "execution_count": 60,
     "metadata": {},
     "output_type": "execute_result"
    }
   ],
   "source": [
    "X_train"
   ]
  },
  {
   "cell_type": "code",
   "execution_count": 61,
   "id": "438846bb",
   "metadata": {},
   "outputs": [],
   "source": [
    "# We would like to test the SVM algorithm for several kernel\n",
    "kernelList = ['linear', 'poly', 'rbf', 'sigmoid']\n",
    "\n",
    "# Score for training\n",
    "train_scores = {}\n",
    "train_scores_list = []\n",
    "\n",
    "# Scores for testing\n",
    "test_scores = {}\n",
    "test_scores_list = []\n",
    "\n",
    "for item in kernelList:\n",
    "  clf = svm.SVC(kernel=item)\n",
    "  clf.fit(X_train, y_train)\n",
    "  y_train_pred = clf.predict(X_train)\n",
    "  y_test_pred = clf.predict(X_test)\n",
    "  train_scores[item] = metrics.accuracy_score(y_train, y_train_pred)\n",
    "  train_scores_list.append(metrics.accuracy_score(y_train, y_train_pred))\n",
    "  test_scores[item] = metrics.accuracy_score(y_test, y_test_pred)\n",
    "  test_scores_list.append(metrics.accuracy_score(y_test, y_test_pred))"
   ]
  },
  {
   "cell_type": "code",
   "execution_count": 62,
   "id": "b29ee878",
   "metadata": {},
   "outputs": [
    {
     "data": {
      "text/plain": [
       "{'linear': 0.8314606741573034,\n",
       " 'poly': 0.8089887640449438,\n",
       " 'rbf': 0.8089887640449438,\n",
       " 'sigmoid': 0.8089887640449438}"
      ]
     },
     "execution_count": 62,
     "metadata": {},
     "output_type": "execute_result"
    }
   ],
   "source": [
    "test_scores"
   ]
  },
  {
   "cell_type": "code",
   "execution_count": 63,
   "id": "54f79367",
   "metadata": {},
   "outputs": [
    {
     "data": {
      "text/plain": [
       "Text(0, 0.5, 'Accuracy')"
      ]
     },
     "execution_count": 63,
     "metadata": {},
     "output_type": "execute_result"
    },
    {
     "data": {
      "image/png": "[encoded data removed]",
      "text/plain": [
       "<Figure size 432x288 with 1 Axes>"
      ]
     },
     "metadata": {
      "needs_background": "light"
     },
     "output_type": "display_data"
    }
   ],
   "source": [
    "#plot the relationship between Kernels and the testing accuracy\n",
    "plt.plot(kernelList, train_scores_list, label = 'Training accuracy')\n",
    "plt.plot(kernelList, test_scores_list, label = 'Testing accuracy')\n",
    "plt.legend(loc=\"upper right\")\n",
    "plt.xlabel('Kernels')\n",
    "plt.ylabel('Accuracy')"
   ]
  },
  {
   "cell_type": "markdown",
   "id": "594d1fe5",
   "metadata": {},
   "source": [
    "From the plot above, we observe that the best result is obtained when linear kernel is used. Thus, we will use linear kernel for further analysis of the experiment."
   ]
  },
  {
   "cell_type": "code",
   "execution_count": 64,
   "id": "7583a238",
   "metadata": {},
   "outputs": [],
   "source": [
    "#Calculate the training time of model\n",
    "start = time.time()\n",
    "\n",
    "#Train the model using the training sets\n",
    "clf = svm.SVC(kernel = 'linear')\n",
    "clf.fit(X_train, y_train)\n",
    "\n",
    "#Predict the response for test dataset\n",
    "prediction_test = clf.predict(X_test)\n",
    "\n",
    "#Stop the time calculation\n",
    "stop = time.time()\n",
    "\n",
    "# extra information regarding training set, not included in \"training time of model\"\n",
    "prediction_train = clf.predict(X_train)"
   ]
  },
  {
   "cell_type": "code",
   "execution_count": 65,
   "id": "d3ede463",
   "metadata": {},
   "outputs": [
    {
     "name": "stdout",
     "output_type": "stream",
     "text": [
      "[Result for training set]\n",
      "Accuracy: 0.8792270531400966\n",
      "Recall: 0.8792270531400966\n",
      "Precision: 0.8825753112603589\n"
     ]
    },
    {
     "data": {
      "text/plain": [
       "<AxesSubplot:>"
      ]
     },
     "execution_count": 65,
     "metadata": {},
     "output_type": "execute_result"
    },
    {
     "data": {
      "image/png": "[encoded data removed]",
      "text/plain": [
       "<Figure size 432x288 with 2 Axes>"
      ]
     },
     "metadata": {
      "needs_background": "light"
     },
     "output_type": "display_data"
    }
   ],
   "source": [
    "print(\"[Result for training set]\")\n",
    "print ('Accuracy:', accuracy_score(y_train, prediction_train))\n",
    "print ('Recall:', recall_score(y_train, prediction_train, average=\"weighted\"))\n",
    "print ('Precision:', precision_score(y_train, prediction_train, average=\"weighted\"))\n",
    "\n",
    "confusion = confusion_matrix(y_train, prediction_train)\n",
    "group_names = ['True Negative', 'False Positive', 'False Negative', 'True Positive']\n",
    "group_counts = ['{0:0.0f}'.format(value) for value in confusion.flatten()]\n",
    "# obtain the class percentage by dividing the count over the number of rows in the testing set\n",
    "group_percentages = ['{0:.2%}'.format(value) for value in confusion.flatten()/np.sum(confusion)]\n",
    "labels = [f'{v1}\\n{v2}\\n{v3}' for v1, v2, v3 in zip(group_names,group_counts,group_percentages)]\n",
    "labels = np.asarray(labels).reshape(2,2)\n",
    "sns.heatmap(confusion, annot=labels, fmt='', cmap='Oranges')"
   ]
  },
  {
   "cell_type": "code",
   "execution_count": 66,
   "id": "a295da54",
   "metadata": {},
   "outputs": [
    {
     "name": "stdout",
     "output_type": "stream",
     "text": [
      "[Result for testing set]\n",
      "Training time : 0.004049777984619141s\n",
      "Accuracy: 0.8314606741573034\n",
      "Recall: 0.8314606741573034\n",
      "Precision: 0.8313288236642973\n"
     ]
    },
    {
     "data": {
      "text/plain": [
       "<AxesSubplot:>"
      ]
     },
     "execution_count": 66,
     "metadata": {},
     "output_type": "execute_result"
    },
    {
     "data": {
      "image/png": "[encoded data removed]",
      "text/plain": [
       "<Figure size 432x288 with 2 Axes>"
      ]
     },
     "metadata": {
      "needs_background": "light"
     },
     "output_type": "display_data"
    }
   ],
   "source": [
    "print(\"[Result for testing set]\")\n",
    "print (f\"Training time : {stop-start}s\")\n",
    "print ('Accuracy:', accuracy_score(y_test, prediction_test))\n",
    "print ('Recall:', recall_score(y_test, prediction_test, average=\"weighted\"))\n",
    "print ('Precision:', precision_score(y_test, prediction_test, average=\"weighted\"))\n",
    "\n",
    "confusion = confusion_matrix(y_test, prediction_test)\n",
    "group_names = ['True Negative', 'False Positive', 'False Negative', 'True Positive']\n",
    "group_counts = ['{0:0.0f}'.format(value) for value in confusion.flatten()]\n",
    "# obtain the class percentage by dividing the count over the number of rows in the testing set\n",
    "group_percentages = ['{0:.2%}'.format(value) for value in confusion.flatten()/np.sum(confusion)]\n",
    "labels = [f'{v1}\\n{v2}\\n{v3}' for v1, v2, v3 in zip(group_names,group_counts,group_percentages)]\n",
    "labels = np.asarray(labels).reshape(2,2)\n",
    "sns.heatmap(confusion, annot=labels, fmt='', cmap='Blues')"
   ]
  },
  {
   "cell_type": "markdown",
   "id": "03f6e944",
   "metadata": {},
   "source": [
    "# Experiment 6 (70% training, 30% test | Top 10 Features Only)"
   ]
  },
  {
   "cell_type": "code",
   "execution_count": 67,
   "id": "3d126d1b",
   "metadata": {},
   "outputs": [],
   "source": [
    "X = df[['ca', 'thalach', 'cp', 'exang', 'oldpeak', 'thal', 'age', 'slope', 'trestbps', 'sex']]\n",
    "y = df['target']\n",
    "X_train, X_test, y_train, y_test = train_test_split(X,y, stratify = y, test_size = 0.30, random_state = 42)\n",
    "\n",
    "# standardise the data before being fitted into the SVM algorithm\n",
    "from sklearn.preprocessing import StandardScaler\n",
    "scaler = StandardScaler()\n",
    "X_train = scaler.fit_transform(X_train)\n",
    "X_test = scaler.transform(X_test)"
   ]
  },
  {
   "cell_type": "code",
   "execution_count": 68,
   "id": "fa2e0772",
   "metadata": {},
   "outputs": [
    {
     "data": {
      "text/plain": [
       "array([[-0.67864209,  1.02339263,  1.01495919, ...,  0.97430537,\n",
       "         1.04766763,  0.67656964],\n",
       "       [-0.67864209,  0.6710562 ,  1.01495919, ..., -0.63914432,\n",
       "        -0.39235361,  0.67656964],\n",
       "       [-0.67864209,  0.31871978,  1.01495919, ...,  0.97430537,\n",
       "         0.47165913,  0.67656964],\n",
       "       ...,\n",
       "       [ 0.37759034, -2.01550901, -0.94855999, ..., -0.63914432,\n",
       "        -0.21955107,  0.67656964],\n",
       "       [-0.67864209,  0.84722442,  0.0331996 , ...,  0.97430537,\n",
       "        -0.68035786,  0.67656964],\n",
       "       [-0.67864209,  1.02339263,  1.99671879, ...,  0.97430537,\n",
       "        -0.79555956,  0.67656964]])"
      ]
     },
     "execution_count": 68,
     "metadata": {},
     "output_type": "execute_result"
    }
   ],
   "source": [
    "X_train"
   ]
  },
  {
   "cell_type": "code",
   "execution_count": 69,
   "id": "70ee3c9e",
   "metadata": {},
   "outputs": [],
   "source": [
    "# We would like to test the SVM algorithm for several kernel\n",
    "kernelList = ['linear', 'poly', 'rbf', 'sigmoid']\n",
    "\n",
    "# Score for training\n",
    "train_scores = {}\n",
    "train_scores_list = []\n",
    "\n",
    "# Scores for testing\n",
    "test_scores = {}\n",
    "test_scores_list = []\n",
    "\n",
    "for item in kernelList:\n",
    "  clf = svm.SVC(kernel=item)\n",
    "  clf.fit(X_train, y_train)\n",
    "  y_train_pred = clf.predict(X_train)\n",
    "  y_test_pred = clf.predict(X_test)\n",
    "  train_scores[item] = metrics.accuracy_score(y_train, y_train_pred)\n",
    "  train_scores_list.append(metrics.accuracy_score(y_train, y_train_pred))\n",
    "  test_scores[item] = metrics.accuracy_score(y_test, y_test_pred)\n",
    "  test_scores_list.append(metrics.accuracy_score(y_test, y_test_pred))"
   ]
  },
  {
   "cell_type": "code",
   "execution_count": 70,
   "id": "bdfc0142",
   "metadata": {},
   "outputs": [
    {
     "data": {
      "text/plain": [
       "{'linear': 0.8314606741573034,\n",
       " 'poly': 0.8089887640449438,\n",
       " 'rbf': 0.8426966292134831,\n",
       " 'sigmoid': 0.8426966292134831}"
      ]
     },
     "execution_count": 70,
     "metadata": {},
     "output_type": "execute_result"
    }
   ],
   "source": [
    "test_scores"
   ]
  },
  {
   "cell_type": "code",
   "execution_count": 71,
   "id": "94cd0a74",
   "metadata": {},
   "outputs": [
    {
     "data": {
      "text/plain": [
       "Text(0, 0.5, 'Accuracy')"
      ]
     },
     "execution_count": 71,
     "metadata": {},
     "output_type": "execute_result"
    },
    {
     "data": {
      "image/png": "[encoded data removed]",
      "text/plain": [
       "<Figure size 432x288 with 1 Axes>"
      ]
     },
     "metadata": {
      "needs_background": "light"
     },
     "output_type": "display_data"
    }
   ],
   "source": [
    "#plot the relationship between Kernels and the testing accuracy\n",
    "plt.plot(kernelList, train_scores_list, label = 'Training accuracy')\n",
    "plt.plot(kernelList, test_scores_list, label = 'Testing accuracy')\n",
    "plt.legend(loc=\"upper right\")\n",
    "plt.xlabel('Kernels')\n",
    "plt.ylabel('Accuracy')"
   ]
  },
  {
   "cell_type": "markdown",
   "id": "a0d0841c",
   "metadata": {},
   "source": [
    "From the plot above, rbf and sigmoid kernels have the best testing accuracy. Thus, we will choose rbf kernel."
   ]
  },
  {
   "cell_type": "code",
   "execution_count": 72,
   "id": "f34ffb28",
   "metadata": {},
   "outputs": [],
   "source": [
    "#Calculate the training time of model\n",
    "start = time.time()\n",
    "\n",
    "#Train the model using the training sets\n",
    "clf = svm.SVC(kernel = 'rbf')\n",
    "clf.fit(X_train, y_train)\n",
    "\n",
    "#Predict the response for test dataset\n",
    "prediction_test = clf.predict(X_test)\n",
    "\n",
    "#Stop the time calculation\n",
    "stop = time.time()\n",
    "\n",
    "# extra information regarding training set, not included in \"training time of model\"\n",
    "prediction_train = clf.predict(X_train)"
   ]
  },
  {
   "cell_type": "code",
   "execution_count": 73,
   "id": "60b066ae",
   "metadata": {},
   "outputs": [
    {
     "name": "stdout",
     "output_type": "stream",
     "text": [
      "[Result for training set]\n",
      "Accuracy: 0.9130434782608695\n",
      "Recall: 0.9130434782608695\n",
      "Precision: 0.9179607631085352\n"
     ]
    },
    {
     "data": {
      "text/plain": [
       "<AxesSubplot:>"
      ]
     },
     "execution_count": 73,
     "metadata": {},
     "output_type": "execute_result"
    },
    {
     "data": {
      "image/png": "[encoded data removed]",
      "text/plain": [
       "<Figure size 432x288 with 2 Axes>"
      ]
     },
     "metadata": {
      "needs_background": "light"
     },
     "output_type": "display_data"
    }
   ],
   "source": [
    "print(\"[Result for training set]\")\n",
    "print ('Accuracy:', accuracy_score(y_train, prediction_train))\n",
    "print ('Recall:', recall_score(y_train, prediction_train, average=\"weighted\"))\n",
    "print ('Precision:', precision_score(y_train, prediction_train, average=\"weighted\"))\n",
    "\n",
    "confusion = confusion_matrix(y_train, prediction_train)\n",
    "group_names = ['True Negative', 'False Positive', 'False Negative', 'True Positive']\n",
    "group_counts = ['{0:0.0f}'.format(value) for value in confusion.flatten()]\n",
    "# obtain the class percentage by dividing the count over the number of rows in the testing set\n",
    "group_percentages = ['{0:.2%}'.format(value) for value in confusion.flatten()/np.sum(confusion)]\n",
    "labels = [f'{v1}\\n{v2}\\n{v3}' for v1, v2, v3 in zip(group_names,group_counts,group_percentages)]\n",
    "labels = np.asarray(labels).reshape(2,2)\n",
    "sns.heatmap(confusion, annot=labels, fmt='', cmap='Oranges')"
   ]
  },
  {
   "cell_type": "code",
   "execution_count": 74,
   "id": "cd978786",
   "metadata": {},
   "outputs": [
    {
     "name": "stdout",
     "output_type": "stream",
     "text": [
      "[Result for testing set]\n",
      "Training time : 0.005996227264404297s\n",
      "Accuracy: 0.8426966292134831\n",
      "Recall: 0.8426966292134831\n",
      "Precision: 0.8444018781097433\n"
     ]
    },
    {
     "data": {
      "text/plain": [
       "<AxesSubplot:>"
      ]
     },
     "execution_count": 74,
     "metadata": {},
     "output_type": "execute_result"
    },
    {
     "data": {
      "image/png": "[encoded data removed]",
      "text/plain": [
       "<Figure size 432x288 with 2 Axes>"
      ]
     },
     "metadata": {
      "needs_background": "light"
     },
     "output_type": "display_data"
    }
   ],
   "source": [
    "print(\"[Result for testing set]\")\n",
    "print (f\"Training time : {stop-start}s\")\n",
    "print ('Accuracy:', accuracy_score(y_test, prediction_test))\n",
    "print ('Recall:', recall_score(y_test, prediction_test, average=\"weighted\"))\n",
    "print ('Precision:', precision_score(y_test, prediction_test, average=\"weighted\"))\n",
    "\n",
    "confusion = confusion_matrix(y_test, prediction_test)\n",
    "group_names = ['True Negative', 'False Positive', 'False Negative', 'True Positive']\n",
    "group_counts = ['{0:0.0f}'.format(value) for value in confusion.flatten()]\n",
    "# obtain the class percentage by dividing the count over the number of rows in the testing set\n",
    "group_percentages = ['{0:.2%}'.format(value) for value in confusion.flatten()/np.sum(confusion)]\n",
    "labels = [f'{v1}\\n{v2}\\n{v3}' for v1, v2, v3 in zip(group_names,group_counts,group_percentages)]\n",
    "labels = np.asarray(labels).reshape(2,2)\n",
    "sns.heatmap(confusion, annot=labels, fmt='', cmap='Blues')"
   ]
  },
  {
   "cell_type": "markdown",
   "id": "ab8c3810",
   "metadata": {},
   "source": [
    "# Experiment 7 (70% training, 30% test | Top 8 Features Only)"
   ]
  },
  {
   "cell_type": "code",
   "execution_count": 75,
   "id": "7ed977f7",
   "metadata": {},
   "outputs": [],
   "source": [
    "X = df[['ca', 'thalach', 'cp', 'exang', 'oldpeak', 'thal', 'age', 'slope']]\n",
    "y = df['target']\n",
    "X_train, X_test, y_train, y_test = train_test_split(X,y, stratify = y, test_size = 0.30, random_state = 42)\n",
    "\n",
    "# standardise the data before being fitted into the SVM algorithm\n",
    "from sklearn.preprocessing import StandardScaler\n",
    "scaler = StandardScaler()\n",
    "X_train = scaler.fit_transform(X_train)\n",
    "X_test = scaler.transform(X_test)"
   ]
  },
  {
   "cell_type": "code",
   "execution_count": 76,
   "id": "9f6f1ff7",
   "metadata": {},
   "outputs": [
    {
     "data": {
      "text/plain": [
       "array([[-0.67864209,  1.02339263,  1.01495919, ..., -0.68924552,\n",
       "         0.30386072,  0.97430537],\n",
       "       [-0.67864209,  0.6710562 ,  1.01495919, ..., -0.68924552,\n",
       "        -0.34125897, -0.63914432],\n",
       "       [-0.67864209,  0.31871978,  1.01495919, ..., -0.68924552,\n",
       "         1.05650036,  0.97430537],\n",
       "       ...,\n",
       "       [ 0.37759034, -2.01550901, -0.94855999, ...,  1.09417726,\n",
       "         1.05650036, -0.63914432],\n",
       "       [-0.67864209,  0.84722442,  0.0331996 , ..., -0.68924552,\n",
       "        -1.0938986 ,  0.97430537],\n",
       "       [-0.67864209,  1.02339263,  1.99671879, ..., -0.68924552,\n",
       "        -2.16909808,  0.97430537]])"
      ]
     },
     "execution_count": 76,
     "metadata": {},
     "output_type": "execute_result"
    }
   ],
   "source": [
    "X_train"
   ]
  },
  {
   "cell_type": "code",
   "execution_count": 77,
   "id": "4819d802",
   "metadata": {},
   "outputs": [],
   "source": [
    "# We would like to test the SVM algorithm for several kernel\n",
    "kernelList = ['linear', 'poly', 'rbf', 'sigmoid']\n",
    "\n",
    "# Score for training\n",
    "train_scores = {}\n",
    "train_scores_list = []\n",
    "\n",
    "# Scores for testing\n",
    "test_scores = {}\n",
    "test_scores_list = []\n",
    "\n",
    "for item in kernelList:\n",
    "  clf = svm.SVC(kernel=item)\n",
    "  clf.fit(X_train, y_train)\n",
    "  y_train_pred = clf.predict(X_train)\n",
    "  y_test_pred = clf.predict(X_test)\n",
    "  train_scores[item] = metrics.accuracy_score(y_train, y_train_pred)\n",
    "  train_scores_list.append(metrics.accuracy_score(y_train, y_train_pred))\n",
    "  test_scores[item] = metrics.accuracy_score(y_test, y_test_pred)\n",
    "  test_scores_list.append(metrics.accuracy_score(y_test, y_test_pred))"
   ]
  },
  {
   "cell_type": "code",
   "execution_count": 78,
   "id": "3d507eea",
   "metadata": {},
   "outputs": [
    {
     "data": {
      "text/plain": [
       "{'linear': 0.8426966292134831,\n",
       " 'poly': 0.7752808988764045,\n",
       " 'rbf': 0.797752808988764,\n",
       " 'sigmoid': 0.7865168539325843}"
      ]
     },
     "execution_count": 78,
     "metadata": {},
     "output_type": "execute_result"
    }
   ],
   "source": [
    "test_scores"
   ]
  },
  {
   "cell_type": "code",
   "execution_count": 79,
   "id": "0275c85a",
   "metadata": {},
   "outputs": [
    {
     "data": {
      "text/plain": [
       "Text(0, 0.5, 'Accuracy')"
      ]
     },
     "execution_count": 79,
     "metadata": {},
     "output_type": "execute_result"
    },
    {
     "data": {
      "image/png": "[encoded data removed]",
      "text/plain": [
       "<Figure size 432x288 with 1 Axes>"
      ]
     },
     "metadata": {
      "needs_background": "light"
     },
     "output_type": "display_data"
    }
   ],
   "source": [
    "#plot the relationship between Kernels and the testing accuracy\n",
    "plt.plot(kernelList, train_scores_list, label = 'Training accuracy')\n",
    "plt.plot(kernelList, test_scores_list, label = 'Testing accuracy')\n",
    "plt.legend(loc=\"upper right\")\n",
    "plt.xlabel('Kernels')\n",
    "plt.ylabel('Accuracy')"
   ]
  },
  {
   "cell_type": "markdown",
   "id": "df72736d",
   "metadata": {},
   "source": [
    "From the plot above, we observe that the best result is obtained when linear kernel is used. Thus, we will use linear kernel for further analysis of the experiment."
   ]
  },
  {
   "cell_type": "code",
   "execution_count": 80,
   "id": "d58381fa",
   "metadata": {},
   "outputs": [],
   "source": [
    "#Calculate the training time of model\n",
    "start = time.time()\n",
    "\n",
    "#Train the model using the training sets\n",
    "clf = svm.SVC(kernel = 'linear')\n",
    "clf.fit(X_train, y_train)\n",
    "\n",
    "#Predict the response for test dataset\n",
    "prediction_test = clf.predict(X_test)\n",
    "\n",
    "#Stop the time calculation\n",
    "stop = time.time()\n",
    "\n",
    "# extra information regarding training set, not included in \"training time of model\"\n",
    "prediction_train = clf.predict(X_train)"
   ]
  },
  {
   "cell_type": "code",
   "execution_count": 81,
   "id": "10ebaef6",
   "metadata": {},
   "outputs": [
    {
     "name": "stdout",
     "output_type": "stream",
     "text": [
      "[Result for training set]\n",
      "Accuracy: 0.8647342995169082\n",
      "Recall: 0.8647342995169082\n",
      "Precision: 0.8744723875158658\n"
     ]
    },
    {
     "data": {
      "text/plain": [
       "<AxesSubplot:>"
      ]
     },
     "execution_count": 81,
     "metadata": {},
     "output_type": "execute_result"
    },
    {
     "data": {
      "image/png": "[encoded data removed]",
      "text/plain": [
       "<Figure size 432x288 with 2 Axes>"
      ]
     },
     "metadata": {
      "needs_background": "light"
     },
     "output_type": "display_data"
    }
   ],
   "source": [
    "print(\"[Result for training set]\")\n",
    "print ('Accuracy:', accuracy_score(y_train, prediction_train))\n",
    "print ('Recall:', recall_score(y_train, prediction_train, average=\"weighted\"))\n",
    "print ('Precision:', precision_score(y_train, prediction_train, average=\"weighted\"))\n",
    "\n",
    "confusion = confusion_matrix(y_train, prediction_train)\n",
    "group_names = ['True Negative', 'False Positive', 'False Negative', 'True Positive']\n",
    "group_counts = ['{0:0.0f}'.format(value) for value in confusion.flatten()]\n",
    "# obtain the class percentage by dividing the count over the number of rows in the testing set\n",
    "group_percentages = ['{0:.2%}'.format(value) for value in confusion.flatten()/np.sum(confusion)]\n",
    "labels = [f'{v1}\\n{v2}\\n{v3}' for v1, v2, v3 in zip(group_names,group_counts,group_percentages)]\n",
    "labels = np.asarray(labels).reshape(2,2)\n",
    "sns.heatmap(confusion, annot=labels, fmt='', cmap='Oranges')"
   ]
  },
  {
   "cell_type": "code",
   "execution_count": 82,
   "id": "0bea880f",
   "metadata": {},
   "outputs": [
    {
     "name": "stdout",
     "output_type": "stream",
     "text": [
      "[Result for testing set]\n",
      "Training time : 0.004997730255126953s\n",
      "Accuracy: 0.8426966292134831\n",
      "Recall: 0.8426966292134831\n",
      "Precision: 0.8444018781097433\n"
     ]
    },
    {
     "data": {
      "text/plain": [
       "<AxesSubplot:>"
      ]
     },
     "execution_count": 82,
     "metadata": {},
     "output_type": "execute_result"
    },
    {
     "data": {
      "image/png": "[encoded data removed]",
      "text/plain": [
       "<Figure size 432x288 with 2 Axes>"
      ]
     },
     "metadata": {
      "needs_background": "light"
     },
     "output_type": "display_data"
    }
   ],
   "source": [
    "print(\"[Result for testing set]\")\n",
    "print (f\"Training time : {stop-start}s\")\n",
    "print ('Accuracy:', accuracy_score(y_test, prediction_test))\n",
    "print ('Recall:', recall_score(y_test, prediction_test, average=\"weighted\"))\n",
    "print ('Precision:', precision_score(y_test, prediction_test, average=\"weighted\"))\n",
    "\n",
    "confusion = confusion_matrix(y_test, prediction_test)\n",
    "group_names = ['True Negative', 'False Positive', 'False Negative', 'True Positive']\n",
    "group_counts = ['{0:0.0f}'.format(value) for value in confusion.flatten()]\n",
    "# obtain the class percentage by dividing the count over the number of rows in the testing set\n",
    "group_percentages = ['{0:.2%}'.format(value) for value in confusion.flatten()/np.sum(confusion)]\n",
    "labels = [f'{v1}\\n{v2}\\n{v3}' for v1, v2, v3 in zip(group_names,group_counts,group_percentages)]\n",
    "labels = np.asarray(labels).reshape(2,2)\n",
    "sns.heatmap(confusion, annot=labels, fmt='', cmap='Blues')"
   ]
  },
  {
   "cell_type": "markdown",
   "id": "5bc5476c",
   "metadata": {},
   "source": [
    "# Experiment 8 (70% training, 30% test | Top 5 Features Only)"
   ]
  },
  {
   "cell_type": "code",
   "execution_count": 83,
   "id": "01953ca1",
   "metadata": {},
   "outputs": [],
   "source": [
    "X = df[['ca', 'thalach', 'cp', 'exang', 'oldpeak']]\n",
    "y = df['target']\n",
    "X_train, X_test, y_train, y_test = train_test_split(X,y, stratify = y, test_size = 0.30, random_state = 42)\n",
    "\n",
    "# standardise the data before being fitted into the SVM algorithm\n",
    "from sklearn.preprocessing import StandardScaler\n",
    "scaler = StandardScaler()\n",
    "X_train = scaler.fit_transform(X_train)\n",
    "X_test = scaler.transform(X_test)"
   ]
  },
  {
   "cell_type": "code",
   "execution_count": 84,
   "id": "4c86eaff",
   "metadata": {},
   "outputs": [
    {
     "data": {
      "text/plain": [
       "array([[-0.67864209,  1.02339263,  1.01495919, -0.67656964,  0.40599085],\n",
       "       [-0.67864209,  0.6710562 ,  1.01495919, -0.67656964,  1.06127432],\n",
       "       [-0.67864209,  0.31871978,  1.01495919, -0.67656964, -0.9045761 ],\n",
       "       ...,\n",
       "       [ 0.37759034, -2.01550901, -0.94855999,  1.47804445, -0.74075523],\n",
       "       [-0.67864209,  0.84722442,  0.0331996 , -0.67656964, -0.9045761 ],\n",
       "       [-0.67864209,  1.02339263,  1.99671879, -0.67656964, -0.9045761 ]])"
      ]
     },
     "execution_count": 84,
     "metadata": {},
     "output_type": "execute_result"
    }
   ],
   "source": [
    "X_train"
   ]
  },
  {
   "cell_type": "code",
   "execution_count": 85,
   "id": "4ab71353",
   "metadata": {},
   "outputs": [],
   "source": [
    "kernelList = ['linear', 'poly', 'rbf', 'sigmoid']\n",
    "\n",
    "# Score for training\n",
    "train_scores = {}\n",
    "train_scores_list = []\n",
    "\n",
    "# Scores for testing\n",
    "test_scores = {}\n",
    "test_scores_list = []\n",
    "\n",
    "for item in kernelList:\n",
    "  clf = svm.SVC(kernel=item)\n",
    "  clf.fit(X_train, y_train)\n",
    "  y_train_pred = clf.predict(X_train)\n",
    "  y_test_pred = clf.predict(X_test)\n",
    "  train_scores[item] = metrics.accuracy_score(y_train, y_train_pred)\n",
    "  train_scores_list.append(metrics.accuracy_score(y_train, y_train_pred))\n",
    "  test_scores[item] = metrics.accuracy_score(y_test, y_test_pred)\n",
    "  test_scores_list.append(metrics.accuracy_score(y_test, y_test_pred))"
   ]
  },
  {
   "cell_type": "code",
   "execution_count": 86,
   "id": "56d48ca7",
   "metadata": {},
   "outputs": [
    {
     "data": {
      "text/plain": [
       "{'linear': 0.7640449438202247,\n",
       " 'poly': 0.797752808988764,\n",
       " 'rbf': 0.8314606741573034,\n",
       " 'sigmoid': 0.7415730337078652}"
      ]
     },
     "execution_count": 86,
     "metadata": {},
     "output_type": "execute_result"
    }
   ],
   "source": [
    "test_scores"
   ]
  },
  {
   "cell_type": "code",
   "execution_count": 87,
   "id": "c5e95572",
   "metadata": {},
   "outputs": [
    {
     "data": {
      "text/plain": [
       "Text(0, 0.5, 'Accuracy')"
      ]
     },
     "execution_count": 87,
     "metadata": {},
     "output_type": "execute_result"
    },
    {
     "data": {
      "image/png": "[encoded data removed]",
      "text/plain": [
       "<Figure size 432x288 with 1 Axes>"
      ]
     },
     "metadata": {
      "needs_background": "light"
     },
     "output_type": "display_data"
    }
   ],
   "source": [
    "#plot the relationship between Kernels and the testing accuracy\n",
    "plt.plot(kernelList, train_scores_list, label = 'Training accuracy')\n",
    "plt.plot(kernelList, test_scores_list, label = 'Testing accuracy')\n",
    "plt.legend(loc=\"upper right\")\n",
    "plt.xlabel('Kernels')\n",
    "plt.ylabel('Accuracy')"
   ]
  },
  {
   "cell_type": "markdown",
   "id": "7b7c58b4",
   "metadata": {},
   "source": [
    "From the plot above, we observe that the best result is obtained when rbf kernel is used. Thus, we will use rbf kernel for further analysis of the experiment."
   ]
  },
  {
   "cell_type": "code",
   "execution_count": 88,
   "id": "d809e80c",
   "metadata": {},
   "outputs": [],
   "source": [
    "#Calculate the training time of model\n",
    "start = time.time()\n",
    "\n",
    "#Train the model using the training sets\n",
    "clf = svm.SVC(kernel = 'rbf')\n",
    "clf.fit(X_train, y_train)\n",
    "\n",
    "#Predict the response for test dataset\n",
    "prediction_test = clf.predict(X_test)\n",
    "\n",
    "#Stop the time calculation\n",
    "stop = time.time()\n",
    "\n",
    "# extra information regarding training set, not included in \"training time of model\"\n",
    "prediction_train = clf.predict(X_train)"
   ]
  },
  {
   "cell_type": "code",
   "execution_count": 89,
   "id": "1de3be5e",
   "metadata": {},
   "outputs": [
    {
     "name": "stdout",
     "output_type": "stream",
     "text": [
      "[Result for training set]\n",
      "Accuracy: 0.8647342995169082\n",
      "Recall: 0.8647342995169082\n",
      "Precision: 0.8701616270054272\n"
     ]
    },
    {
     "data": {
      "text/plain": [
       "<AxesSubplot:>"
      ]
     },
     "execution_count": 89,
     "metadata": {},
     "output_type": "execute_result"
    },
    {
     "data": {
      "image/png": "[encoded data removed]",
      "text/plain": [
       "<Figure size 432x288 with 2 Axes>"
      ]
     },
     "metadata": {
      "needs_background": "light"
     },
     "output_type": "display_data"
    }
   ],
   "source": [
    "print(\"[Result for training set]\")\n",
    "print ('Accuracy:', accuracy_score(y_train, prediction_train))\n",
    "print ('Recall:', recall_score(y_train, prediction_train, average=\"weighted\"))\n",
    "print ('Precision:', precision_score(y_train, prediction_train, average=\"weighted\"))\n",
    "\n",
    "confusion = confusion_matrix(y_train, prediction_train)\n",
    "group_names = ['True Negative', 'False Positive', 'False Negative', 'True Positive']\n",
    "group_counts = ['{0:0.0f}'.format(value) for value in confusion.flatten()]\n",
    "# obtain the class percentage by dividing the count over the number of rows in the testing set\n",
    "group_percentages = ['{0:.2%}'.format(value) for value in confusion.flatten()/np.sum(confusion)]\n",
    "labels = [f'{v1}\\n{v2}\\n{v3}' for v1, v2, v3 in zip(group_names,group_counts,group_percentages)]\n",
    "labels = np.asarray(labels).reshape(2,2)\n",
    "sns.heatmap(confusion, annot=labels, fmt='', cmap='Oranges')"
   ]
  },
  {
   "cell_type": "code",
   "execution_count": 90,
   "id": "9fa794c0",
   "metadata": {},
   "outputs": [
    {
     "name": "stdout",
     "output_type": "stream",
     "text": [
      "[Result for testing set]\n",
      "Training time : 0.00699615478515625s\n",
      "Accuracy: 0.8314606741573034\n",
      "Recall: 0.8314606741573034\n",
      "Precision: 0.8313288236642973\n"
     ]
    },
    {
     "data": {
      "text/plain": [
       "<AxesSubplot:>"
      ]
     },
     "execution_count": 90,
     "metadata": {},
     "output_type": "execute_result"
    },
    {
     "data": {
      "image/png": "[encoded data removed]",
      "text/plain": [
       "<Figure size 432x288 with 2 Axes>"
      ]
     },
     "metadata": {
      "needs_background": "light"
     },
     "output_type": "display_data"
    }
   ],
   "source": [
    "print(\"[Result for testing set]\")\n",
    "print (f\"Training time : {stop-start}s\")\n",
    "print ('Accuracy:', accuracy_score(y_test, prediction_test))\n",
    "print ('Recall:', recall_score(y_test, prediction_test, average=\"weighted\"))\n",
    "print ('Precision:', precision_score(y_test, prediction_test, average=\"weighted\"))\n",
    "\n",
    "confusion = confusion_matrix(y_test, prediction_test)\n",
    "group_names = ['True Negative', 'False Positive', 'False Negative', 'True Positive']\n",
    "group_counts = ['{0:0.0f}'.format(value) for value in confusion.flatten()]\n",
    "# obtain the class percentage by dividing the count over the number of rows in the testing set\n",
    "group_percentages = ['{0:.2%}'.format(value) for value in confusion.flatten()/np.sum(confusion)]\n",
    "labels = [f'{v1}\\n{v2}\\n{v3}' for v1, v2, v3 in zip(group_names,group_counts,group_percentages)]\n",
    "labels = np.asarray(labels).reshape(2,2)\n",
    "sns.heatmap(confusion, annot=labels, fmt='', cmap='Blues')"
   ]
  },
  {
   "cell_type": "markdown",
   "id": "c41a5ffa",
   "metadata": {},
   "source": [
    "# Experiment 9 (80% training, 20% test | All Features)"
   ]
  },
  {
   "cell_type": "code",
   "execution_count": 91,
   "id": "e19c5730",
   "metadata": {},
   "outputs": [],
   "source": [
    "X = df.drop('target', axis = 1)\n",
    "y = df['target']\n",
    "# stratify = y, used to assign percentage for each categories(0, 1) for our target\n",
    "X_train, X_test, y_train, y_test = train_test_split(X,y, stratify = y, test_size = 0.20, random_state = 42)\n",
    "\n",
    "# standardise the data, which is vital for SVM algorithm\n",
    "from sklearn.preprocessing import StandardScaler\n",
    "scaler = StandardScaler()\n",
    "X_train = scaler.fit_transform(X_train)\n",
    "X_test = scaler.transform(X_test)"
   ]
  },
  {
   "cell_type": "code",
   "execution_count": 92,
   "id": "9f9f9e91",
   "metadata": {},
   "outputs": [
    {
     "data": {
      "text/plain": [
       "array([[ 1.81689531, -1.43698819,  1.0177113 , ...,  1.00358458,\n",
       "         0.38462571, -0.65424631],\n",
       "       [ 0.39162433,  0.69589994, -0.93497054, ..., -0.61864803,\n",
       "         0.38462571,  1.1204908 ],\n",
       "       [ 0.83016925, -1.43698819, -0.93497054, ..., -2.24088064,\n",
       "         2.54585587,  1.1204908 ],\n",
       "       ...,\n",
       "       [-1.36255535, -1.43698819,  1.0177113 , ..., -0.61864803,\n",
       "        -0.69598937, -0.65424631],\n",
       "       [-1.25291912,  0.69589994, -0.93497054, ...,  1.00358458,\n",
       "        -0.69598937, -0.65424631],\n",
       "       [ 0.2819881 , -1.43698819, -0.93497054, ...,  1.00358458,\n",
       "         0.38462571, -0.65424631]])"
      ]
     },
     "execution_count": 92,
     "metadata": {},
     "output_type": "execute_result"
    }
   ],
   "source": [
    "X_train"
   ]
  },
  {
   "cell_type": "code",
   "execution_count": 93,
   "id": "b9d99874",
   "metadata": {},
   "outputs": [],
   "source": [
    "kernelList = ['linear', 'poly', 'rbf', 'sigmoid']\n",
    "\n",
    "# Score for training\n",
    "train_scores = {}\n",
    "train_scores_list = []\n",
    "\n",
    "# Scores for testing\n",
    "test_scores = {}\n",
    "test_scores_list = []\n",
    "\n",
    "for item in kernelList:\n",
    "  clf = svm.SVC(kernel=item)\n",
    "  clf.fit(X_train, y_train)\n",
    "  y_train_pred = clf.predict(X_train)\n",
    "  y_test_pred = clf.predict(X_test)\n",
    "  train_scores[item] = metrics.accuracy_score(y_train, y_train_pred)\n",
    "  train_scores_list.append(metrics.accuracy_score(y_train, y_train_pred))\n",
    "  test_scores[item] = metrics.accuracy_score(y_test, y_test_pred)\n",
    "  test_scores_list.append(metrics.accuracy_score(y_test, y_test_pred))"
   ]
  },
  {
   "cell_type": "code",
   "execution_count": 94,
   "id": "390c9bd2",
   "metadata": {},
   "outputs": [
    {
     "data": {
      "text/plain": [
       "{'linear': 0.8166666666666667, 'poly': 0.8, 'rbf': 0.8, 'sigmoid': 0.8}"
      ]
     },
     "execution_count": 94,
     "metadata": {},
     "output_type": "execute_result"
    }
   ],
   "source": [
    "test_scores"
   ]
  },
  {
   "cell_type": "code",
   "execution_count": 95,
   "id": "30045485",
   "metadata": {},
   "outputs": [
    {
     "data": {
      "text/plain": [
       "Text(0, 0.5, 'Accuracy')"
      ]
     },
     "execution_count": 95,
     "metadata": {},
     "output_type": "execute_result"
    },
    {
     "data": {
      "image/png": "[encoded data removed]",
      "text/plain": [
       "<Figure size 432x288 with 1 Axes>"
      ]
     },
     "metadata": {
      "needs_background": "light"
     },
     "output_type": "display_data"
    }
   ],
   "source": [
    "#plot the relationship between Kernels and the testing accuracy\n",
    "plt.plot(kernelList, train_scores_list, label = 'Training accuracy')\n",
    "plt.plot(kernelList, test_scores_list, label = 'Testing accuracy')\n",
    "plt.legend(loc=\"upper right\")\n",
    "plt.xlabel('Kernels')\n",
    "plt.ylabel('Accuracy')"
   ]
  },
  {
   "cell_type": "markdown",
   "id": "791b9289",
   "metadata": {},
   "source": [
    "From the plot above, we observe that the best result is obtained when linear kernel is used. Thus, we will use linear kernel for further analysis of the experiment."
   ]
  },
  {
   "cell_type": "code",
   "execution_count": 96,
   "id": "2cd25f25",
   "metadata": {},
   "outputs": [],
   "source": [
    "#Calculate the training time of model\n",
    "start = time.time()\n",
    "\n",
    "#Train the model using the training sets\n",
    "clf = svm.SVC(kernel = 'linear')\n",
    "clf.fit(X_train, y_train)\n",
    "\n",
    "#Predict the response for test dataset\n",
    "prediction_test = clf.predict(X_test)\n",
    "\n",
    "#Stop the time calculation\n",
    "stop = time.time()\n",
    "\n",
    "# extra information regarding training set, not included in \"training time of model\"\n",
    "prediction_train = clf.predict(X_train)"
   ]
  },
  {
   "cell_type": "code",
   "execution_count": 97,
   "id": "1d2f1585",
   "metadata": {},
   "outputs": [
    {
     "name": "stdout",
     "output_type": "stream",
     "text": [
      "[Result for training set]\n",
      "Accuracy: 0.8771186440677966\n",
      "Recall: 0.8771186440677966\n",
      "Precision: 0.8806840397061894\n"
     ]
    },
    {
     "data": {
      "text/plain": [
       "<AxesSubplot:>"
      ]
     },
     "execution_count": 97,
     "metadata": {},
     "output_type": "execute_result"
    },
    {
     "data": {
      "image/png": "[encoded data removed]",
      "text/plain": [
       "<Figure size 432x288 with 2 Axes>"
      ]
     },
     "metadata": {
      "needs_background": "light"
     },
     "output_type": "display_data"
    }
   ],
   "source": [
    "print(\"[Result for training set]\")\n",
    "print ('Accuracy:', accuracy_score(y_train, prediction_train))\n",
    "print ('Recall:', recall_score(y_train, prediction_train, average=\"weighted\"))\n",
    "print ('Precision:', precision_score(y_train, prediction_train, average=\"weighted\"))\n",
    "\n",
    "confusion = confusion_matrix(y_train, prediction_train)\n",
    "group_names = ['True Negative', 'False Positive', 'False Negative', 'True Positive']\n",
    "group_counts = ['{0:0.0f}'.format(value) for value in confusion.flatten()]\n",
    "# obtain the class percentage by dividing the count over the number of rows in the testing set\n",
    "group_percentages = ['{0:.2%}'.format(value) for value in confusion.flatten()/np.sum(confusion)]\n",
    "labels = [f'{v1}\\n{v2}\\n{v3}' for v1, v2, v3 in zip(group_names,group_counts,group_percentages)]\n",
    "labels = np.asarray(labels).reshape(2,2)\n",
    "sns.heatmap(confusion, annot=labels, fmt='', cmap='Oranges')"
   ]
  },
  {
   "cell_type": "code",
   "execution_count": 98,
   "id": "e798c9c0",
   "metadata": {},
   "outputs": [
    {
     "name": "stdout",
     "output_type": "stream",
     "text": [
      "[Result for testing set]\n",
      "Training time : 0.005997896194458008s\n",
      "Accuracy: 0.8166666666666667\n",
      "Recall: 0.8166666666666667\n",
      "Precision: 0.8166105499438833\n"
     ]
    },
    {
     "data": {
      "text/plain": [
       "<AxesSubplot:>"
      ]
     },
     "execution_count": 98,
     "metadata": {},
     "output_type": "execute_result"
    },
    {
     "data": {
      "image/png": "[encoded data removed]",
      "text/plain": [
       "<Figure size 432x288 with 2 Axes>"
      ]
     },
     "metadata": {
      "needs_background": "light"
     },
     "output_type": "display_data"
    }
   ],
   "source": [
    "print(\"[Result for testing set]\")\n",
    "print (f\"Training time : {stop-start}s\")\n",
    "print ('Accuracy:', accuracy_score(y_test, prediction_test))\n",
    "print ('Recall:', recall_score(y_test, prediction_test, average=\"weighted\"))\n",
    "print ('Precision:', precision_score(y_test, prediction_test, average=\"weighted\"))\n",
    "\n",
    "confusion = confusion_matrix(y_test, prediction_test)\n",
    "group_names = ['True Negative', 'False Positive', 'False Negative', 'True Positive']\n",
    "group_counts = ['{0:0.0f}'.format(value) for value in confusion.flatten()]\n",
    "# obtain the class percentage by dividing the count over the number of rows in the testing set\n",
    "group_percentages = ['{0:.2%}'.format(value) for value in confusion.flatten()/np.sum(confusion)]\n",
    "labels = [f'{v1}\\n{v2}\\n{v3}' for v1, v2, v3 in zip(group_names,group_counts,group_percentages)]\n",
    "labels = np.asarray(labels).reshape(2,2)\n",
    "sns.heatmap(confusion, annot=labels, fmt='', cmap='Blues')"
   ]
  },
  {
   "cell_type": "markdown",
   "id": "1755d863",
   "metadata": {},
   "source": [
    "# Experiment 10 (80% training, 20% test | Top 10 Features Only)"
   ]
  },
  {
   "cell_type": "code",
   "execution_count": 99,
   "id": "a85661c6",
   "metadata": {},
   "outputs": [],
   "source": [
    "X = df[['ca', 'thalach', 'cp', 'exang', 'oldpeak', 'thal', 'age', 'slope', 'trestbps', 'sex']]\n",
    "y = df['target']\n",
    "X_train, X_test, y_train, y_test = train_test_split(X,y, stratify = y, test_size = 0.20, random_state = 42)\n",
    "\n",
    "# standardise the data before being fitted into the SVM algorithm\n",
    "from sklearn.preprocessing import StandardScaler\n",
    "scaler = StandardScaler()\n",
    "X_train = scaler.fit_transform(X_train)\n",
    "X_test = scaler.transform(X_test)"
   ]
  },
  {
   "cell_type": "code",
   "execution_count": 100,
   "id": "f857b50a",
   "metadata": {},
   "outputs": [
    {
     "data": {
      "text/plain": [
       "array([[ 0.38462571, -0.87227647,  1.0177113 , ...,  1.00358458,\n",
       "        -1.26640474, -1.43698819],\n",
       "       [ 0.38462571, -1.96679608, -0.93497054, ..., -0.61864803,\n",
       "         0.77212779,  0.69589994],\n",
       "       [ 2.54585587, -0.21556471, -0.93497054, ..., -2.24088064,\n",
       "         1.56489043, -1.43698819],\n",
       "       ...,\n",
       "       [-0.69598937,  1.01029725,  1.0177113 , ..., -0.61864803,\n",
       "        -0.7001457 , -1.43698819],\n",
       "       [-0.69598937,  0.92273568, -0.93497054, ...,  1.00358458,\n",
       "         0.9986314 ,  0.69589994],\n",
       "       [ 0.38462571,  0.39736627, -0.93497054, ...,  1.00358458,\n",
       "        -0.24713848, -1.43698819]])"
      ]
     },
     "execution_count": 100,
     "metadata": {},
     "output_type": "execute_result"
    }
   ],
   "source": [
    "X_train"
   ]
  },
  {
   "cell_type": "code",
   "execution_count": 101,
   "id": "3af9701d",
   "metadata": {},
   "outputs": [],
   "source": [
    "kernelList = ['linear', 'poly', 'rbf', 'sigmoid']\n",
    "\n",
    "# Score for training\n",
    "train_scores = {}\n",
    "train_scores_list = []\n",
    "\n",
    "# Scores for testing\n",
    "test_scores = {}\n",
    "test_scores_list = []\n",
    "\n",
    "for item in kernelList:\n",
    "  clf = svm.SVC(kernel=item)\n",
    "  clf.fit(X_train, y_train)\n",
    "  y_train_pred = clf.predict(X_train)\n",
    "  y_test_pred = clf.predict(X_test)\n",
    "  train_scores[item] = metrics.accuracy_score(y_train, y_train_pred)\n",
    "  train_scores_list.append(metrics.accuracy_score(y_train, y_train_pred))\n",
    "  test_scores[item] = metrics.accuracy_score(y_test, y_test_pred)\n",
    "  test_scores_list.append(metrics.accuracy_score(y_test, y_test_pred))"
   ]
  },
  {
   "cell_type": "code",
   "execution_count": 102,
   "id": "3ba82b27",
   "metadata": {},
   "outputs": [
    {
     "data": {
      "text/plain": [
       "{'linear': 0.8,\n",
       " 'poly': 0.8,\n",
       " 'rbf': 0.7833333333333333,\n",
       " 'sigmoid': 0.8166666666666667}"
      ]
     },
     "execution_count": 102,
     "metadata": {},
     "output_type": "execute_result"
    }
   ],
   "source": [
    "test_scores"
   ]
  },
  {
   "cell_type": "code",
   "execution_count": 103,
   "id": "14301498",
   "metadata": {},
   "outputs": [
    {
     "data": {
      "text/plain": [
       "Text(0, 0.5, 'Accuracy')"
      ]
     },
     "execution_count": 103,
     "metadata": {},
     "output_type": "execute_result"
    },
    {
     "data": {
      "image/png": "[encoded data removed]",
      "text/plain": [
       "<Figure size 432x288 with 1 Axes>"
      ]
     },
     "metadata": {
      "needs_background": "light"
     },
     "output_type": "display_data"
    }
   ],
   "source": [
    "#plot the relationship between Kernels and the testing accuracy\n",
    "plt.plot(kernelList, train_scores_list, label = 'Training accuracy')\n",
    "plt.plot(kernelList, test_scores_list, label = 'Testing accuracy')\n",
    "plt.legend(loc=\"upper right\")\n",
    "plt.xlabel('Kernels')\n",
    "plt.ylabel('Accuracy')"
   ]
  },
  {
   "cell_type": "markdown",
   "id": "a74fcbdb",
   "metadata": {},
   "source": [
    "From the plot above, we observe that the best result is obtained when sigmois kernel is used. Thus, we will use sigmoid kernel for further analysis of the experiment."
   ]
  },
  {
   "cell_type": "code",
   "execution_count": 104,
   "id": "7857559d",
   "metadata": {},
   "outputs": [],
   "source": [
    "#Calculate the training time of model\n",
    "start = time.time()\n",
    "\n",
    "#Train the model using the training sets\n",
    "clf = svm.SVC(kernel = 'sigmoid')\n",
    "clf.fit(X_train, y_train)\n",
    "\n",
    "#Predict the response for test dataset\n",
    "prediction_test = clf.predict(X_test)\n",
    "\n",
    "#Stop the time calculation\n",
    "stop = time.time()\n",
    "\n",
    "# extra information regarding training set, not included in \"training time of model\"\n",
    "prediction_train = clf.predict(X_train)"
   ]
  },
  {
   "cell_type": "code",
   "execution_count": 105,
   "id": "2298df28",
   "metadata": {},
   "outputs": [
    {
     "name": "stdout",
     "output_type": "stream",
     "text": [
      "[Result for training set]\n",
      "Accuracy: 0.8601694915254238\n",
      "Recall: 0.8601694915254238\n",
      "Precision: 0.8662564787637844\n"
     ]
    },
    {
     "data": {
      "text/plain": [
       "<AxesSubplot:>"
      ]
     },
     "execution_count": 105,
     "metadata": {},
     "output_type": "execute_result"
    },
    {
     "data": {
      "image/png": "[encoded data removed]",
      "text/plain": [
       "<Figure size 432x288 with 2 Axes>"
      ]
     },
     "metadata": {
      "needs_background": "light"
     },
     "output_type": "display_data"
    }
   ],
   "source": [
    "print(\"[Result for training set]\")\n",
    "print ('Accuracy:', accuracy_score(y_train, prediction_train))\n",
    "print ('Recall:', recall_score(y_train, prediction_train, average=\"weighted\"))\n",
    "print ('Precision:', precision_score(y_train, prediction_train, average=\"weighted\"))\n",
    "\n",
    "confusion = confusion_matrix(y_train, prediction_train)\n",
    "group_names = ['True Negative', 'False Positive', 'False Negative', 'True Positive']\n",
    "group_counts = ['{0:0.0f}'.format(value) for value in confusion.flatten()]\n",
    "# obtain the class percentage by dividing the count over the number of rows in the testing set\n",
    "group_percentages = ['{0:.2%}'.format(value) for value in confusion.flatten()/np.sum(confusion)]\n",
    "labels = [f'{v1}\\n{v2}\\n{v3}' for v1, v2, v3 in zip(group_names,group_counts,group_percentages)]\n",
    "labels = np.asarray(labels).reshape(2,2)\n",
    "sns.heatmap(confusion, annot=labels, fmt='', cmap='Oranges')"
   ]
  },
  {
   "cell_type": "code",
   "execution_count": 106,
   "id": "01851fd5",
   "metadata": {},
   "outputs": [
    {
     "name": "stdout",
     "output_type": "stream",
     "text": [
      "[Result for testing set]\n",
      "Training time : 0.004998445510864258s\n",
      "Accuracy: 0.8166666666666667\n",
      "Recall: 0.8166666666666667\n",
      "Precision: 0.8186666666666668\n"
     ]
    },
    {
     "data": {
      "text/plain": [
       "<AxesSubplot:>"
      ]
     },
     "execution_count": 106,
     "metadata": {},
     "output_type": "execute_result"
    },
    {
     "data": {
      "image/png": "[encoded data removed]",
      "text/plain": [
       "<Figure size 432x288 with 2 Axes>"
      ]
     },
     "metadata": {
      "needs_background": "light"
     },
     "output_type": "display_data"
    }
   ],
   "source": [
    "print(\"[Result for testing set]\")\n",
    "print (f\"Training time : {stop-start}s\")\n",
    "print ('Accuracy:', accuracy_score(y_test, prediction_test))\n",
    "print ('Recall:', recall_score(y_test, prediction_test, average=\"weighted\"))\n",
    "print ('Precision:', precision_score(y_test, prediction_test, average=\"weighted\"))\n",
    "\n",
    "confusion = confusion_matrix(y_test, prediction_test)\n",
    "group_names = ['True Negative', 'False Positive', 'False Negative', 'True Positive']\n",
    "group_counts = ['{0:0.0f}'.format(value) for value in confusion.flatten()]\n",
    "# obtain the class percentage by dividing the count over the number of rows in the testing set\n",
    "group_percentages = ['{0:.2%}'.format(value) for value in confusion.flatten()/np.sum(confusion)]\n",
    "labels = [f'{v1}\\n{v2}\\n{v3}' for v1, v2, v3 in zip(group_names,group_counts,group_percentages)]\n",
    "labels = np.asarray(labels).reshape(2,2)\n",
    "sns.heatmap(confusion, annot=labels, fmt='', cmap='Blues')"
   ]
  },
  {
   "cell_type": "markdown",
   "id": "e3e56e4f",
   "metadata": {},
   "source": [
    "# Experiment 11 (80% training, 20% test | Top 8 Features Only)"
   ]
  },
  {
   "cell_type": "code",
   "execution_count": 107,
   "id": "fd184d2a",
   "metadata": {},
   "outputs": [],
   "source": [
    "X = df[['ca', 'thalach', 'cp', 'exang', 'oldpeak', 'thal', 'age', 'slope']]\n",
    "y = df['target']\n",
    "X_train, X_test, y_train, y_test = train_test_split(X,y, stratify = y, test_size = 0.20, random_state = 42)\n",
    "\n",
    "# standardise the data before being fitted into the SVM algorithm\n",
    "from sklearn.preprocessing import StandardScaler\n",
    "scaler = StandardScaler()\n",
    "X_train = scaler.fit_transform(X_train)\n",
    "X_test = scaler.transform(X_test)"
   ]
  },
  {
   "cell_type": "code",
   "execution_count": 108,
   "id": "2dccd8e1",
   "metadata": {},
   "outputs": [
    {
     "data": {
      "text/plain": [
       "array([[ 0.38462571, -0.87227647,  1.0177113 , ..., -0.65424631,\n",
       "         1.81689531,  1.00358458],\n",
       "       [ 0.38462571, -1.96679608, -0.93497054, ...,  1.1204908 ,\n",
       "         0.39162433, -0.61864803],\n",
       "       [ 2.54585587, -0.21556471, -0.93497054, ...,  1.1204908 ,\n",
       "         0.83016925, -2.24088064],\n",
       "       ...,\n",
       "       [-0.69598937,  1.01029725,  1.0177113 , ..., -0.65424631,\n",
       "        -1.36255535, -0.61864803],\n",
       "       [-0.69598937,  0.92273568, -0.93497054, ..., -0.65424631,\n",
       "        -1.25291912,  1.00358458],\n",
       "       [ 0.38462571,  0.39736627, -0.93497054, ..., -0.65424631,\n",
       "         0.2819881 ,  1.00358458]])"
      ]
     },
     "execution_count": 108,
     "metadata": {},
     "output_type": "execute_result"
    }
   ],
   "source": [
    "X_train"
   ]
  },
  {
   "cell_type": "code",
   "execution_count": 109,
   "id": "04a2bd5b",
   "metadata": {},
   "outputs": [],
   "source": [
    "kernelList = ['linear', 'poly', 'rbf', 'sigmoid']\n",
    "\n",
    "# Score for training\n",
    "train_scores = {}\n",
    "train_scores_list = []\n",
    "\n",
    "# Scores for testing\n",
    "test_scores = {}\n",
    "test_scores_list = []\n",
    "\n",
    "for item in kernelList:\n",
    "  clf = svm.SVC(kernel=item)\n",
    "  clf.fit(X_train, y_train)\n",
    "  y_train_pred = clf.predict(X_train)\n",
    "  y_test_pred = clf.predict(X_test)\n",
    "  train_scores[item] = metrics.accuracy_score(y_train, y_train_pred)\n",
    "  train_scores_list.append(metrics.accuracy_score(y_train, y_train_pred))\n",
    "  test_scores[item] = metrics.accuracy_score(y_test, y_test_pred)\n",
    "  test_scores_list.append(metrics.accuracy_score(y_test, y_test_pred))"
   ]
  },
  {
   "cell_type": "code",
   "execution_count": 110,
   "id": "bbd40939",
   "metadata": {},
   "outputs": [
    {
     "data": {
      "text/plain": [
       "{'linear': 0.8,\n",
       " 'poly': 0.7333333333333333,\n",
       " 'rbf': 0.7666666666666667,\n",
       " 'sigmoid': 0.7666666666666667}"
      ]
     },
     "execution_count": 110,
     "metadata": {},
     "output_type": "execute_result"
    }
   ],
   "source": [
    "test_scores"
   ]
  },
  {
   "cell_type": "code",
   "execution_count": 111,
   "id": "184bfcba",
   "metadata": {},
   "outputs": [
    {
     "data": {
      "text/plain": [
       "Text(0, 0.5, 'Accuracy')"
      ]
     },
     "execution_count": 111,
     "metadata": {},
     "output_type": "execute_result"
    },
    {
     "data": {
      "image/png": "[encoded data removed]",
      "text/plain": [
       "<Figure size 432x288 with 1 Axes>"
      ]
     },
     "metadata": {
      "needs_background": "light"
     },
     "output_type": "display_data"
    }
   ],
   "source": [
    "#plot the relationship between Kernels and the testing accuracy\n",
    "plt.plot(kernelList, train_scores_list, label = 'Training accuracy')\n",
    "plt.plot(kernelList, test_scores_list, label = 'Testing accuracy')\n",
    "plt.legend(loc=\"upper right\")\n",
    "plt.xlabel('Kernels')\n",
    "plt.ylabel('Accuracy')"
   ]
  },
  {
   "cell_type": "markdown",
   "id": "88986257",
   "metadata": {},
   "source": [
    "From the plot above, we observe that the best result is obtained when linear kernel is used. Thus, we will use linear kernel for further analysis of the experiment."
   ]
  },
  {
   "cell_type": "code",
   "execution_count": 112,
   "id": "d2816f6c",
   "metadata": {},
   "outputs": [],
   "source": [
    "#Calculate the training time of model\n",
    "start = time.time()\n",
    "\n",
    "#Train the model using the training sets\n",
    "clf = svm.SVC(kernel = 'linear')\n",
    "clf.fit(X_train, y_train)\n",
    "\n",
    "#Predict the response for test dataset\n",
    "prediction_test = clf.predict(X_test)\n",
    "\n",
    "#Stop the time calculation\n",
    "stop = time.time()\n",
    "\n",
    "# extra information regarding training set, not included in \"training time of model\"\n",
    "prediction_train = clf.predict(X_train)"
   ]
  },
  {
   "cell_type": "code",
   "execution_count": 113,
   "id": "db0d8cc4",
   "metadata": {},
   "outputs": [
    {
     "name": "stdout",
     "output_type": "stream",
     "text": [
      "[Result for training set]\n",
      "Accuracy: 0.8686440677966102\n",
      "Recall: 0.8686440677966102\n",
      "Precision: 0.8750258508294745\n"
     ]
    },
    {
     "data": {
      "text/plain": [
       "<AxesSubplot:>"
      ]
     },
     "execution_count": 113,
     "metadata": {},
     "output_type": "execute_result"
    },
    {
     "data": {
      "image/png": "[encoded data removed]",
      "text/plain": [
       "<Figure size 432x288 with 2 Axes>"
      ]
     },
     "metadata": {
      "needs_background": "light"
     },
     "output_type": "display_data"
    }
   ],
   "source": [
    "print(\"[Result for training set]\")\n",
    "print ('Accuracy:', accuracy_score(y_train, prediction_train))\n",
    "print ('Recall:', recall_score(y_train, prediction_train, average=\"weighted\"))\n",
    "print ('Precision:', precision_score(y_train, prediction_train, average=\"weighted\"))\n",
    "\n",
    "confusion = confusion_matrix(y_train, prediction_train)\n",
    "group_names = ['True Negative', 'False Positive', 'False Negative', 'True Positive']\n",
    "group_counts = ['{0:0.0f}'.format(value) for value in confusion.flatten()]\n",
    "# obtain the class percentage by dividing the count over the number of rows in the testing set\n",
    "group_percentages = ['{0:.2%}'.format(value) for value in confusion.flatten()/np.sum(confusion)]\n",
    "labels = [f'{v1}\\n{v2}\\n{v3}' for v1, v2, v3 in zip(group_names,group_counts,group_percentages)]\n",
    "labels = np.asarray(labels).reshape(2,2)\n",
    "sns.heatmap(confusion, annot=labels, fmt='', cmap='Oranges')"
   ]
  },
  {
   "cell_type": "code",
   "execution_count": 114,
   "id": "13483d46",
   "metadata": {},
   "outputs": [
    {
     "name": "stdout",
     "output_type": "stream",
     "text": [
      "[Result for testing set]\n",
      "Training time : 0.003998517990112305s\n",
      "Accuracy: 0.8\n",
      "Recall: 0.8\n",
      "Precision: 0.8037037037037038\n"
     ]
    },
    {
     "data": {
      "text/plain": [
       "<AxesSubplot:>"
      ]
     },
     "execution_count": 114,
     "metadata": {},
     "output_type": "execute_result"
    },
    {
     "data": {
      "image/png": "[encoded data removed]",
      "text/plain": [
       "<Figure size 432x288 with 2 Axes>"
      ]
     },
     "metadata": {
      "needs_background": "light"
     },
     "output_type": "display_data"
    }
   ],
   "source": [
    "print(\"[Result for testing set]\")\n",
    "print (f\"Training time : {stop-start}s\")\n",
    "print ('Accuracy:', accuracy_score(y_test, prediction_test))\n",
    "print ('Recall:', recall_score(y_test, prediction_test, average=\"weighted\"))\n",
    "print ('Precision:', precision_score(y_test, prediction_test, average=\"weighted\"))\n",
    "\n",
    "confusion = confusion_matrix(y_test, prediction_test)\n",
    "group_names = ['True Negative', 'False Positive', 'False Negative', 'True Positive']\n",
    "group_counts = ['{0:0.0f}'.format(value) for value in confusion.flatten()]\n",
    "# obtain the class percentage by dividing the count over the number of rows in the testing set\n",
    "group_percentages = ['{0:.2%}'.format(value) for value in confusion.flatten()/np.sum(confusion)]\n",
    "labels = [f'{v1}\\n{v2}\\n{v3}' for v1, v2, v3 in zip(group_names,group_counts,group_percentages)]\n",
    "labels = np.asarray(labels).reshape(2,2)\n",
    "sns.heatmap(confusion, annot=labels, fmt='', cmap='Blues')"
   ]
  },
  {
   "cell_type": "markdown",
   "id": "ecb94e09",
   "metadata": {},
   "source": [
    "# Experiment 12 (80% training, 20% test | Top 5 Features Only)"
   ]
  },
  {
   "cell_type": "code",
   "execution_count": 115,
   "id": "79d36c27",
   "metadata": {},
   "outputs": [],
   "source": [
    "X = df[['ca', 'thalach', 'cp', 'exang', 'oldpeak']]\n",
    "y = df['target']\n",
    "X_train, X_test, y_train, y_test = train_test_split(X,y, stratify = y, test_size = 0.20, random_state = 42)\n",
    "\n",
    "# standardise the data before being fitted into the SVM algorithm\n",
    "from sklearn.preprocessing import StandardScaler\n",
    "scaler = StandardScaler()\n",
    "X_train = scaler.fit_transform(X_train)\n",
    "X_test = scaler.transform(X_test)"
   ]
  },
  {
   "cell_type": "code",
   "execution_count": 116,
   "id": "55317edd",
   "metadata": {},
   "outputs": [
    {
     "data": {
      "text/plain": [
       "array([[ 0.38462571, -0.87227647,  1.0177113 , -0.68920244, -0.91399602],\n",
       "       [ 0.38462571, -1.96679608, -0.93497054, -0.68920244,  0.75230804],\n",
       "       [ 2.54585587, -0.21556471, -0.93497054, -0.68920244,  4.25154656],\n",
       "       ...,\n",
       "       [-0.69598937,  1.01029725,  1.0177113 , -0.68920244, -0.91399602],\n",
       "       [-0.69598937,  0.92273568, -0.93497054, -0.68920244,  0.33573202],\n",
       "       [ 0.38462571,  0.39736627, -0.93497054, -0.68920244, -0.91399602]])"
      ]
     },
     "execution_count": 116,
     "metadata": {},
     "output_type": "execute_result"
    }
   ],
   "source": [
    "X_train"
   ]
  },
  {
   "cell_type": "code",
   "execution_count": 117,
   "id": "f7d8668f",
   "metadata": {},
   "outputs": [],
   "source": [
    "kernelList = ['linear', 'poly', 'rbf', 'sigmoid']\n",
    "\n",
    "# Score for training\n",
    "train_scores = {}\n",
    "train_scores_list = []\n",
    "\n",
    "# Scores for testing\n",
    "test_scores = {}\n",
    "test_scores_list = []\n",
    "\n",
    "for item in kernelList:\n",
    "  clf = svm.SVC(kernel=item)\n",
    "  clf.fit(X_train, y_train)\n",
    "  y_train_pred = clf.predict(X_train)\n",
    "  y_test_pred = clf.predict(X_test)\n",
    "  train_scores[item] = metrics.accuracy_score(y_train, y_train_pred)\n",
    "  train_scores_list.append(metrics.accuracy_score(y_train, y_train_pred))\n",
    "  test_scores[item] = metrics.accuracy_score(y_test, y_test_pred)\n",
    "  test_scores_list.append(metrics.accuracy_score(y_test, y_test_pred))"
   ]
  },
  {
   "cell_type": "code",
   "execution_count": 118,
   "id": "55df64db",
   "metadata": {},
   "outputs": [
    {
     "data": {
      "text/plain": [
       "{'linear': 0.7166666666666667,\n",
       " 'poly': 0.7166666666666667,\n",
       " 'rbf': 0.8,\n",
       " 'sigmoid': 0.6833333333333333}"
      ]
     },
     "execution_count": 118,
     "metadata": {},
     "output_type": "execute_result"
    }
   ],
   "source": [
    "test_scores"
   ]
  },
  {
   "cell_type": "code",
   "execution_count": 119,
   "id": "86e2389c",
   "metadata": {},
   "outputs": [
    {
     "data": {
      "text/plain": [
       "Text(0, 0.5, 'Accuracy')"
      ]
     },
     "execution_count": 119,
     "metadata": {},
     "output_type": "execute_result"
    },
    {
     "data": {
      "image/png": "[encoded data removed]",
      "text/plain": [
       "<Figure size 432x288 with 1 Axes>"
      ]
     },
     "metadata": {
      "needs_background": "light"
     },
     "output_type": "display_data"
    }
   ],
   "source": [
    "#plot the relationship between Kernels and the testing accuracy\n",
    "plt.plot(kernelList, train_scores_list, label = 'Training accuracy')\n",
    "plt.plot(kernelList, test_scores_list, label = 'Testing accuracy')\n",
    "plt.legend(loc=\"upper right\")\n",
    "plt.xlabel('Kernels')\n",
    "plt.ylabel('Accuracy')"
   ]
  },
  {
   "cell_type": "markdown",
   "id": "f81d0057",
   "metadata": {},
   "source": [
    "From the plot above, we observe that the best result is obtained when rbf kernel is used. Thus, we will use lrbf kernel for further analysis of the experiment."
   ]
  },
  {
   "cell_type": "code",
   "execution_count": 120,
   "id": "ccadc46d",
   "metadata": {},
   "outputs": [],
   "source": [
    "#Calculate the training time of model\n",
    "start = time.time()\n",
    "\n",
    "#Train the model using the training sets\n",
    "clf = svm.SVC(kernel = 'rbf')\n",
    "clf.fit(X_train, y_train)\n",
    "\n",
    "#Predict the response for test dataset\n",
    "prediction_test = clf.predict(X_test)\n",
    "\n",
    "#Stop the time calculation\n",
    "stop = time.time()\n",
    "\n",
    "# extra information regarding training set, not included in \"training time of model\"\n",
    "prediction_train = clf.predict(X_train)"
   ]
  },
  {
   "cell_type": "code",
   "execution_count": 121,
   "id": "a935ac4a",
   "metadata": {},
   "outputs": [
    {
     "name": "stdout",
     "output_type": "stream",
     "text": [
      "[Result for training set]\n",
      "Accuracy: 0.8686440677966102\n",
      "Recall: 0.8686440677966102\n",
      "Precision: 0.8720202959616857\n"
     ]
    },
    {
     "data": {
      "text/plain": [
       "<AxesSubplot:>"
      ]
     },
     "execution_count": 121,
     "metadata": {},
     "output_type": "execute_result"
    },
    {
     "data": {
      "image/png": "[encoded data removed]",
      "text/plain": [
       "<Figure size 432x288 with 2 Axes>"
      ]
     },
     "metadata": {
      "needs_background": "light"
     },
     "output_type": "display_data"
    }
   ],
   "source": [
    "print(\"[Result for training set]\")\n",
    "print ('Accuracy:', accuracy_score(y_train, prediction_train))\n",
    "print ('Recall:', recall_score(y_train, prediction_train, average=\"weighted\"))\n",
    "print ('Precision:', precision_score(y_train, prediction_train, average=\"weighted\"))\n",
    "\n",
    "confusion = confusion_matrix(y_train, prediction_train)\n",
    "group_names = ['True Negative', 'False Positive', 'False Negative', 'True Positive']\n",
    "group_counts = ['{0:0.0f}'.format(value) for value in confusion.flatten()]\n",
    "# obtain the class percentage by dividing the count over the number of rows in the testing set\n",
    "group_percentages = ['{0:.2%}'.format(value) for value in confusion.flatten()/np.sum(confusion)]\n",
    "labels = [f'{v1}\\n{v2}\\n{v3}' for v1, v2, v3 in zip(group_names,group_counts,group_percentages)]\n",
    "labels = np.asarray(labels).reshape(2,2)\n",
    "sns.heatmap(confusion, annot=labels, fmt='', cmap='Oranges')"
   ]
  },
  {
   "cell_type": "code",
   "execution_count": 122,
   "id": "8df96dc4",
   "metadata": {},
   "outputs": [
    {
     "name": "stdout",
     "output_type": "stream",
     "text": [
      "[Result for testing set]\n",
      "Training time : 0.006995677947998047s\n",
      "Accuracy: 0.8\n",
      "Recall: 0.8\n",
      "Precision: 0.8004524886877828\n"
     ]
    },
    {
     "data": {
      "text/plain": [
       "<AxesSubplot:>"
      ]
     },
     "execution_count": 122,
     "metadata": {},
     "output_type": "execute_result"
    },
    {
     "data": {
      "image/png": "[encoded data removed]",
      "text/plain": [
       "<Figure size 432x288 with 2 Axes>"
      ]
     },
     "metadata": {
      "needs_background": "light"
     },
     "output_type": "display_data"
    }
   ],
   "source": [
    "print(\"[Result for testing set]\")\n",
    "print (f\"Training time : {stop-start}s\")\n",
    "print ('Accuracy:', accuracy_score(y_test, prediction_test))\n",
    "print ('Recall:', recall_score(y_test, prediction_test, average=\"weighted\"))\n",
    "print ('Precision:', precision_score(y_test, prediction_test, average=\"weighted\"))\n",
    "\n",
    "confusion = confusion_matrix(y_test, prediction_test)\n",
    "group_names = ['True Negative', 'False Positive', 'False Negative', 'True Positive']\n",
    "group_counts = ['{0:0.0f}'.format(value) for value in confusion.flatten()]\n",
    "# obtain the class percentage by dividing the count over the number of rows in the testing set\n",
    "group_percentages = ['{0:.2%}'.format(value) for value in confusion.flatten()/np.sum(confusion)]\n",
    "labels = [f'{v1}\\n{v2}\\n{v3}' for v1, v2, v3 in zip(group_names,group_counts,group_percentages)]\n",
    "labels = np.asarray(labels).reshape(2,2)\n",
    "sns.heatmap(confusion, annot=labels, fmt='', cmap='Blues')"
   ]
  },
  {
   "cell_type": "markdown",
   "id": "cc9f469f",
   "metadata": {},
   "source": [
    "# Concluding Remark\n",
    "\n",
    "The experiment with the best performance among the 12 experiments is Experiment 3, where the dataset is split into 60% training, 40% test, and only the top 8 features are included. The performance of the model is as below:"
   ]
  },
  {
   "cell_type": "markdown",
   "id": "c913e616",
   "metadata": {},
   "source": [
    "Accuracy: 0.8487394957983193\n",
    "\n",
    "Recall: 0.8487394957983193\n",
    "\n",
    "Precision: 0.8537258875181278\n"
   ]
  },
  {
   "attachments": {
    "download1.png": {
     "image/png": "[encoded data removed]"
    }
   },
   "cell_type": "markdown",
   "id": "1a3a36e0",
   "metadata": {},
   "source": [
    "![download1.png](attachment:download1.png)"
   ]
  },
  {
   "cell_type": "markdown",
   "id": "5224f593",
   "metadata": {},
   "source": [
    "Meanwhile, experiment 12 has the worst performance among all the experiments. The dataset is split into 80% Training, 20% Testing with the top 5 features are involved only. The performance of the model is as below:"
   ]
  },
  {
   "cell_type": "markdown",
   "id": "86faf751",
   "metadata": {},
   "source": [
    "Accuracy: 0.8\n",
    "\n",
    "Recall: 0.8\n",
    "\n",
    "Precision: 0.8004524886877828\n"
   ]
  },
  {
   "attachments": {
    "download2.png": {
     "image/png": "[encoded data removed]"
    }
   },
   "cell_type": "markdown",
   "id": "72da49f5",
   "metadata": {},
   "source": [
    "![download2.png](attachment:download2.png)"
   ]
  }
 ],
 "metadata": {
  "kernelspec": {
   "display_name": "Python 3 (ipykernel)",
   "language": "python",
   "name": "python3"
  },
  "language_info": {
   "codemirror_mode": {
    "name": "ipython",
    "version": 3
   },
   "file_extension": ".py",
   "mimetype": "text/x-python",
   "name": "python",
   "nbconvert_exporter": "python",
   "pygments_lexer": "ipython3",
   "version": "3.9.7"
  },
  "vscode": {
   "interpreter": {
    "hash": "c74247f29e551a87d0d37bfd58fa8d94c15de00e53ea233771af852ce4d60b96"
   }
  }
 },
 "nbformat": 4,
 "nbformat_minor": 5
}
